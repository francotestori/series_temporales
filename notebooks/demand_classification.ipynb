{
 "cells": [
  {
   "cell_type": "code",
   "execution_count": 77,
   "metadata": {
    "collapsed": true
   },
   "outputs": [],
   "source": [
    "import pandas as pd\n",
    "import seaborn as sns\n",
    "\n",
    "from pandas import DataFrame"
   ]
  },
  {
   "cell_type": "code",
   "execution_count": 78,
   "outputs": [],
   "source": [
    "train_store = pd.read_pickle(\"../data/1_train_store_preprocessed.pkl\")\\\n",
    "    .sort_values(['Store','Date'])\n",
    "train_store = train_store[train_store.DayOfWeek < 7]\n",
    "\n",
    "test_store = pd.read_pickle(\"../data/1_test_store_preprocessed.pkl\")\\\n",
    "    .sort_values(['Store','Date'])\n",
    "test_store = test_store[test_store.DayOfWeek < 7]"
   ],
   "metadata": {
    "collapsed": false,
    "pycharm": {
     "name": "#%%\n"
    }
   }
  },
  {
   "cell_type": "code",
   "execution_count": 79,
   "outputs": [],
   "source": [
    "# Utilizo las mismas tiendas que busco predecir\n",
    "train_store = train_store[train_store.Store.isin(test_store.Store.unique())]"
   ],
   "metadata": {
    "collapsed": false,
    "pycharm": {
     "name": "#%%\n"
    }
   }
  },
  {
   "cell_type": "code",
   "execution_count": 80,
   "outputs": [
    {
     "data": {
      "text/plain": "     Store       average           sd    cv_sqr\n0        1   4600.066832  1312.455160  0.081403\n1        3   6693.392327  2511.563403  0.140798\n2        7   8576.982673  2809.607516  0.107306\n3        8   5374.823020  2089.579967  0.151144\n4        9   6326.808168  2012.259979  0.101158\n..     ...           ...          ...       ...\n851   1111   5063.212871  1906.980624  0.141854\n852   1112   9869.175743  3788.467487  0.147355\n853   1113   6430.992574  1823.702855  0.080418\n854   1114  20052.704208  4888.044210  0.059419\n855   1115   6091.867574  2042.344945  0.112398\n\n[856 rows x 4 columns]",
      "text/html": "<div>\n<style scoped>\n    .dataframe tbody tr th:only-of-type {\n        vertical-align: middle;\n    }\n\n    .dataframe tbody tr th {\n        vertical-align: top;\n    }\n\n    .dataframe thead th {\n        text-align: right;\n    }\n</style>\n<table border=\"1\" class=\"dataframe\">\n  <thead>\n    <tr style=\"text-align: right;\">\n      <th></th>\n      <th>Store</th>\n      <th>average</th>\n      <th>sd</th>\n      <th>cv_sqr</th>\n    </tr>\n  </thead>\n  <tbody>\n    <tr>\n      <th>0</th>\n      <td>1</td>\n      <td>4600.066832</td>\n      <td>1312.455160</td>\n      <td>0.081403</td>\n    </tr>\n    <tr>\n      <th>1</th>\n      <td>3</td>\n      <td>6693.392327</td>\n      <td>2511.563403</td>\n      <td>0.140798</td>\n    </tr>\n    <tr>\n      <th>2</th>\n      <td>7</td>\n      <td>8576.982673</td>\n      <td>2809.607516</td>\n      <td>0.107306</td>\n    </tr>\n    <tr>\n      <th>3</th>\n      <td>8</td>\n      <td>5374.823020</td>\n      <td>2089.579967</td>\n      <td>0.151144</td>\n    </tr>\n    <tr>\n      <th>4</th>\n      <td>9</td>\n      <td>6326.808168</td>\n      <td>2012.259979</td>\n      <td>0.101158</td>\n    </tr>\n    <tr>\n      <th>...</th>\n      <td>...</td>\n      <td>...</td>\n      <td>...</td>\n      <td>...</td>\n    </tr>\n    <tr>\n      <th>851</th>\n      <td>1111</td>\n      <td>5063.212871</td>\n      <td>1906.980624</td>\n      <td>0.141854</td>\n    </tr>\n    <tr>\n      <th>852</th>\n      <td>1112</td>\n      <td>9869.175743</td>\n      <td>3788.467487</td>\n      <td>0.147355</td>\n    </tr>\n    <tr>\n      <th>853</th>\n      <td>1113</td>\n      <td>6430.992574</td>\n      <td>1823.702855</td>\n      <td>0.080418</td>\n    </tr>\n    <tr>\n      <th>854</th>\n      <td>1114</td>\n      <td>20052.704208</td>\n      <td>4888.044210</td>\n      <td>0.059419</td>\n    </tr>\n    <tr>\n      <th>855</th>\n      <td>1115</td>\n      <td>6091.867574</td>\n      <td>2042.344945</td>\n      <td>0.112398</td>\n    </tr>\n  </tbody>\n</table>\n<p>856 rows × 4 columns</p>\n</div>"
     },
     "execution_count": 80,
     "metadata": {},
     "output_type": "execute_result"
    }
   ],
   "source": [
    "# Coeficiente de Variacion\n",
    "cv_data = train_store\\\n",
    "    .groupby('Store')\\\n",
    "    .agg(\n",
    "        average=('Sales','mean'),\n",
    "        sd=('Sales','std')\n",
    "    )\\\n",
    "    .reset_index()\n",
    "\n",
    "\n",
    "cv_data['cv_sqr'] = (cv_data['sd']/cv_data['average'])**2\n",
    "cv_data"
   ],
   "metadata": {
    "collapsed": false,
    "pycharm": {
     "name": "#%%\n"
    }
   }
  },
  {
   "cell_type": "code",
   "execution_count": 81,
   "outputs": [
    {
     "name": "stderr",
     "output_type": "stream",
     "text": [
      "/var/folders/nj/1348lmsd03181pj1pqgz48_w0000gp/T/ipykernel_17300/1992771824.py:4: SettingWithCopyWarning: \n",
      "A value is trying to be set on a copy of a slice from a DataFrame.\n",
      "Try using .loc[row_indexer,col_indexer] = value instead\n",
      "\n",
      "See the caveats in the documentation: https://pandas.pydata.org/pandas-docs/stable/user_guide/indexing.html#returning-a-view-versus-a-copy\n",
      "  df_adi['Previous_Sale_Date'] = train_store.groupby('Store').Date.shift()\n",
      "/var/folders/nj/1348lmsd03181pj1pqgz48_w0000gp/T/ipykernel_17300/1992771824.py:7: SettingWithCopyWarning: \n",
      "A value is trying to be set on a copy of a slice from a DataFrame.\n",
      "Try using .loc[row_indexer,col_indexer] = value instead\n",
      "\n",
      "See the caveats in the documentation: https://pandas.pydata.org/pandas-docs/stable/user_guide/indexing.html#returning-a-view-versus-a-copy\n",
      "  df_adi['Interval'] = intervals.astype(str).str.replace('days','')\n",
      "/var/folders/nj/1348lmsd03181pj1pqgz48_w0000gp/T/ipykernel_17300/1992771824.py:8: SettingWithCopyWarning: \n",
      "A value is trying to be set on a copy of a slice from a DataFrame.\n",
      "Try using .loc[row_indexer,col_indexer] = value instead\n",
      "\n",
      "See the caveats in the documentation: https://pandas.pydata.org/pandas-docs/stable/user_guide/indexing.html#returning-a-view-versus-a-copy\n",
      "  df_adi['Interval'] = pd.to_numeric(df_adi.Interval, errors='coerce')\n"
     ]
    },
    {
     "data": {
      "text/plain": "     Store       ADI\n0        1  1.163892\n1        3  1.164313\n2        7  1.162850\n3        8  1.163265\n4        9  1.164313\n..     ...       ...\n851   1111  1.164313\n852   1112  1.164313\n853   1113  1.163265\n854   1114  1.163265\n855   1115  1.163892\n\n[856 rows x 2 columns]",
      "text/html": "<div>\n<style scoped>\n    .dataframe tbody tr th:only-of-type {\n        vertical-align: middle;\n    }\n\n    .dataframe tbody tr th {\n        vertical-align: top;\n    }\n\n    .dataframe thead th {\n        text-align: right;\n    }\n</style>\n<table border=\"1\" class=\"dataframe\">\n  <thead>\n    <tr style=\"text-align: right;\">\n      <th></th>\n      <th>Store</th>\n      <th>ADI</th>\n    </tr>\n  </thead>\n  <tbody>\n    <tr>\n      <th>0</th>\n      <td>1</td>\n      <td>1.163892</td>\n    </tr>\n    <tr>\n      <th>1</th>\n      <td>3</td>\n      <td>1.164313</td>\n    </tr>\n    <tr>\n      <th>2</th>\n      <td>7</td>\n      <td>1.162850</td>\n    </tr>\n    <tr>\n      <th>3</th>\n      <td>8</td>\n      <td>1.163265</td>\n    </tr>\n    <tr>\n      <th>4</th>\n      <td>9</td>\n      <td>1.164313</td>\n    </tr>\n    <tr>\n      <th>...</th>\n      <td>...</td>\n      <td>...</td>\n    </tr>\n    <tr>\n      <th>851</th>\n      <td>1111</td>\n      <td>1.164313</td>\n    </tr>\n    <tr>\n      <th>852</th>\n      <td>1112</td>\n      <td>1.164313</td>\n    </tr>\n    <tr>\n      <th>853</th>\n      <td>1113</td>\n      <td>1.163265</td>\n    </tr>\n    <tr>\n      <th>854</th>\n      <td>1114</td>\n      <td>1.163265</td>\n    </tr>\n    <tr>\n      <th>855</th>\n      <td>1115</td>\n      <td>1.163892</td>\n    </tr>\n  </tbody>\n</table>\n<p>856 rows × 2 columns</p>\n</div>"
     },
     "execution_count": 81,
     "metadata": {},
     "output_type": "execute_result"
    }
   ],
   "source": [
    "# Average Demand Interval\n",
    "\n",
    "df_adi = train_store[train_store.Sales > 0]\n",
    "df_adi['Previous_Sale_Date'] = train_store.groupby('Store').Date.shift()\n",
    "\n",
    "intervals = df_adi.Date - df_adi.Previous_Sale_Date\n",
    "df_adi['Interval'] = intervals.astype(str).str.replace('days','')\n",
    "df_adi['Interval'] = pd.to_numeric(df_adi.Interval, errors='coerce')\n",
    "\n",
    "ADI = df_adi.groupby('Store').agg(ADI = ('Interval','mean')).reset_index()\n",
    "ADI"
   ],
   "metadata": {
    "collapsed": false,
    "pycharm": {
     "name": "#%%\n"
    }
   }
  },
  {
   "cell_type": "code",
   "execution_count": 82,
   "outputs": [
    {
     "data": {
      "text/plain": "     Store       ADI       average           sd    cv_sqr\n0        1  1.163892   4600.066832  1312.455160  0.081403\n1        3  1.164313   6693.392327  2511.563403  0.140798\n2        7  1.162850   8576.982673  2809.607516  0.107306\n3        8  1.163265   5374.823020  2089.579967  0.151144\n4        9  1.164313   6326.808168  2012.259979  0.101158\n..     ...       ...           ...          ...       ...\n851   1111  1.164313   5063.212871  1906.980624  0.141854\n852   1112  1.164313   9869.175743  3788.467487  0.147355\n853   1113  1.163265   6430.992574  1823.702855  0.080418\n854   1114  1.163265  20052.704208  4888.044210  0.059419\n855   1115  1.163892   6091.867574  2042.344945  0.112398\n\n[856 rows x 5 columns]",
      "text/html": "<div>\n<style scoped>\n    .dataframe tbody tr th:only-of-type {\n        vertical-align: middle;\n    }\n\n    .dataframe tbody tr th {\n        vertical-align: top;\n    }\n\n    .dataframe thead th {\n        text-align: right;\n    }\n</style>\n<table border=\"1\" class=\"dataframe\">\n  <thead>\n    <tr style=\"text-align: right;\">\n      <th></th>\n      <th>Store</th>\n      <th>ADI</th>\n      <th>average</th>\n      <th>sd</th>\n      <th>cv_sqr</th>\n    </tr>\n  </thead>\n  <tbody>\n    <tr>\n      <th>0</th>\n      <td>1</td>\n      <td>1.163892</td>\n      <td>4600.066832</td>\n      <td>1312.455160</td>\n      <td>0.081403</td>\n    </tr>\n    <tr>\n      <th>1</th>\n      <td>3</td>\n      <td>1.164313</td>\n      <td>6693.392327</td>\n      <td>2511.563403</td>\n      <td>0.140798</td>\n    </tr>\n    <tr>\n      <th>2</th>\n      <td>7</td>\n      <td>1.162850</td>\n      <td>8576.982673</td>\n      <td>2809.607516</td>\n      <td>0.107306</td>\n    </tr>\n    <tr>\n      <th>3</th>\n      <td>8</td>\n      <td>1.163265</td>\n      <td>5374.823020</td>\n      <td>2089.579967</td>\n      <td>0.151144</td>\n    </tr>\n    <tr>\n      <th>4</th>\n      <td>9</td>\n      <td>1.164313</td>\n      <td>6326.808168</td>\n      <td>2012.259979</td>\n      <td>0.101158</td>\n    </tr>\n    <tr>\n      <th>...</th>\n      <td>...</td>\n      <td>...</td>\n      <td>...</td>\n      <td>...</td>\n      <td>...</td>\n    </tr>\n    <tr>\n      <th>851</th>\n      <td>1111</td>\n      <td>1.164313</td>\n      <td>5063.212871</td>\n      <td>1906.980624</td>\n      <td>0.141854</td>\n    </tr>\n    <tr>\n      <th>852</th>\n      <td>1112</td>\n      <td>1.164313</td>\n      <td>9869.175743</td>\n      <td>3788.467487</td>\n      <td>0.147355</td>\n    </tr>\n    <tr>\n      <th>853</th>\n      <td>1113</td>\n      <td>1.163265</td>\n      <td>6430.992574</td>\n      <td>1823.702855</td>\n      <td>0.080418</td>\n    </tr>\n    <tr>\n      <th>854</th>\n      <td>1114</td>\n      <td>1.163265</td>\n      <td>20052.704208</td>\n      <td>4888.044210</td>\n      <td>0.059419</td>\n    </tr>\n    <tr>\n      <th>855</th>\n      <td>1115</td>\n      <td>1.163892</td>\n      <td>6091.867574</td>\n      <td>2042.344945</td>\n      <td>0.112398</td>\n    </tr>\n  </tbody>\n</table>\n<p>856 rows × 5 columns</p>\n</div>"
     },
     "execution_count": 82,
     "metadata": {},
     "output_type": "execute_result"
    }
   ],
   "source": [
    "adi_cv = pd.merge(ADI,cv_data)\n",
    "adi_cv"
   ],
   "metadata": {
    "collapsed": false,
    "pycharm": {
     "name": "#%%\n"
    }
   }
  },
  {
   "cell_type": "code",
   "execution_count": 83,
   "outputs": [],
   "source": [
    "## Defining a fuction for categorization\n",
    "## source https://frepple.com/blog/demand-classification/\n",
    "\n",
    "def category(df: DataFrame):\n",
    "    a=0\n",
    "\n",
    "    if (df['ADI'] < 1.32) & (df['cv_sqr'] < 0.49):\n",
    "        a='Smooth'\n",
    "    if (df['ADI'] >= 1.32) & (df['cv_sqr'] >= 0.49):\n",
    "        a='Lumpy'\n",
    "    if (df['ADI'] < 1.32) & (df['cv_sqr'] >= 0.49):\n",
    "        a='Erratic'\n",
    "    if (df['ADI'] >= 1.32) & (df['cv_sqr'] < 0.49):\n",
    "        a='Intermittent'\n",
    "    return a"
   ],
   "metadata": {
    "collapsed": false,
    "pycharm": {
     "name": "#%%\n"
    }
   }
  },
  {
   "cell_type": "code",
   "execution_count": 84,
   "outputs": [
    {
     "data": {
      "text/plain": "     Store       ADI       average           sd    cv_sqr category\n0        1  1.163892   4600.066832  1312.455160  0.081403   Smooth\n1        3  1.164313   6693.392327  2511.563403  0.140798   Smooth\n2        7  1.162850   8576.982673  2809.607516  0.107306   Smooth\n3        8  1.163265   5374.823020  2089.579967  0.151144   Smooth\n4        9  1.164313   6326.808168  2012.259979  0.101158   Smooth\n..     ...       ...           ...          ...       ...      ...\n851   1111  1.164313   5063.212871  1906.980624  0.141854   Smooth\n852   1112  1.164313   9869.175743  3788.467487  0.147355   Smooth\n853   1113  1.163265   6430.992574  1823.702855  0.080418   Smooth\n854   1114  1.163265  20052.704208  4888.044210  0.059419   Smooth\n855   1115  1.163892   6091.867574  2042.344945  0.112398   Smooth\n\n[856 rows x 6 columns]",
      "text/html": "<div>\n<style scoped>\n    .dataframe tbody tr th:only-of-type {\n        vertical-align: middle;\n    }\n\n    .dataframe tbody tr th {\n        vertical-align: top;\n    }\n\n    .dataframe thead th {\n        text-align: right;\n    }\n</style>\n<table border=\"1\" class=\"dataframe\">\n  <thead>\n    <tr style=\"text-align: right;\">\n      <th></th>\n      <th>Store</th>\n      <th>ADI</th>\n      <th>average</th>\n      <th>sd</th>\n      <th>cv_sqr</th>\n      <th>category</th>\n    </tr>\n  </thead>\n  <tbody>\n    <tr>\n      <th>0</th>\n      <td>1</td>\n      <td>1.163892</td>\n      <td>4600.066832</td>\n      <td>1312.455160</td>\n      <td>0.081403</td>\n      <td>Smooth</td>\n    </tr>\n    <tr>\n      <th>1</th>\n      <td>3</td>\n      <td>1.164313</td>\n      <td>6693.392327</td>\n      <td>2511.563403</td>\n      <td>0.140798</td>\n      <td>Smooth</td>\n    </tr>\n    <tr>\n      <th>2</th>\n      <td>7</td>\n      <td>1.162850</td>\n      <td>8576.982673</td>\n      <td>2809.607516</td>\n      <td>0.107306</td>\n      <td>Smooth</td>\n    </tr>\n    <tr>\n      <th>3</th>\n      <td>8</td>\n      <td>1.163265</td>\n      <td>5374.823020</td>\n      <td>2089.579967</td>\n      <td>0.151144</td>\n      <td>Smooth</td>\n    </tr>\n    <tr>\n      <th>4</th>\n      <td>9</td>\n      <td>1.164313</td>\n      <td>6326.808168</td>\n      <td>2012.259979</td>\n      <td>0.101158</td>\n      <td>Smooth</td>\n    </tr>\n    <tr>\n      <th>...</th>\n      <td>...</td>\n      <td>...</td>\n      <td>...</td>\n      <td>...</td>\n      <td>...</td>\n      <td>...</td>\n    </tr>\n    <tr>\n      <th>851</th>\n      <td>1111</td>\n      <td>1.164313</td>\n      <td>5063.212871</td>\n      <td>1906.980624</td>\n      <td>0.141854</td>\n      <td>Smooth</td>\n    </tr>\n    <tr>\n      <th>852</th>\n      <td>1112</td>\n      <td>1.164313</td>\n      <td>9869.175743</td>\n      <td>3788.467487</td>\n      <td>0.147355</td>\n      <td>Smooth</td>\n    </tr>\n    <tr>\n      <th>853</th>\n      <td>1113</td>\n      <td>1.163265</td>\n      <td>6430.992574</td>\n      <td>1823.702855</td>\n      <td>0.080418</td>\n      <td>Smooth</td>\n    </tr>\n    <tr>\n      <th>854</th>\n      <td>1114</td>\n      <td>1.163265</td>\n      <td>20052.704208</td>\n      <td>4888.044210</td>\n      <td>0.059419</td>\n      <td>Smooth</td>\n    </tr>\n    <tr>\n      <th>855</th>\n      <td>1115</td>\n      <td>1.163892</td>\n      <td>6091.867574</td>\n      <td>2042.344945</td>\n      <td>0.112398</td>\n      <td>Smooth</td>\n    </tr>\n  </tbody>\n</table>\n<p>856 rows × 6 columns</p>\n</div>"
     },
     "execution_count": 84,
     "metadata": {},
     "output_type": "execute_result"
    }
   ],
   "source": [
    "## Categorizing products based on their forcastability\n",
    "\n",
    "adi_cv['category'] = adi_cv.apply(category ,axis=1)\n",
    "adi_cv"
   ],
   "metadata": {
    "collapsed": false,
    "pycharm": {
     "name": "#%%\n"
    }
   }
  },
  {
   "cell_type": "code",
   "execution_count": 85,
   "outputs": [
    {
     "data": {
      "text/plain": "<AxesSubplot:xlabel='cv_sqr', ylabel='ADI'>"
     },
     "execution_count": 85,
     "metadata": {},
     "output_type": "execute_result"
    },
    {
     "data": {
      "text/plain": "<Figure size 432x288 with 1 Axes>",
      "image/png": "[encoded data removed]"
     },
     "metadata": {
      "needs_background": "light"
     },
     "output_type": "display_data"
    }
   ],
   "source": [
    "## Visualizing the categories\n",
    "\n",
    "sns.scatterplot(\n",
    "    x='cv_sqr',\n",
    "    y='ADI'\n",
    "    ,hue='category',\n",
    "    data=adi_cv\n",
    ")"
   ],
   "metadata": {
    "collapsed": false,
    "pycharm": {
     "name": "#%%\n"
    }
   }
  },
  {
   "cell_type": "code",
   "execution_count": 86,
   "outputs": [
    {
     "data": {
      "text/plain": "Smooth          855\nIntermittent      1\nName: category, dtype: int64"
     },
     "execution_count": 86,
     "metadata": {},
     "output_type": "execute_result"
    }
   ],
   "source": [
    "## Final category counts\n",
    "adi_cv.category.value_counts()"
   ],
   "metadata": {
    "collapsed": false,
    "pycharm": {
     "name": "#%%\n"
    }
   }
  },
  {
   "cell_type": "code",
   "execution_count": 87,
   "outputs": [
    {
     "data": {
      "text/plain": "     Store       ADI      average           sd    cv_sqr      category\n392    512  1.454545  5285.050769  1263.751422  0.057177  Intermittent",
      "text/html": "<div>\n<style scoped>\n    .dataframe tbody tr th:only-of-type {\n        vertical-align: middle;\n    }\n\n    .dataframe tbody tr th {\n        vertical-align: top;\n    }\n\n    .dataframe thead th {\n        text-align: right;\n    }\n</style>\n<table border=\"1\" class=\"dataframe\">\n  <thead>\n    <tr style=\"text-align: right;\">\n      <th></th>\n      <th>Store</th>\n      <th>ADI</th>\n      <th>average</th>\n      <th>sd</th>\n      <th>cv_sqr</th>\n      <th>category</th>\n    </tr>\n  </thead>\n  <tbody>\n    <tr>\n      <th>392</th>\n      <td>512</td>\n      <td>1.454545</td>\n      <td>5285.050769</td>\n      <td>1263.751422</td>\n      <td>0.057177</td>\n      <td>Intermittent</td>\n    </tr>\n  </tbody>\n</table>\n</div>"
     },
     "execution_count": 87,
     "metadata": {},
     "output_type": "execute_result"
    }
   ],
   "source": [
    "adi_cv[adi_cv.category == 'Intermittent']"
   ],
   "metadata": {
    "collapsed": false,
    "pycharm": {
     "name": "#%%\n"
    }
   }
  }
 ],
 "metadata": {
  "kernelspec": {
   "display_name": "Python 3",
   "language": "python",
   "name": "python3"
  },
  "language_info": {
   "codemirror_mode": {
    "name": "ipython",
    "version": 2
   },
   "file_extension": ".py",
   "mimetype": "text/x-python",
   "name": "python",
   "nbconvert_exporter": "python",
   "pygments_lexer": "ipython2",
   "version": "2.7.6"
  }
 },
 "nbformat": 4,
 "nbformat_minor": 0
}