{
 "cells": [
  {
   "cell_type": "code",
   "execution_count": null,
   "metadata": {},
   "outputs": [],
   "source": [
    "import matplotlib.pyplot as plt\n",
    "import pandas as pd\n",
    "import numpy as np"
   ]
  },
  {
   "cell_type": "code",
   "execution_count": null,
   "metadata": {},
   "outputs": [],
   "source": [
    "# Cargamos los dataframes\n",
    "df_store = pd.read_csv('../data/store.csv')\n",
    "df_train = pd.read_csv('../data/train.csv')\n",
    "df_test = pd.read_csv('../data/test.csv')"
   ]
  },
  {
   "cell_type": "code",
   "execution_count": null,
   "metadata": {},
   "outputs": [],
   "source": [
    "# Analizamos el dataframe de train\n",
    "df_train.dtypes"
   ]
  },
  {
   "cell_type": "code",
   "execution_count": null,
   "metadata": {
    "pycharm": {
     "name": "#%%\n"
    }
   },
   "outputs": [],
   "source": [
    "df_train.head(5)"
   ]
  },
  {
   "cell_type": "code",
   "execution_count": null,
   "metadata": {
    "pycharm": {
     "name": "#%%\n"
    }
   },
   "outputs": [],
   "source": [
    "def apply_date_format(df):\n",
    "    df['Date'] = pd.to_datetime(df['Date'])\n",
    "    date_aux = df['Date']\n",
    "\n",
    "    df['year'] = date_aux.dt.year\n",
    "    df['month'] = date_aux.dt.month\n",
    "    df['week'] = date_aux.dt.isocalendar().week\n",
    "    df['year_month'] = date_aux.dt.strftime('%Y-%m')\n",
    "    df['year_week'] = date_aux.dt.strftime('%Y-%V')\n",
    "\n",
    "    return df"
   ]
  },
  {
   "cell_type": "code",
   "execution_count": null,
   "metadata": {},
   "outputs": [],
   "source": [
    "df_train = apply_date_format(df=df_train)"
   ]
  },
  {
   "cell_type": "code",
   "execution_count": null,
   "metadata": {},
   "outputs": [],
   "source": [
    "# Resumen de las variables\n",
    "round(df_train.describe(),2)"
   ]
  },
  {
   "cell_type": "code",
   "execution_count": null,
   "metadata": {},
   "outputs": [],
   "source": [
    "nan_by_col = []\n",
    "for col in df_train.columns:\n",
    "    nan_by_col.append({\n",
    "        'column': col,\n",
    "        'nan_count': df_train[col].isna().sum()\n",
    "    })\n",
    "\n",
    "pd.DataFrame(nan_by_col)"
   ]
  },
  {
   "cell_type": "code",
   "execution_count": null,
   "metadata": {},
   "outputs": [],
   "source": [
    "store_sales = df_train[['Store','Date']].groupby('Store').count()\n",
    "print('Cantidad Mínima de puntos:', store_sales.Date.min())\n",
    "print('Cantidad Máxima de puntos:', store_sales.Date.max())"
   ]
  },
  {
   "cell_type": "code",
   "execution_count": null,
   "metadata": {},
   "outputs": [],
   "source": [
    "under_942 = store_sales[store_sales['Date'] < 942]\n",
    "print(f\"Cantidad de tiendas con Menos de 942 días: {len(under_942)}\")"
   ]
  },
  {
   "cell_type": "code",
   "execution_count": null,
   "metadata": {},
   "outputs": [],
   "source": [
    "print(f'Cantidad de tiendas: {len(df_train.Store.unique())}')"
   ]
  },
  {
   "cell_type": "code",
   "execution_count": null,
   "metadata": {},
   "outputs": [],
   "source": [
    "print(f'Cantidad de días: {len(df_train.Date.unique())}')\n",
    "print(f'Minimo de días: {df_train.Date.min()}')\n",
    "print(f'Maximo de días: {df_train.Date.max()}')"
   ]
  },
  {
   "cell_type": "code",
   "execution_count": null,
   "metadata": {},
   "outputs": [],
   "source": [
    "def plot_sales_time_series(df_to_plot, grouping_col):\n",
    "    x_y_cols = ['Sales', grouping_col]\n",
    "    df_aux = df_to_plot[x_y_cols].groupby(grouping_col).sum().reset_index()\n",
    "    plt.plot(df_aux[grouping_col], df_aux.Sales)\n",
    "    plt.title(f'Sales plot grouped by {grouping_col}')\n",
    "    plt.show()"
   ]
  },
  {
   "cell_type": "code",
   "execution_count": null,
   "metadata": {
    "pycharm": {
     "name": "#%%\n"
    }
   },
   "outputs": [],
   "source": [
    "plot_sales_time_series(\n",
    "    df_to_plot=df_train,\n",
    "    grouping_col='Date'\n",
    ")"
   ]
  },
  {
   "cell_type": "code",
   "execution_count": null,
   "metadata": {},
   "outputs": [],
   "source": [
    "plot_sales_time_series(\n",
    "    df_to_plot=df_train,\n",
    "    grouping_col='year_week'\n",
    ")"
   ]
  },
  {
   "cell_type": "code",
   "execution_count": null,
   "metadata": {},
   "outputs": [],
   "source": [
    "plot_sales_time_series(\n",
    "    df_to_plot=df_train,\n",
    "    grouping_col='year_month'\n",
    ")"
   ]
  },
  {
   "cell_type": "code",
   "execution_count": null,
   "metadata": {},
   "outputs": [],
   "source": [
    "# Visualizamos las ventas para una unica tienda seleccionada\n",
    "store = 1\n",
    "df_selected_store = df_train.loc[df_train['Store'] == store]\n",
    "\n",
    "plot_sales_time_series(\n",
    "    df_to_plot=df_selected_store,\n",
    "    grouping_col='year_month'\n",
    ")\n",
    "\n",
    "plot_sales_time_series(\n",
    "    df_to_plot=df_selected_store,\n",
    "    grouping_col='year_week'\n",
    ")\n"
   ]
  },
  {
   "cell_type": "code",
   "execution_count": null,
   "metadata": {},
   "outputs": [],
   "source": [
    "# Visualizamos las ventas para una unica tienda seleccionada\n",
    "# solo para las fechas en las que estuvo abierta\n",
    "df_selected_store_open = df_selected_store.loc[df_train['Open'] == 1]\n",
    "plot_sales_time_series(\n",
    "    df_to_plot=df_selected_store,\n",
    "    grouping_col='Date'\n",
    ")"
   ]
  },
  {
   "cell_type": "code",
   "execution_count": null,
   "metadata": {},
   "outputs": [],
   "source": [
    "# Vemos la distribución de la serie con un histograma\n",
    "df_selected_store_open.Sales.hist()"
   ]
  },
  {
   "cell_type": "code",
   "execution_count": null,
   "metadata": {},
   "outputs": [],
   "source": [
    "# Vemos los números más representativos con un Box Plot\n",
    "plt.boxplot(df_selected_store_open.Sales)"
   ]
  },
  {
   "cell_type": "code",
   "execution_count": null,
   "metadata": {},
   "outputs": [],
   "source": [
    "pd.DataFrame(df_selected_store_open.Sales.describe())"
   ]
  },
  {
   "cell_type": "code",
   "execution_count": null,
   "metadata": {},
   "outputs": [],
   "source": [
    "def plot_rolling_average_sales(df_to_plot, time_window: int):\n",
    "    rolling_avg_series = np.convolve(\n",
    "        df_to_plot.Sales,\n",
    "        np.ones(time_window)/time_window,\n",
    "        mode='same'\n",
    "    )\n",
    "\n",
    "    # Daily sales\n",
    "    plt.plot(df_to_plot.Date, df_to_plot.Sales)\n",
    "    # Rolling Average sales\n",
    "    plt.plot(df_to_plot.Date, rolling_avg_series)\n",
    "\n",
    "    plt.title(f'Rolling Average Mean for {time_window} days time window')\n",
    "    plt.show()"
   ]
  },
  {
   "cell_type": "code",
   "execution_count": null,
   "metadata": {
    "pycharm": {
     "name": "#%%\n"
    }
   },
   "outputs": [],
   "source": [
    "plot_rolling_average_sales(\n",
    "    df_to_plot=df_selected_store_open,\n",
    "    time_window=7\n",
    ")"
   ]
  },
  {
   "cell_type": "code",
   "execution_count": null,
   "metadata": {},
   "outputs": [],
   "source": [
    "plot_rolling_average_sales(\n",
    "    df_to_plot=df_selected_store_open,\n",
    "    time_window=14\n",
    ")\n"
   ]
  },
  {
   "cell_type": "code",
   "execution_count": null,
   "metadata": {},
   "outputs": [],
   "source": [
    "plot_rolling_average_sales(\n",
    "    df_to_plot=df_selected_store_open,\n",
    "    time_window=30\n",
    ")\n"
   ]
  },
  {
   "cell_type": "code",
   "execution_count": null,
   "metadata": {},
   "outputs": [],
   "source": [
    "plot_rolling_average_sales(\n",
    "    df_to_plot=df_selected_store_open,\n",
    "    time_window=60\n",
    ")\n"
   ]
  },
  {
   "cell_type": "code",
   "execution_count": null,
   "metadata": {},
   "outputs": [],
   "source": [
    "# Ventas y Clientes\n",
    "plt.plot(df_selected_store_open.Date, df_selected_store_open.Sales)\n",
    "plt.plot(df_selected_store_open.Date, df_selected_store_open.Customers)\n",
    "\n",
    "plt.title(f'Sales & Customers time series')\n",
    "plt.show()\n"
   ]
  },
  {
   "cell_type": "code",
   "execution_count": null,
   "metadata": {},
   "outputs": [],
   "source": [
    "plt.scatter(df_selected_store_open.Customers, df_selected_store_open.Sales)\n",
    "plt.title(f'Sales & Customers scatter plot')\n",
    "plt.show()"
   ]
  },
  {
   "cell_type": "code",
   "execution_count": null,
   "metadata": {},
   "outputs": [],
   "source": [
    "def plot_multiple_sales_time_series(df_to_plot, segmentation_col: str, grouping_col: str):\n",
    "    x_y_cols = ['Sales', grouping_col]\n",
    "\n",
    "    for segment in df_train[segmentation_col].unique():\n",
    "        df_aux = df_to_plot.loc[df_to_plot[segmentation_col]==segment, x_y_cols].groupby(grouping_col).sum().reset_index()\n",
    "        plt.plot(df_aux[grouping_col], df_aux.Sales)\n",
    "        plt.ylim(ymin=0)\n",
    "\n",
    "    plt.title(f'Sales Time Series for {segmentation_col} grouped by {grouping_col}')\n",
    "    plt.show()"
   ]
  },
  {
   "cell_type": "code",
   "execution_count": null,
   "metadata": {},
   "outputs": [],
   "source": [
    "plot_multiple_sales_time_series(\n",
    "    df_to_plot=df_train,\n",
    "    segmentation_col='year',\n",
    "    grouping_col='month'\n",
    ")"
   ]
  },
  {
   "cell_type": "code",
   "execution_count": null,
   "metadata": {},
   "outputs": [],
   "source": [
    "plot_multiple_sales_time_series(\n",
    "    df_to_plot=df_train,\n",
    "    segmentation_col='year',\n",
    "    grouping_col='week'\n",
    ")"
   ]
  },
  {
   "cell_type": "code",
   "execution_count": null,
   "metadata": {},
   "outputs": [],
   "source": [
    "plot_multiple_sales_time_series(\n",
    "    df_to_plot=df_train[df_train['Open']==1],\n",
    "    segmentation_col='week',\n",
    "    grouping_col='DayOfWeek'\n",
    ")"
   ]
  },
  {
   "cell_type": "code",
   "execution_count": null,
   "metadata": {
    "pycharm": {
     "name": "#%%\n"
    }
   },
   "outputs": [],
   "source": [
    "plot_multiple_sales_time_series(\n",
    "    df_to_plot=df_train[df_train['Open']==1],\n",
    "    segmentation_col='year_week',\n",
    "    grouping_col='DayOfWeek'\n",
    ")"
   ]
  },
  {
   "cell_type": "code",
   "execution_count": null,
   "metadata": {
    "pycharm": {
     "name": "#%%\n"
    }
   },
   "outputs": [],
   "source": [
    "df_train.groupby('year')['year'].count()"
   ]
  },
  {
   "cell_type": "code",
   "execution_count": null,
   "metadata": {
    "pycharm": {
     "name": "#%%\n"
    }
   },
   "outputs": [],
   "source": [
    "df_train.groupby('year_month')['year_month'].count()"
   ]
  },
  {
   "cell_type": "code",
   "execution_count": null,
   "metadata": {
    "pycharm": {
     "name": "#%%\n"
    }
   },
   "outputs": [],
   "source": [
    "df_train.groupby('year_week')['year_week'].count()"
   ]
  },
  {
   "cell_type": "code",
   "execution_count": null,
   "metadata": {
    "pycharm": {
     "name": "#%%\n"
    }
   },
   "outputs": [],
   "source": [
    "df_test = apply_date_format(df=df_test)"
   ]
  },
  {
   "cell_type": "code",
   "execution_count": null,
   "metadata": {
    "pycharm": {
     "name": "#%%\n"
    }
   },
   "outputs": [],
   "source": [
    "df_test.groupby('year')['year'].count()"
   ]
  },
  {
   "cell_type": "code",
   "execution_count": null,
   "metadata": {
    "pycharm": {
     "name": "#%%\n"
    }
   },
   "outputs": [],
   "source": [
    "df_test.groupby('month')['month'].count()"
   ]
  },
  {
   "cell_type": "code",
   "execution_count": null,
   "metadata": {
    "pycharm": {
     "name": "#%%\n"
    }
   },
   "outputs": [],
   "source": [
    "df_test.groupby('year_month')['year_month'].count()"
   ]
  },
  {
   "cell_type": "code",
   "execution_count": null,
   "metadata": {
    "pycharm": {
     "name": "#%%\n"
    }
   },
   "outputs": [],
   "source": [
    "df_test.groupby('year_week')['year_week'].count()"
   ]
  },
  {
   "cell_type": "code",
   "execution_count": null,
   "metadata": {
    "pycharm": {
     "name": "#%%\n"
    }
   },
   "outputs": [],
   "source": []
  }
 ],
 "metadata": {
  "kernelspec": {
   "display_name": "Python 3",
   "language": "python",
   "name": "python3"
  },
  "language_info": {
   "codemirror_mode": {
    "name": "ipython",
    "version": 3
   },
   "file_extension": ".py",
   "mimetype": "text/x-python",
   "name": "python",
   "nbconvert_exporter": "python",
   "pygments_lexer": "ipython3",
   "version": "3.8.5"
  }
 },
 "nbformat": 4,
 "nbformat_minor": 5
}
