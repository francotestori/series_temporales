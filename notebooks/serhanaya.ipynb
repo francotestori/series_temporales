{
 "cells": [
  {
   "cell_type": "markdown",
   "id": "fb677456-400b-4bd8-b3d6-b0f129bc0c29",
   "metadata": {},
   "source": [
    "# ROSSMANN"
   ]
  },
  {
   "cell_type": "markdown",
   "id": "09cd8928-e425-43d2-8f8c-ec7044819893",
   "metadata": {},
   "source": [
    "In this Kaggle competition, Rossmann, the second largest chain of German drug stores, challenged competitors to predict 6 weeks of daily sales for 1,115 stores located across Germany. According to the information provided, sales are influenced by many factors, including promotions, competition, school and state holidays, seasonality, and locality. In this post, we start from fetching the data from Kaggle. Next, we explore the contents of the data. Although this is a mostly structured clear data, we’ll have some challenges along the way. Using great Python data wrangling tools (Pandas, Numpy, etc.), we get over them quickly. The post ends after prediction of the sales for the test data. Thus, we have a complete solution to a real-world marketing problem (with a data in good condition)."
   ]
  },
  {
   "cell_type": "markdown",
   "id": "c28b7aa7-4a52-4199-b4fb-256ae38b55f7",
   "metadata": {
    "tags": []
   },
   "source": [
    "## Analysis"
   ]
  },
  {
   "cell_type": "markdown",
   "id": "008f9254-218a-4bad-8fcb-ba28f956212b",
   "metadata": {},
   "source": [
    "The important part is to ask the right questions. So, we ask and answer the questions while digging deeper in exploratory phase. Let’s start with a high-level overview of the data. First, we need to import necessary libraries. We use Pandas for fetching and manipulating data, and also for plotting; Matplotlib and Seaborn for plotting; Numpy and Scipy for manipulating data.\n",
    "\n"
   ]
  },
  {
   "cell_type": "code",
   "execution_count": 2,
   "id": "29bd33f5-24bc-49bc-a65a-c82450124f4c",
   "metadata": {},
   "outputs": [],
   "source": [
    "import pandas as pd\n",
    "import numpy as np\n",
    "import matplotlib.pyplot as plt\n",
    "import scipy.stats as stats\n",
    "import seaborn as sns\n"
   ]
  },
  {
   "cell_type": "markdown",
   "id": "14fff78d-c9b7-4e38-a4ee-1afa3f3637d2",
   "metadata": {},
   "source": [
    "### Train Dataset"
   ]
  },
  {
   "cell_type": "code",
   "execution_count": 3,
   "id": "4fd195f1-8dc8-49e2-b97a-778189efef28",
   "metadata": {},
   "outputs": [],
   "source": [
    "train = pd.read_csv(\"../rossmann-store-sales/train.csv\", sep=',', parse_dates=['Date'],\n",
    "                    dtype={'StateHoliday': str, 'SchoolHoliday':str})\n",
    "\n",
    "test = pd.read_csv(\"../rossmann-store-sales/test.csv\", sep=\",\", index_col = 'Id', parse_dates=['Date'],\n",
    "                  dtype={'StateHoliday': str, 'SchoolHoliday':str})\n",
    "\n",
    "store = pd.read_csv(\"../rossmann-store-sales/store.csv\", sep=\",\", dtype={'StoreType': str,\n",
    "                                                      'Assortment': str,\n",
    "                                                      'PromoInterval': str})\n"
   ]
  },
  {
   "cell_type": "markdown",
   "id": "f709899a-5877-4e8d-ab58-1c0015fa9b33",
   "metadata": {},
   "source": [
    "Let’s see the top rows of train dataframe using head() function. There are nine columns. The target column is Salescolumn. After first look, we should be wondering, “How many distinct Stores are there?”, “Are all of the Days in a Week included in this dataset?”, “What is the Date interval?”, “I want to know the levels of Open, Promo, StateHoliday and School Holidays!”. We will address these questions, soon.\n",
    "\n"
   ]
  },
  {
   "cell_type": "code",
   "execution_count": 4,
   "id": "ae3de3e0-3fe3-4d19-a32d-b5988379c080",
   "metadata": {},
   "outputs": [
    {
     "data": {
      "text/plain": "   Store  DayOfWeek       Date  Sales  Customers  Open  Promo StateHoliday  \\\n0      1          5 2015-07-31   5263        555     1      1            0   \n1      2          5 2015-07-31   6064        625     1      1            0   \n2      3          5 2015-07-31   8314        821     1      1            0   \n3      4          5 2015-07-31  13995       1498     1      1            0   \n4      5          5 2015-07-31   4822        559     1      1            0   \n\n  SchoolHoliday  \n0             1  \n1             1  \n2             1  \n3             1  \n4             1  ",
      "text/html": "<div>\n<style scoped>\n    .dataframe tbody tr th:only-of-type {\n        vertical-align: middle;\n    }\n\n    .dataframe tbody tr th {\n        vertical-align: top;\n    }\n\n    .dataframe thead th {\n        text-align: right;\n    }\n</style>\n<table border=\"1\" class=\"dataframe\">\n  <thead>\n    <tr style=\"text-align: right;\">\n      <th></th>\n      <th>Store</th>\n      <th>DayOfWeek</th>\n      <th>Date</th>\n      <th>Sales</th>\n      <th>Customers</th>\n      <th>Open</th>\n      <th>Promo</th>\n      <th>StateHoliday</th>\n      <th>SchoolHoliday</th>\n    </tr>\n  </thead>\n  <tbody>\n    <tr>\n      <th>0</th>\n      <td>1</td>\n      <td>5</td>\n      <td>2015-07-31</td>\n      <td>5263</td>\n      <td>555</td>\n      <td>1</td>\n      <td>1</td>\n      <td>0</td>\n      <td>1</td>\n    </tr>\n    <tr>\n      <th>1</th>\n      <td>2</td>\n      <td>5</td>\n      <td>2015-07-31</td>\n      <td>6064</td>\n      <td>625</td>\n      <td>1</td>\n      <td>1</td>\n      <td>0</td>\n      <td>1</td>\n    </tr>\n    <tr>\n      <th>2</th>\n      <td>3</td>\n      <td>5</td>\n      <td>2015-07-31</td>\n      <td>8314</td>\n      <td>821</td>\n      <td>1</td>\n      <td>1</td>\n      <td>0</td>\n      <td>1</td>\n    </tr>\n    <tr>\n      <th>3</th>\n      <td>4</td>\n      <td>5</td>\n      <td>2015-07-31</td>\n      <td>13995</td>\n      <td>1498</td>\n      <td>1</td>\n      <td>1</td>\n      <td>0</td>\n      <td>1</td>\n    </tr>\n    <tr>\n      <th>4</th>\n      <td>5</td>\n      <td>5</td>\n      <td>2015-07-31</td>\n      <td>4822</td>\n      <td>559</td>\n      <td>1</td>\n      <td>1</td>\n      <td>0</td>\n      <td>1</td>\n    </tr>\n  </tbody>\n</table>\n</div>"
     },
     "metadata": {},
     "output_type": "display_data"
    }
   ],
   "source": [
    "display(train.head())"
   ]
  },
  {
   "cell_type": "code",
   "execution_count": 5,
   "id": "33942d64-3a8b-4906-96a7-9911c200d934",
   "metadata": {},
   "outputs": [
    {
     "data": {
      "text/plain": "         Store  DayOfWeek       Date  Sales  Customers  Open  Promo  \\\n1017204   1111          2 2013-01-01      0          0     0      0   \n1017205   1112          2 2013-01-01      0          0     0      0   \n1017206   1113          2 2013-01-01      0          0     0      0   \n1017207   1114          2 2013-01-01      0          0     0      0   \n1017208   1115          2 2013-01-01      0          0     0      0   \n\n        StateHoliday SchoolHoliday  \n1017204            a             1  \n1017205            a             1  \n1017206            a             1  \n1017207            a             1  \n1017208            a             1  ",
      "text/html": "<div>\n<style scoped>\n    .dataframe tbody tr th:only-of-type {\n        vertical-align: middle;\n    }\n\n    .dataframe tbody tr th {\n        vertical-align: top;\n    }\n\n    .dataframe thead th {\n        text-align: right;\n    }\n</style>\n<table border=\"1\" class=\"dataframe\">\n  <thead>\n    <tr style=\"text-align: right;\">\n      <th></th>\n      <th>Store</th>\n      <th>DayOfWeek</th>\n      <th>Date</th>\n      <th>Sales</th>\n      <th>Customers</th>\n      <th>Open</th>\n      <th>Promo</th>\n      <th>StateHoliday</th>\n      <th>SchoolHoliday</th>\n    </tr>\n  </thead>\n  <tbody>\n    <tr>\n      <th>1017204</th>\n      <td>1111</td>\n      <td>2</td>\n      <td>2013-01-01</td>\n      <td>0</td>\n      <td>0</td>\n      <td>0</td>\n      <td>0</td>\n      <td>a</td>\n      <td>1</td>\n    </tr>\n    <tr>\n      <th>1017205</th>\n      <td>1112</td>\n      <td>2</td>\n      <td>2013-01-01</td>\n      <td>0</td>\n      <td>0</td>\n      <td>0</td>\n      <td>0</td>\n      <td>a</td>\n      <td>1</td>\n    </tr>\n    <tr>\n      <th>1017206</th>\n      <td>1113</td>\n      <td>2</td>\n      <td>2013-01-01</td>\n      <td>0</td>\n      <td>0</td>\n      <td>0</td>\n      <td>0</td>\n      <td>a</td>\n      <td>1</td>\n    </tr>\n    <tr>\n      <th>1017207</th>\n      <td>1114</td>\n      <td>2</td>\n      <td>2013-01-01</td>\n      <td>0</td>\n      <td>0</td>\n      <td>0</td>\n      <td>0</td>\n      <td>a</td>\n      <td>1</td>\n    </tr>\n    <tr>\n      <th>1017208</th>\n      <td>1115</td>\n      <td>2</td>\n      <td>2013-01-01</td>\n      <td>0</td>\n      <td>0</td>\n      <td>0</td>\n      <td>0</td>\n      <td>a</td>\n      <td>1</td>\n    </tr>\n  </tbody>\n</table>\n</div>"
     },
     "metadata": {},
     "output_type": "display_data"
    }
   ],
   "source": [
    "display(train.tail())"
   ]
  },
  {
   "cell_type": "code",
   "execution_count": 6,
   "id": "aa575e72-ab05-4139-a182-d9731c8e0d5b",
   "metadata": {},
   "outputs": [
    {
     "data": {
      "text/plain": "172817"
     },
     "execution_count": 6,
     "metadata": {},
     "output_type": "execute_result"
    }
   ],
   "source": [
    "sum(train['Open'] == 0)"
   ]
  },
  {
   "cell_type": "code",
   "execution_count": 7,
   "id": "ad3c430e-c53d-4f53-82d0-813dce084be9",
   "metadata": {},
   "outputs": [],
   "source": [
    "train['Year'] = pd.DatetimeIndex(train['Date']).year\n",
    "train['Month'] = pd.DatetimeIndex(train['Date']).month"
   ]
  },
  {
   "cell_type": "code",
   "execution_count": 8,
   "id": "a0c4dc8b-1b91-42db-8173-6864f62e497c",
   "metadata": {},
   "outputs": [
    {
     "data": {
      "text/plain": "['Store',\n 'DayOfWeek',\n 'Date',\n 'Year',\n 'Month',\n 'Customers',\n 'Open',\n 'Promo',\n 'StateHoliday',\n 'SchoolHoliday',\n 'Sales']"
     },
     "execution_count": 8,
     "metadata": {},
     "output_type": "execute_result"
    }
   ],
   "source": [
    "train = train[['Store', 'DayOfWeek', 'Date', 'Year', 'Month', 'Customers', 'Open',\n",
    "               'Promo', 'StateHoliday', 'SchoolHoliday', 'Sales']]\n",
    "list(train.columns.values)"
   ]
  },
  {
   "cell_type": "code",
   "execution_count": 9,
   "id": "b34823c8-b6df-4f8f-9661-e9f9065e2b8f",
   "metadata": {},
   "outputs": [
    {
     "data": {
      "text/plain": "Store                     int64\nDayOfWeek                 int64\nDate             datetime64[ns]\nYear                      int64\nMonth                     int64\nCustomers                 int64\nOpen                      int64\nPromo                     int64\nStateHoliday             object\nSchoolHoliday            object\nSales                     int64\ndtype: object"
     },
     "execution_count": 9,
     "metadata": {},
     "output_type": "execute_result"
    }
   ],
   "source": [
    "train.dtypes"
   ]
  },
  {
   "cell_type": "markdown",
   "id": "8b4bccaf-fab8-4e80-984a-def5fc5fd9a4",
   "metadata": {},
   "source": [
    "How many types of State Holiday in Germany? Or in Rossmann’s world?"
   ]
  },
  {
   "cell_type": "code",
   "execution_count": 10,
   "id": "fea78c07-84be-4851-9b3f-d1d4e707f0e9",
   "metadata": {},
   "outputs": [
    {
     "data": {
      "text/plain": "array(['0', 'a', 'b', 'c'], dtype=object)"
     },
     "execution_count": 10,
     "metadata": {},
     "output_type": "execute_result"
    }
   ],
   "source": [
    "train['StateHoliday'].unique()"
   ]
  },
  {
   "cell_type": "code",
   "execution_count": 11,
   "id": "8ece4a18-8612-42e7-9768-a1f4971de221",
   "metadata": {},
   "outputs": [],
   "source": [
    "train.loc[train['StateHoliday'] == '0', 'StateHoliday'] = 0\n",
    "train.loc[train['StateHoliday'] == 'a', 'StateHoliday'] = 1\n",
    "train.loc[train['StateHoliday'] == 'b', 'StateHoliday'] = 2\n",
    "train.loc[train['StateHoliday'] == 'c', 'StateHoliday'] = 3\n",
    "train['StateHoliday'] = train['StateHoliday'].astype(int, copy=False)"
   ]
  },
  {
   "cell_type": "code",
   "execution_count": 12,
   "id": "2a41d030-bb43-4a29-8437-58542dbba86c",
   "metadata": {},
   "outputs": [
    {
     "name": "stdout",
     "output_type": "stream",
     "text": [
      "levels : [0 1 2 3] ; data type : int64\n"
     ]
    }
   ],
   "source": [
    "print('levels :', train['StateHoliday'].unique(), '; data type :', train['StateHoliday'].dtype)"
   ]
  },
  {
   "cell_type": "markdown",
   "id": "af1d55e2-b1c7-4554-b5b2-b6dac602b676",
   "metadata": {},
   "source": [
    "Create a function to automatize the previous work."
   ]
  },
  {
   "cell_type": "code",
   "execution_count": 13,
   "id": "647a51a7-55ca-4e1b-9faa-ad6e346ad62c",
   "metadata": {},
   "outputs": [],
   "source": [
    "def factor_to_integer(df, colname, start_value=0):\n",
    "    while df[colname].dtype == object:\n",
    "        myval = start_value # factor starts at \"start_value\".\n",
    "        for sval in df[colname].unique():\n",
    "            df.loc[df[colname] == sval, colname] = myval\n",
    "            myval += 1\n",
    "        df[colname] = df[colname].astype(int, copy=False)\n",
    "    print('levels :', df[colname].unique(), '; data type :', df[colname].dtype)\n"
   ]
  },
  {
   "cell_type": "markdown",
   "id": "9b7efb71-a3ae-40fd-9a42-bd2d7acd07c1",
   "metadata": {},
   "source": [
    "How many types of School Holiday in Germany?"
   ]
  },
  {
   "cell_type": "code",
   "execution_count": 14,
   "id": "d036568f-7748-4d24-bcb3-1173b0ee0f1e",
   "metadata": {},
   "outputs": [
    {
     "data": {
      "text/plain": "array(['1', '0'], dtype=object)"
     },
     "execution_count": 14,
     "metadata": {},
     "output_type": "execute_result"
    }
   ],
   "source": [
    "train['SchoolHoliday'].unique()"
   ]
  },
  {
   "cell_type": "code",
   "execution_count": 15,
   "id": "24c1c858-371d-4f19-b352-0b193bbfc2dc",
   "metadata": {},
   "outputs": [
    {
     "name": "stdout",
     "output_type": "stream",
     "text": [
      "levels : [0 1] ; data type : int64\n"
     ]
    }
   ],
   "source": [
    "factor_to_integer(train, 'SchoolHoliday')"
   ]
  },
  {
   "cell_type": "markdown",
   "id": "c68d6000-e78f-4c2f-8fb4-90c0b2c934b0",
   "metadata": {},
   "source": [
    "Check the data types for each column."
   ]
  },
  {
   "cell_type": "code",
   "execution_count": 16,
   "id": "6283628f-9c83-4f47-b1eb-ba7b5e22f165",
   "metadata": {},
   "outputs": [
    {
     "data": {
      "text/plain": "Store                     int64\nDayOfWeek                 int64\nDate             datetime64[ns]\nYear                      int64\nMonth                     int64\nCustomers                 int64\nOpen                      int64\nPromo                     int64\nStateHoliday              int64\nSchoolHoliday             int64\nSales                     int64\ndtype: object"
     },
     "execution_count": 16,
     "metadata": {},
     "output_type": "execute_result"
    }
   ],
   "source": [
    "train.dtypes"
   ]
  },
  {
   "cell_type": "markdown",
   "id": "4c90d974-716b-4642-bc1b-4c266465cb02",
   "metadata": {},
   "source": [
    "An view of the data."
   ]
  },
  {
   "cell_type": "code",
   "execution_count": 17,
   "id": "e00ea68c-82db-4a4c-bd34-71c9af7addcb",
   "metadata": {},
   "outputs": [
    {
     "data": {
      "text/plain": "              Store     DayOfWeek          Year         Month     Customers  \\\ncount  1.017209e+06  1.017209e+06  1.017209e+06  1.017209e+06  1.017209e+06   \nmean   5.584297e+02  3.998341e+00  2.013832e+03  5.846762e+00  6.331459e+02   \nstd    3.219087e+02  1.997391e+00  7.773960e-01  3.326097e+00  4.644117e+02   \nmin    1.000000e+00  1.000000e+00  2.013000e+03  1.000000e+00  0.000000e+00   \n25%    2.800000e+02  2.000000e+00  2.013000e+03  3.000000e+00  4.050000e+02   \n50%    5.580000e+02  4.000000e+00  2.014000e+03  6.000000e+00  6.090000e+02   \n75%    8.380000e+02  6.000000e+00  2.014000e+03  8.000000e+00  8.370000e+02   \nmax    1.115000e+03  7.000000e+00  2.015000e+03  1.200000e+01  7.388000e+03   \n\n               Open         Promo  StateHoliday  SchoolHoliday         Sales  \ncount  1.017209e+06  1.017209e+06  1.017209e+06   1.017209e+06  1.017209e+06  \nmean   8.301067e-01  3.815145e-01  4.516279e-02   8.213533e-01  5.773819e+03  \nstd    3.755392e-01  4.857586e-01  2.836559e-01   3.830564e-01  3.849926e+03  \nmin    0.000000e+00  0.000000e+00  0.000000e+00   0.000000e+00  0.000000e+00  \n25%    1.000000e+00  0.000000e+00  0.000000e+00   1.000000e+00  3.727000e+03  \n50%    1.000000e+00  0.000000e+00  0.000000e+00   1.000000e+00  5.744000e+03  \n75%    1.000000e+00  1.000000e+00  0.000000e+00   1.000000e+00  7.856000e+03  \nmax    1.000000e+00  1.000000e+00  3.000000e+00   1.000000e+00  4.155100e+04  ",
      "text/html": "<div>\n<style scoped>\n    .dataframe tbody tr th:only-of-type {\n        vertical-align: middle;\n    }\n\n    .dataframe tbody tr th {\n        vertical-align: top;\n    }\n\n    .dataframe thead th {\n        text-align: right;\n    }\n</style>\n<table border=\"1\" class=\"dataframe\">\n  <thead>\n    <tr style=\"text-align: right;\">\n      <th></th>\n      <th>Store</th>\n      <th>DayOfWeek</th>\n      <th>Year</th>\n      <th>Month</th>\n      <th>Customers</th>\n      <th>Open</th>\n      <th>Promo</th>\n      <th>StateHoliday</th>\n      <th>SchoolHoliday</th>\n      <th>Sales</th>\n    </tr>\n  </thead>\n  <tbody>\n    <tr>\n      <th>count</th>\n      <td>1.017209e+06</td>\n      <td>1.017209e+06</td>\n      <td>1.017209e+06</td>\n      <td>1.017209e+06</td>\n      <td>1.017209e+06</td>\n      <td>1.017209e+06</td>\n      <td>1.017209e+06</td>\n      <td>1.017209e+06</td>\n      <td>1.017209e+06</td>\n      <td>1.017209e+06</td>\n    </tr>\n    <tr>\n      <th>mean</th>\n      <td>5.584297e+02</td>\n      <td>3.998341e+00</td>\n      <td>2.013832e+03</td>\n      <td>5.846762e+00</td>\n      <td>6.331459e+02</td>\n      <td>8.301067e-01</td>\n      <td>3.815145e-01</td>\n      <td>4.516279e-02</td>\n      <td>8.213533e-01</td>\n      <td>5.773819e+03</td>\n    </tr>\n    <tr>\n      <th>std</th>\n      <td>3.219087e+02</td>\n      <td>1.997391e+00</td>\n      <td>7.773960e-01</td>\n      <td>3.326097e+00</td>\n      <td>4.644117e+02</td>\n      <td>3.755392e-01</td>\n      <td>4.857586e-01</td>\n      <td>2.836559e-01</td>\n      <td>3.830564e-01</td>\n      <td>3.849926e+03</td>\n    </tr>\n    <tr>\n      <th>min</th>\n      <td>1.000000e+00</td>\n      <td>1.000000e+00</td>\n      <td>2.013000e+03</td>\n      <td>1.000000e+00</td>\n      <td>0.000000e+00</td>\n      <td>0.000000e+00</td>\n      <td>0.000000e+00</td>\n      <td>0.000000e+00</td>\n      <td>0.000000e+00</td>\n      <td>0.000000e+00</td>\n    </tr>\n    <tr>\n      <th>25%</th>\n      <td>2.800000e+02</td>\n      <td>2.000000e+00</td>\n      <td>2.013000e+03</td>\n      <td>3.000000e+00</td>\n      <td>4.050000e+02</td>\n      <td>1.000000e+00</td>\n      <td>0.000000e+00</td>\n      <td>0.000000e+00</td>\n      <td>1.000000e+00</td>\n      <td>3.727000e+03</td>\n    </tr>\n    <tr>\n      <th>50%</th>\n      <td>5.580000e+02</td>\n      <td>4.000000e+00</td>\n      <td>2.014000e+03</td>\n      <td>6.000000e+00</td>\n      <td>6.090000e+02</td>\n      <td>1.000000e+00</td>\n      <td>0.000000e+00</td>\n      <td>0.000000e+00</td>\n      <td>1.000000e+00</td>\n      <td>5.744000e+03</td>\n    </tr>\n    <tr>\n      <th>75%</th>\n      <td>8.380000e+02</td>\n      <td>6.000000e+00</td>\n      <td>2.014000e+03</td>\n      <td>8.000000e+00</td>\n      <td>8.370000e+02</td>\n      <td>1.000000e+00</td>\n      <td>1.000000e+00</td>\n      <td>0.000000e+00</td>\n      <td>1.000000e+00</td>\n      <td>7.856000e+03</td>\n    </tr>\n    <tr>\n      <th>max</th>\n      <td>1.115000e+03</td>\n      <td>7.000000e+00</td>\n      <td>2.015000e+03</td>\n      <td>1.200000e+01</td>\n      <td>7.388000e+03</td>\n      <td>1.000000e+00</td>\n      <td>1.000000e+00</td>\n      <td>3.000000e+00</td>\n      <td>1.000000e+00</td>\n      <td>4.155100e+04</td>\n    </tr>\n  </tbody>\n</table>\n</div>"
     },
     "execution_count": 17,
     "metadata": {},
     "output_type": "execute_result"
    }
   ],
   "source": [
    "train.describe()"
   ]
  },
  {
   "cell_type": "markdown",
   "id": "7c420970-d395-4ac4-bfc4-59a6b5736db4",
   "metadata": {},
   "source": [
    "A Rossmann shop is either open or close, as expected, but the following code is also for checking the NaN values:"
   ]
  },
  {
   "cell_type": "code",
   "execution_count": 18,
   "id": "513fe42b-5e8a-4e4d-8a91-8724124650f8",
   "metadata": {},
   "outputs": [
    {
     "data": {
      "text/plain": "array([1, 0])"
     },
     "execution_count": 18,
     "metadata": {},
     "output_type": "execute_result"
    }
   ],
   "source": [
    "train['Open'].unique()"
   ]
  },
  {
   "cell_type": "markdown",
   "id": "4c124bf2-9a75-45a3-9463-db1ba5a20d70",
   "metadata": {},
   "source": [
    "Select columns for the train data:\n",
    "\n"
   ]
  },
  {
   "cell_type": "code",
   "execution_count": 19,
   "id": "5f16964f-69ae-40af-97cf-2e40457455c3",
   "metadata": {},
   "outputs": [
    {
     "data": {
      "text/plain": "['Store',\n 'DayOfWeek',\n 'Date',\n 'Year',\n 'Month',\n 'Customers',\n 'Open',\n 'Promo',\n 'StateHoliday',\n 'SchoolHoliday',\n 'Sales']"
     },
     "execution_count": 19,
     "metadata": {},
     "output_type": "execute_result"
    }
   ],
   "source": [
    "train = train[['Store', 'DayOfWeek', 'Date', 'Year', 'Month', 'Customers', 'Open',\n",
    "               'Promo', 'StateHoliday', 'SchoolHoliday', 'Sales']]\n",
    "list(train.columns.values)"
   ]
  },
  {
   "cell_type": "markdown",
   "id": "adb8899b-68b2-4dda-9913-9c7782ff5d9e",
   "metadata": {},
   "source": [
    "Check for number of NaNs for selected columns."
   ]
  },
  {
   "cell_type": "code",
   "execution_count": 20,
   "id": "cf300f40-9afa-49ef-ac74-931fc3644e1d",
   "metadata": {},
   "outputs": [
    {
     "name": "stdout",
     "output_type": "stream",
     "text": [
      "NANs for individual columns\n",
      "---------------------------\n"
     ]
    },
    {
     "data": {
      "text/plain": "[('Store', 0),\n ('DayOfWeek', 0),\n ('Date', 0),\n ('Year', 0),\n ('Month', 0),\n ('Customers', 0),\n ('Open', 0),\n ('Promo', 0),\n ('StateHoliday', 0),\n ('SchoolHoliday', 0),\n ('Sales', 0)]"
     },
     "execution_count": 20,
     "metadata": {},
     "output_type": "execute_result"
    }
   ],
   "source": [
    "print(\"NANs for individual columns\")\n",
    "print(\"---------------------------\")\n",
    "from collections import Counter\n",
    "x = {colname : train[colname].isnull().sum() for colname in train.columns}\n",
    "Counter(x).most_common()"
   ]
  },
  {
   "cell_type": "markdown",
   "id": "8bc7d196-1b11-4576-a0b1-cde8ac6c18a1",
   "metadata": {},
   "source": [
    "Compute pairwise correlation of columns using pandas.corr() function."
   ]
  },
  {
   "cell_type": "code",
   "execution_count": 21,
   "id": "04909655-1080-4ca5-a7a9-6b1e21de34d8",
   "metadata": {},
   "outputs": [
    {
     "data": {
      "text/plain": "               DayOfWeek     Sales     Month      Year  Customers     Promo  \\\nDayOfWeek       1.000000 -0.462125 -0.005362  0.001937  -0.386445 -0.392925   \nSales          -0.462125  1.000000  0.048768  0.023519   0.894711  0.452345   \nMonth          -0.005362  0.048768  1.000000 -0.269382   0.038179 -0.011747   \nYear            0.001937  0.023519 -0.269382  1.000000  -0.001212  0.024300   \nCustomers      -0.386445  0.894711  0.038179 -0.001212   1.000000  0.316169   \nPromo          -0.392925  0.452345 -0.011747  0.024300   0.316169  1.000000   \nStateHoliday   -0.044265 -0.229029  0.038058 -0.005067  -0.204295 -0.024157   \nSchoolHoliday   0.205388 -0.085124 -0.103282  0.036535  -0.071568 -0.067483   \n\n               StateHoliday  SchoolHoliday  \nDayOfWeek         -0.044265       0.205388  \nSales             -0.229029      -0.085124  \nMonth              0.038058      -0.103282  \nYear              -0.005067       0.036535  \nCustomers         -0.204295      -0.071568  \nPromo             -0.024157      -0.067483  \nStateHoliday       1.000000      -0.196424  \nSchoolHoliday     -0.196424       1.000000  ",
      "text/html": "<div>\n<style scoped>\n    .dataframe tbody tr th:only-of-type {\n        vertical-align: middle;\n    }\n\n    .dataframe tbody tr th {\n        vertical-align: top;\n    }\n\n    .dataframe thead th {\n        text-align: right;\n    }\n</style>\n<table border=\"1\" class=\"dataframe\">\n  <thead>\n    <tr style=\"text-align: right;\">\n      <th></th>\n      <th>DayOfWeek</th>\n      <th>Sales</th>\n      <th>Month</th>\n      <th>Year</th>\n      <th>Customers</th>\n      <th>Promo</th>\n      <th>StateHoliday</th>\n      <th>SchoolHoliday</th>\n    </tr>\n  </thead>\n  <tbody>\n    <tr>\n      <th>DayOfWeek</th>\n      <td>1.000000</td>\n      <td>-0.462125</td>\n      <td>-0.005362</td>\n      <td>0.001937</td>\n      <td>-0.386445</td>\n      <td>-0.392925</td>\n      <td>-0.044265</td>\n      <td>0.205388</td>\n    </tr>\n    <tr>\n      <th>Sales</th>\n      <td>-0.462125</td>\n      <td>1.000000</td>\n      <td>0.048768</td>\n      <td>0.023519</td>\n      <td>0.894711</td>\n      <td>0.452345</td>\n      <td>-0.229029</td>\n      <td>-0.085124</td>\n    </tr>\n    <tr>\n      <th>Month</th>\n      <td>-0.005362</td>\n      <td>0.048768</td>\n      <td>1.000000</td>\n      <td>-0.269382</td>\n      <td>0.038179</td>\n      <td>-0.011747</td>\n      <td>0.038058</td>\n      <td>-0.103282</td>\n    </tr>\n    <tr>\n      <th>Year</th>\n      <td>0.001937</td>\n      <td>0.023519</td>\n      <td>-0.269382</td>\n      <td>1.000000</td>\n      <td>-0.001212</td>\n      <td>0.024300</td>\n      <td>-0.005067</td>\n      <td>0.036535</td>\n    </tr>\n    <tr>\n      <th>Customers</th>\n      <td>-0.386445</td>\n      <td>0.894711</td>\n      <td>0.038179</td>\n      <td>-0.001212</td>\n      <td>1.000000</td>\n      <td>0.316169</td>\n      <td>-0.204295</td>\n      <td>-0.071568</td>\n    </tr>\n    <tr>\n      <th>Promo</th>\n      <td>-0.392925</td>\n      <td>0.452345</td>\n      <td>-0.011747</td>\n      <td>0.024300</td>\n      <td>0.316169</td>\n      <td>1.000000</td>\n      <td>-0.024157</td>\n      <td>-0.067483</td>\n    </tr>\n    <tr>\n      <th>StateHoliday</th>\n      <td>-0.044265</td>\n      <td>-0.229029</td>\n      <td>0.038058</td>\n      <td>-0.005067</td>\n      <td>-0.204295</td>\n      <td>-0.024157</td>\n      <td>1.000000</td>\n      <td>-0.196424</td>\n    </tr>\n    <tr>\n      <th>SchoolHoliday</th>\n      <td>0.205388</td>\n      <td>-0.085124</td>\n      <td>-0.103282</td>\n      <td>0.036535</td>\n      <td>-0.071568</td>\n      <td>-0.067483</td>\n      <td>-0.196424</td>\n      <td>1.000000</td>\n    </tr>\n  </tbody>\n</table>\n</div>"
     },
     "metadata": {},
     "output_type": "display_data"
    }
   ],
   "source": [
    "corMat = pd.DataFrame(train.loc[:, ['DayOfWeek', 'Sales', 'Month', 'Year', 'Customers', 'Promo',\n",
    "                                    'StateHoliday', 'SchoolHoliday']].corr())\n",
    "display(corMat)"
   ]
  },
  {
   "cell_type": "markdown",
   "id": "0dfe1634-3e87-4175-9baf-34c3984c789f",
   "metadata": {},
   "source": [
    "Visualize correlation of the DataFrame using matplotlib.pcolor() function. Gray level correspond to the level of the measurement. Darker cells indicate high correlation."
   ]
  },
  {
   "cell_type": "markdown",
   "id": "4c3262a9-6573-4c95-95fc-8c66b68eb7a4",
   "metadata": {},
   "source": [
    "Seaborn specializes in static charts and makes making a heatmap from a Pandas DataFrame simple and a little bit nicer than matplotlib. Colors correspond to the level of the measurement.\n"
   ]
  },
  {
   "cell_type": "code",
   "execution_count": 22,
   "id": "e501819f-0666-475e-9a75-2e94178e1cf7",
   "metadata": {},
   "outputs": [
    {
     "data": {
      "text/plain": "<Figure size 432x288 with 2 Axes>",
      "image/png": "[encoded data removed]"
     },
     "metadata": {
      "needs_background": "light"
     },
     "output_type": "display_data"
    }
   ],
   "source": [
    "sns.heatmap(data=corMat)\n",
    "plt.show()"
   ]
  },
  {
   "cell_type": "markdown",
   "id": "f85d26c4-50ea-4da9-a5dd-c42a926fe021",
   "metadata": {},
   "source": [
    "### Test Dataset"
   ]
  },
  {
   "cell_type": "code",
   "execution_count": 23,
   "id": "1a90def3-fb2f-46ff-ab01-2e3fd97221e1",
   "metadata": {},
   "outputs": [
    {
     "data": {
      "text/plain": "(41088, 7)"
     },
     "execution_count": 23,
     "metadata": {},
     "output_type": "execute_result"
    }
   ],
   "source": [
    "test.shape"
   ]
  },
  {
   "cell_type": "code",
   "execution_count": 24,
   "id": "1ca8ca4e-2051-447a-8c68-8a8309aeafa1",
   "metadata": {},
   "outputs": [],
   "source": [
    "test['Year'] = pd.DatetimeIndex(test['Date']).year\n",
    "test['Month'] = pd.DatetimeIndex(test['Date']).month"
   ]
  },
  {
   "cell_type": "code",
   "execution_count": 25,
   "id": "d7f32308-9bfe-4bf7-acfe-bc5fdce2d0a4",
   "metadata": {},
   "outputs": [
    {
     "data": {
      "text/plain": "    Store  DayOfWeek       Date  Open  Promo StateHoliday SchoolHoliday  Year  \\\nId                                                                              \n1       1          4 2015-09-17   1.0      1            0             0  2015   \n2       3          4 2015-09-17   1.0      1            0             0  2015   \n3       7          4 2015-09-17   1.0      1            0             0  2015   \n4       8          4 2015-09-17   1.0      1            0             0  2015   \n5       9          4 2015-09-17   1.0      1            0             0  2015   \n\n    Month  \nId         \n1       9  \n2       9  \n3       9  \n4       9  \n5       9  ",
      "text/html": "<div>\n<style scoped>\n    .dataframe tbody tr th:only-of-type {\n        vertical-align: middle;\n    }\n\n    .dataframe tbody tr th {\n        vertical-align: top;\n    }\n\n    .dataframe thead th {\n        text-align: right;\n    }\n</style>\n<table border=\"1\" class=\"dataframe\">\n  <thead>\n    <tr style=\"text-align: right;\">\n      <th></th>\n      <th>Store</th>\n      <th>DayOfWeek</th>\n      <th>Date</th>\n      <th>Open</th>\n      <th>Promo</th>\n      <th>StateHoliday</th>\n      <th>SchoolHoliday</th>\n      <th>Year</th>\n      <th>Month</th>\n    </tr>\n    <tr>\n      <th>Id</th>\n      <th></th>\n      <th></th>\n      <th></th>\n      <th></th>\n      <th></th>\n      <th></th>\n      <th></th>\n      <th></th>\n      <th></th>\n    </tr>\n  </thead>\n  <tbody>\n    <tr>\n      <th>1</th>\n      <td>1</td>\n      <td>4</td>\n      <td>2015-09-17</td>\n      <td>1.0</td>\n      <td>1</td>\n      <td>0</td>\n      <td>0</td>\n      <td>2015</td>\n      <td>9</td>\n    </tr>\n    <tr>\n      <th>2</th>\n      <td>3</td>\n      <td>4</td>\n      <td>2015-09-17</td>\n      <td>1.0</td>\n      <td>1</td>\n      <td>0</td>\n      <td>0</td>\n      <td>2015</td>\n      <td>9</td>\n    </tr>\n    <tr>\n      <th>3</th>\n      <td>7</td>\n      <td>4</td>\n      <td>2015-09-17</td>\n      <td>1.0</td>\n      <td>1</td>\n      <td>0</td>\n      <td>0</td>\n      <td>2015</td>\n      <td>9</td>\n    </tr>\n    <tr>\n      <th>4</th>\n      <td>8</td>\n      <td>4</td>\n      <td>2015-09-17</td>\n      <td>1.0</td>\n      <td>1</td>\n      <td>0</td>\n      <td>0</td>\n      <td>2015</td>\n      <td>9</td>\n    </tr>\n    <tr>\n      <th>5</th>\n      <td>9</td>\n      <td>4</td>\n      <td>2015-09-17</td>\n      <td>1.0</td>\n      <td>1</td>\n      <td>0</td>\n      <td>0</td>\n      <td>2015</td>\n      <td>9</td>\n    </tr>\n  </tbody>\n</table>\n</div>"
     },
     "execution_count": 25,
     "metadata": {},
     "output_type": "execute_result"
    }
   ],
   "source": [
    "test.head()"
   ]
  },
  {
   "cell_type": "code",
   "execution_count": 26,
   "id": "15782da0-750d-4bb9-951c-244f729f46e3",
   "metadata": {},
   "outputs": [
    {
     "data": {
      "text/plain": "       Store  DayOfWeek       Date  Open  Promo StateHoliday SchoolHoliday  \\\nId                                                                           \n41084   1111          6 2015-08-01   1.0      0            0             0   \n41085   1112          6 2015-08-01   1.0      0            0             0   \n41086   1113          6 2015-08-01   1.0      0            0             0   \n41087   1114          6 2015-08-01   1.0      0            0             0   \n41088   1115          6 2015-08-01   1.0      0            0             1   \n\n       Year  Month  \nId                  \n41084  2015      8  \n41085  2015      8  \n41086  2015      8  \n41087  2015      8  \n41088  2015      8  ",
      "text/html": "<div>\n<style scoped>\n    .dataframe tbody tr th:only-of-type {\n        vertical-align: middle;\n    }\n\n    .dataframe tbody tr th {\n        vertical-align: top;\n    }\n\n    .dataframe thead th {\n        text-align: right;\n    }\n</style>\n<table border=\"1\" class=\"dataframe\">\n  <thead>\n    <tr style=\"text-align: right;\">\n      <th></th>\n      <th>Store</th>\n      <th>DayOfWeek</th>\n      <th>Date</th>\n      <th>Open</th>\n      <th>Promo</th>\n      <th>StateHoliday</th>\n      <th>SchoolHoliday</th>\n      <th>Year</th>\n      <th>Month</th>\n    </tr>\n    <tr>\n      <th>Id</th>\n      <th></th>\n      <th></th>\n      <th></th>\n      <th></th>\n      <th></th>\n      <th></th>\n      <th></th>\n      <th></th>\n      <th></th>\n    </tr>\n  </thead>\n  <tbody>\n    <tr>\n      <th>41084</th>\n      <td>1111</td>\n      <td>6</td>\n      <td>2015-08-01</td>\n      <td>1.0</td>\n      <td>0</td>\n      <td>0</td>\n      <td>0</td>\n      <td>2015</td>\n      <td>8</td>\n    </tr>\n    <tr>\n      <th>41085</th>\n      <td>1112</td>\n      <td>6</td>\n      <td>2015-08-01</td>\n      <td>1.0</td>\n      <td>0</td>\n      <td>0</td>\n      <td>0</td>\n      <td>2015</td>\n      <td>8</td>\n    </tr>\n    <tr>\n      <th>41086</th>\n      <td>1113</td>\n      <td>6</td>\n      <td>2015-08-01</td>\n      <td>1.0</td>\n      <td>0</td>\n      <td>0</td>\n      <td>0</td>\n      <td>2015</td>\n      <td>8</td>\n    </tr>\n    <tr>\n      <th>41087</th>\n      <td>1114</td>\n      <td>6</td>\n      <td>2015-08-01</td>\n      <td>1.0</td>\n      <td>0</td>\n      <td>0</td>\n      <td>0</td>\n      <td>2015</td>\n      <td>8</td>\n    </tr>\n    <tr>\n      <th>41088</th>\n      <td>1115</td>\n      <td>6</td>\n      <td>2015-08-01</td>\n      <td>1.0</td>\n      <td>0</td>\n      <td>0</td>\n      <td>1</td>\n      <td>2015</td>\n      <td>8</td>\n    </tr>\n  </tbody>\n</table>\n</div>"
     },
     "execution_count": 26,
     "metadata": {},
     "output_type": "execute_result"
    }
   ],
   "source": [
    "test.tail()"
   ]
  },
  {
   "cell_type": "code",
   "execution_count": 27,
   "id": "ce110188-798b-4a32-9b08-8c7d96270d93",
   "metadata": {},
   "outputs": [
    {
     "data": {
      "text/plain": "5984"
     },
     "execution_count": 27,
     "metadata": {},
     "output_type": "execute_result"
    }
   ],
   "source": [
    "sum(test['Open'] == 0)"
   ]
  },
  {
   "cell_type": "markdown",
   "id": "30fbe518-8e92-4453-b680-83b8fdbbfd90",
   "metadata": {},
   "source": [
    "Change the column names of the test dataset to get construct same feature names with the train dataset."
   ]
  },
  {
   "cell_type": "code",
   "execution_count": 28,
   "id": "3c193b07-8ba4-4eaa-be68-8877a53d1070",
   "metadata": {},
   "outputs": [
    {
     "data": {
      "text/plain": "['Store',\n 'DayOfWeek',\n 'Date',\n 'Year',\n 'Month',\n 'Open',\n 'Promo',\n 'StateHoliday',\n 'SchoolHoliday']"
     },
     "execution_count": 28,
     "metadata": {},
     "output_type": "execute_result"
    }
   ],
   "source": [
    "test = test[['Store', 'DayOfWeek', 'Date', 'Year', 'Month', 'Open',\n",
    "             'Promo', 'StateHoliday', 'SchoolHoliday']]\n",
    "list(test.columns.values)"
   ]
  },
  {
   "cell_type": "markdown",
   "id": "30c23f8e-fdfc-4a1b-9901-647464b22f23",
   "metadata": {},
   "source": [
    "For each column, see how many missing values exist."
   ]
  },
  {
   "cell_type": "code",
   "execution_count": 29,
   "id": "09cd4983-abcc-4dcc-a6db-6862490d510c",
   "metadata": {},
   "outputs": [
    {
     "name": "stdout",
     "output_type": "stream",
     "text": [
      "NANs for individual columns\n",
      "---------------------------\n"
     ]
    },
    {
     "data": {
      "text/plain": "[('Open', 11),\n ('Store', 0),\n ('DayOfWeek', 0),\n ('Date', 0),\n ('Year', 0),\n ('Month', 0),\n ('Promo', 0),\n ('StateHoliday', 0),\n ('SchoolHoliday', 0)]"
     },
     "execution_count": 29,
     "metadata": {},
     "output_type": "execute_result"
    }
   ],
   "source": [
    "print(\"NANs for individual columns\")\n",
    "print(\"---------------------------\")\n",
    "from collections import Counter\n",
    "x = {colname : test[colname].isnull().sum() for colname in test.columns}\n",
    "Counter(x).most_common()"
   ]
  },
  {
   "cell_type": "markdown",
   "id": "41025311-a44f-4511-bd2f-df47ae9745ac",
   "metadata": {},
   "source": [
    "There are 11 missing values in Open column. Let’s have a detailed look at those:"
   ]
  },
  {
   "cell_type": "code",
   "execution_count": 30,
   "id": "0af96963-dad4-44fa-aec3-bbfa0e8d472f",
   "metadata": {},
   "outputs": [
    {
     "data": {
      "text/plain": "       Store  DayOfWeek       Date  Year  Month  Open  Promo StateHoliday  \\\nId                                                                          \n480      622          4 2015-09-17  2015      9   NaN      1            0   \n1336     622          3 2015-09-16  2015      9   NaN      1            0   \n2192     622          2 2015-09-15  2015      9   NaN      1            0   \n3048     622          1 2015-09-14  2015      9   NaN      1            0   \n4760     622          6 2015-09-12  2015      9   NaN      0            0   \n5616     622          5 2015-09-11  2015      9   NaN      0            0   \n6472     622          4 2015-09-10  2015      9   NaN      0            0   \n7328     622          3 2015-09-09  2015      9   NaN      0            0   \n8184     622          2 2015-09-08  2015      9   NaN      0            0   \n9040     622          1 2015-09-07  2015      9   NaN      0            0   \n10752    622          6 2015-09-05  2015      9   NaN      0            0   \n\n      SchoolHoliday  \nId                   \n480               0  \n1336              0  \n2192              0  \n3048              0  \n4760              0  \n5616              0  \n6472              0  \n7328              0  \n8184              0  \n9040              0  \n10752             0  ",
      "text/html": "<div>\n<style scoped>\n    .dataframe tbody tr th:only-of-type {\n        vertical-align: middle;\n    }\n\n    .dataframe tbody tr th {\n        vertical-align: top;\n    }\n\n    .dataframe thead th {\n        text-align: right;\n    }\n</style>\n<table border=\"1\" class=\"dataframe\">\n  <thead>\n    <tr style=\"text-align: right;\">\n      <th></th>\n      <th>Store</th>\n      <th>DayOfWeek</th>\n      <th>Date</th>\n      <th>Year</th>\n      <th>Month</th>\n      <th>Open</th>\n      <th>Promo</th>\n      <th>StateHoliday</th>\n      <th>SchoolHoliday</th>\n    </tr>\n    <tr>\n      <th>Id</th>\n      <th></th>\n      <th></th>\n      <th></th>\n      <th></th>\n      <th></th>\n      <th></th>\n      <th></th>\n      <th></th>\n      <th></th>\n    </tr>\n  </thead>\n  <tbody>\n    <tr>\n      <th>480</th>\n      <td>622</td>\n      <td>4</td>\n      <td>2015-09-17</td>\n      <td>2015</td>\n      <td>9</td>\n      <td>NaN</td>\n      <td>1</td>\n      <td>0</td>\n      <td>0</td>\n    </tr>\n    <tr>\n      <th>1336</th>\n      <td>622</td>\n      <td>3</td>\n      <td>2015-09-16</td>\n      <td>2015</td>\n      <td>9</td>\n      <td>NaN</td>\n      <td>1</td>\n      <td>0</td>\n      <td>0</td>\n    </tr>\n    <tr>\n      <th>2192</th>\n      <td>622</td>\n      <td>2</td>\n      <td>2015-09-15</td>\n      <td>2015</td>\n      <td>9</td>\n      <td>NaN</td>\n      <td>1</td>\n      <td>0</td>\n      <td>0</td>\n    </tr>\n    <tr>\n      <th>3048</th>\n      <td>622</td>\n      <td>1</td>\n      <td>2015-09-14</td>\n      <td>2015</td>\n      <td>9</td>\n      <td>NaN</td>\n      <td>1</td>\n      <td>0</td>\n      <td>0</td>\n    </tr>\n    <tr>\n      <th>4760</th>\n      <td>622</td>\n      <td>6</td>\n      <td>2015-09-12</td>\n      <td>2015</td>\n      <td>9</td>\n      <td>NaN</td>\n      <td>0</td>\n      <td>0</td>\n      <td>0</td>\n    </tr>\n    <tr>\n      <th>5616</th>\n      <td>622</td>\n      <td>5</td>\n      <td>2015-09-11</td>\n      <td>2015</td>\n      <td>9</td>\n      <td>NaN</td>\n      <td>0</td>\n      <td>0</td>\n      <td>0</td>\n    </tr>\n    <tr>\n      <th>6472</th>\n      <td>622</td>\n      <td>4</td>\n      <td>2015-09-10</td>\n      <td>2015</td>\n      <td>9</td>\n      <td>NaN</td>\n      <td>0</td>\n      <td>0</td>\n      <td>0</td>\n    </tr>\n    <tr>\n      <th>7328</th>\n      <td>622</td>\n      <td>3</td>\n      <td>2015-09-09</td>\n      <td>2015</td>\n      <td>9</td>\n      <td>NaN</td>\n      <td>0</td>\n      <td>0</td>\n      <td>0</td>\n    </tr>\n    <tr>\n      <th>8184</th>\n      <td>622</td>\n      <td>2</td>\n      <td>2015-09-08</td>\n      <td>2015</td>\n      <td>9</td>\n      <td>NaN</td>\n      <td>0</td>\n      <td>0</td>\n      <td>0</td>\n    </tr>\n    <tr>\n      <th>9040</th>\n      <td>622</td>\n      <td>1</td>\n      <td>2015-09-07</td>\n      <td>2015</td>\n      <td>9</td>\n      <td>NaN</td>\n      <td>0</td>\n      <td>0</td>\n      <td>0</td>\n    </tr>\n    <tr>\n      <th>10752</th>\n      <td>622</td>\n      <td>6</td>\n      <td>2015-09-05</td>\n      <td>2015</td>\n      <td>9</td>\n      <td>NaN</td>\n      <td>0</td>\n      <td>0</td>\n      <td>0</td>\n    </tr>\n  </tbody>\n</table>\n</div>"
     },
     "metadata": {},
     "output_type": "display_data"
    }
   ],
   "source": [
    "display(test.loc[np.isnan(test['Open'])])"
   ]
  },
  {
   "cell_type": "markdown",
   "id": "63498a87-a028-46c2-85fd-b98ee900ba14",
   "metadata": {},
   "source": [
    "Do we have any information about store 622? Check train dataset:"
   ]
  },
  {
   "cell_type": "code",
   "execution_count": 31,
   "id": "be72a795-643a-44df-afd1-ccf472e9f18d",
   "metadata": {},
   "outputs": [
    {
     "data": {
      "text/plain": "      Store  DayOfWeek       Date  Year  Month  Customers  Open  Promo  \\\n621     622          5 2015-07-31  2015      7        540     1      1   \n1736    622          4 2015-07-30  2015      7        406     1      1   \n2851    622          3 2015-07-29  2015      7        468     1      1   \n3966    622          2 2015-07-28  2015      7        417     1      1   \n5081    622          1 2015-07-27  2015      7        517     1      1   \n\n      StateHoliday  SchoolHoliday  Sales  \n621              0              0   6306  \n1736             0              0   5412  \n2851             0              0   5326  \n3966             0              0   4966  \n5081             0              0   5413  ",
      "text/html": "<div>\n<style scoped>\n    .dataframe tbody tr th:only-of-type {\n        vertical-align: middle;\n    }\n\n    .dataframe tbody tr th {\n        vertical-align: top;\n    }\n\n    .dataframe thead th {\n        text-align: right;\n    }\n</style>\n<table border=\"1\" class=\"dataframe\">\n  <thead>\n    <tr style=\"text-align: right;\">\n      <th></th>\n      <th>Store</th>\n      <th>DayOfWeek</th>\n      <th>Date</th>\n      <th>Year</th>\n      <th>Month</th>\n      <th>Customers</th>\n      <th>Open</th>\n      <th>Promo</th>\n      <th>StateHoliday</th>\n      <th>SchoolHoliday</th>\n      <th>Sales</th>\n    </tr>\n  </thead>\n  <tbody>\n    <tr>\n      <th>621</th>\n      <td>622</td>\n      <td>5</td>\n      <td>2015-07-31</td>\n      <td>2015</td>\n      <td>7</td>\n      <td>540</td>\n      <td>1</td>\n      <td>1</td>\n      <td>0</td>\n      <td>0</td>\n      <td>6306</td>\n    </tr>\n    <tr>\n      <th>1736</th>\n      <td>622</td>\n      <td>4</td>\n      <td>2015-07-30</td>\n      <td>2015</td>\n      <td>7</td>\n      <td>406</td>\n      <td>1</td>\n      <td>1</td>\n      <td>0</td>\n      <td>0</td>\n      <td>5412</td>\n    </tr>\n    <tr>\n      <th>2851</th>\n      <td>622</td>\n      <td>3</td>\n      <td>2015-07-29</td>\n      <td>2015</td>\n      <td>7</td>\n      <td>468</td>\n      <td>1</td>\n      <td>1</td>\n      <td>0</td>\n      <td>0</td>\n      <td>5326</td>\n    </tr>\n    <tr>\n      <th>3966</th>\n      <td>622</td>\n      <td>2</td>\n      <td>2015-07-28</td>\n      <td>2015</td>\n      <td>7</td>\n      <td>417</td>\n      <td>1</td>\n      <td>1</td>\n      <td>0</td>\n      <td>0</td>\n      <td>4966</td>\n    </tr>\n    <tr>\n      <th>5081</th>\n      <td>622</td>\n      <td>1</td>\n      <td>2015-07-27</td>\n      <td>2015</td>\n      <td>7</td>\n      <td>517</td>\n      <td>1</td>\n      <td>1</td>\n      <td>0</td>\n      <td>0</td>\n      <td>5413</td>\n    </tr>\n  </tbody>\n</table>\n</div>"
     },
     "execution_count": 31,
     "metadata": {},
     "output_type": "execute_result"
    }
   ],
   "source": [
    "train.loc[train['Store'] == 622].head()"
   ]
  },
  {
   "cell_type": "markdown",
   "id": "bc0b3bb1-c84f-42e0-b8a0-a064e11442da",
   "metadata": {},
   "source": [
    "Avoid missing any information. So deleting the rows of Store 622 which have missing Open value, should be our last option. Either label it 0 or 1. As seen above, we have data for Store 622 in train dataset. Therefore, let’s label missing values of Open column in test dataset as 1."
   ]
  },
  {
   "cell_type": "code",
   "execution_count": 32,
   "id": "852cfa09-a573-417b-83bb-337001b5f6b1",
   "metadata": {},
   "outputs": [],
   "source": [
    "test.loc[np.isnan(test['Open']), 'Open'] = 1"
   ]
  },
  {
   "cell_type": "markdown",
   "id": "f3defe96-550c-4e1f-8bb7-dd35f26de8ab",
   "metadata": {},
   "source": [
    "Checking if there are any missing values left."
   ]
  },
  {
   "cell_type": "code",
   "execution_count": 33,
   "id": "1f7d019c-71a7-43a1-81a4-ea7264aee5f1",
   "metadata": {},
   "outputs": [
    {
     "name": "stdout",
     "output_type": "stream",
     "text": [
      "NANs for individual columns\n",
      "---------------------------\n"
     ]
    },
    {
     "data": {
      "text/plain": "[('Store', 0),\n ('DayOfWeek', 0),\n ('Date', 0),\n ('Year', 0),\n ('Month', 0),\n ('Open', 0),\n ('Promo', 0),\n ('StateHoliday', 0),\n ('SchoolHoliday', 0)]"
     },
     "execution_count": 33,
     "metadata": {},
     "output_type": "execute_result"
    }
   ],
   "source": [
    "print(\"NANs for individual columns\")\n",
    "print(\"---------------------------\")\n",
    "from collections import Counter\n",
    "x = {colname : test[colname].isnull().sum() for colname in test.columns}\n",
    "Counter(x).most_common()"
   ]
  },
  {
   "cell_type": "markdown",
   "id": "5e9a3144-5176-4711-a9da-db43d6b15435",
   "metadata": {},
   "source": [
    "Check for the data types for test dataset."
   ]
  },
  {
   "cell_type": "code",
   "execution_count": 34,
   "id": "34f38996-ceef-4d1d-8b34-6dcbb8eedbca",
   "metadata": {},
   "outputs": [
    {
     "data": {
      "text/plain": "Store                     int64\nDayOfWeek                 int64\nDate             datetime64[ns]\nYear                      int64\nMonth                     int64\nOpen                    float64\nPromo                     int64\nStateHoliday             object\nSchoolHoliday            object\ndtype: object"
     },
     "execution_count": 34,
     "metadata": {},
     "output_type": "execute_result"
    }
   ],
   "source": [
    "test.dtypes"
   ]
  },
  {
   "cell_type": "markdown",
   "id": "f8427fd2-9fbb-4c7c-8f53-bc578f4062bf",
   "metadata": {},
   "source": [
    "We have one state holiday in this dataset:"
   ]
  },
  {
   "cell_type": "code",
   "execution_count": 35,
   "id": "6c51ae8b-e7bf-496f-9dc6-0b03599ed55c",
   "metadata": {},
   "outputs": [
    {
     "data": {
      "text/plain": "array(['0', 'a'], dtype=object)"
     },
     "execution_count": 35,
     "metadata": {},
     "output_type": "execute_result"
    }
   ],
   "source": [
    "test['StateHoliday'].unique()"
   ]
  },
  {
   "cell_type": "markdown",
   "id": "610a0a79-7a74-4635-8ded-c3f4d39202c6",
   "metadata": {},
   "source": [
    "We have one school holiday in this dataset:"
   ]
  },
  {
   "cell_type": "code",
   "execution_count": 36,
   "id": "e75152cc-b902-4d25-951f-541d410c5287",
   "metadata": {},
   "outputs": [
    {
     "data": {
      "text/plain": "array(['0', '1'], dtype=object)"
     },
     "execution_count": 36,
     "metadata": {},
     "output_type": "execute_result"
    }
   ],
   "source": [
    "test['SchoolHoliday'].unique()"
   ]
  },
  {
   "cell_type": "markdown",
   "id": "52fd98ae-4da4-4be6-97e2-63f97f0cfac1",
   "metadata": {},
   "source": [
    "Change the categorical values (string type) of StateHoliday and SchoolHoliday columns to integers."
   ]
  },
  {
   "cell_type": "code",
   "execution_count": 37,
   "id": "2978aaec-0218-49b8-a4c7-ff838b36adf3",
   "metadata": {},
   "outputs": [
    {
     "name": "stdout",
     "output_type": "stream",
     "text": [
      "levels : [0 1] ; data type : int64\n",
      "levels : [0 1] ; data type : int64\n"
     ]
    },
    {
     "data": {
      "text/plain": "Store                     int64\nDayOfWeek                 int64\nDate             datetime64[ns]\nYear                      int64\nMonth                     int64\nOpen                    float64\nPromo                     int64\nStateHoliday              int64\nSchoolHoliday             int64\ndtype: object"
     },
     "execution_count": 37,
     "metadata": {},
     "output_type": "execute_result"
    }
   ],
   "source": [
    "factor_to_integer(test, 'StateHoliday')\n",
    "factor_to_integer(test, 'SchoolHoliday')\n",
    "test.dtypes"
   ]
  },
  {
   "cell_type": "markdown",
   "id": "cde6d7b2-162f-48e3-b8db-729ee63b408f",
   "metadata": {},
   "source": [
    "Because only StateHoliday 0 and 1 exist in test dataset, we should consider deleting the rows in train dataset that the StateHoliday value is different than 0 or 1."
   ]
  },
  {
   "cell_type": "code",
   "execution_count": 38,
   "id": "06847226-4fbc-4937-b2f3-7d56c725f3b6",
   "metadata": {},
   "outputs": [
    {
     "data": {
      "text/plain": "(10790, 11)"
     },
     "execution_count": 38,
     "metadata": {},
     "output_type": "execute_result"
    }
   ],
   "source": [
    "train.loc[train['StateHoliday'] > 1].shape"
   ]
  },
  {
   "cell_type": "code",
   "execution_count": 39,
   "id": "d622cef6-ad5a-4a2c-97e5-e4dbc17b3850",
   "metadata": {},
   "outputs": [],
   "source": [
    "train = train.loc[train['StateHoliday'] < 2]"
   ]
  },
  {
   "cell_type": "markdown",
   "id": "6e16baa2-eaf5-4553-b425-56dc6ddf15ff",
   "metadata": {},
   "source": [
    "### Store Dataset"
   ]
  },
  {
   "cell_type": "code",
   "execution_count": 40,
   "id": "837bdcff-f38e-4cd4-914b-90d2bd2a229c",
   "metadata": {},
   "outputs": [
    {
     "data": {
      "text/plain": "(1115, 10)"
     },
     "execution_count": 40,
     "metadata": {},
     "output_type": "execute_result"
    }
   ],
   "source": [
    "store.shape"
   ]
  },
  {
   "cell_type": "code",
   "execution_count": 41,
   "id": "fe64382e-c187-49cb-971c-324e875d2890",
   "metadata": {},
   "outputs": [
    {
     "data": {
      "text/plain": "   Store StoreType Assortment  CompetitionDistance  CompetitionOpenSinceMonth  \\\n0      1         c          a               1270.0                        9.0   \n1      2         a          a                570.0                       11.0   \n2      3         a          a              14130.0                       12.0   \n3      4         c          c                620.0                        9.0   \n4      5         a          a              29910.0                        4.0   \n\n   CompetitionOpenSinceYear  Promo2  Promo2SinceWeek  Promo2SinceYear  \\\n0                    2008.0       0              NaN              NaN   \n1                    2007.0       1             13.0           2010.0   \n2                    2006.0       1             14.0           2011.0   \n3                    2009.0       0              NaN              NaN   \n4                    2015.0       0              NaN              NaN   \n\n     PromoInterval  \n0              NaN  \n1  Jan,Apr,Jul,Oct  \n2  Jan,Apr,Jul,Oct  \n3              NaN  \n4              NaN  ",
      "text/html": "<div>\n<style scoped>\n    .dataframe tbody tr th:only-of-type {\n        vertical-align: middle;\n    }\n\n    .dataframe tbody tr th {\n        vertical-align: top;\n    }\n\n    .dataframe thead th {\n        text-align: right;\n    }\n</style>\n<table border=\"1\" class=\"dataframe\">\n  <thead>\n    <tr style=\"text-align: right;\">\n      <th></th>\n      <th>Store</th>\n      <th>StoreType</th>\n      <th>Assortment</th>\n      <th>CompetitionDistance</th>\n      <th>CompetitionOpenSinceMonth</th>\n      <th>CompetitionOpenSinceYear</th>\n      <th>Promo2</th>\n      <th>Promo2SinceWeek</th>\n      <th>Promo2SinceYear</th>\n      <th>PromoInterval</th>\n    </tr>\n  </thead>\n  <tbody>\n    <tr>\n      <th>0</th>\n      <td>1</td>\n      <td>c</td>\n      <td>a</td>\n      <td>1270.0</td>\n      <td>9.0</td>\n      <td>2008.0</td>\n      <td>0</td>\n      <td>NaN</td>\n      <td>NaN</td>\n      <td>NaN</td>\n    </tr>\n    <tr>\n      <th>1</th>\n      <td>2</td>\n      <td>a</td>\n      <td>a</td>\n      <td>570.0</td>\n      <td>11.0</td>\n      <td>2007.0</td>\n      <td>1</td>\n      <td>13.0</td>\n      <td>2010.0</td>\n      <td>Jan,Apr,Jul,Oct</td>\n    </tr>\n    <tr>\n      <th>2</th>\n      <td>3</td>\n      <td>a</td>\n      <td>a</td>\n      <td>14130.0</td>\n      <td>12.0</td>\n      <td>2006.0</td>\n      <td>1</td>\n      <td>14.0</td>\n      <td>2011.0</td>\n      <td>Jan,Apr,Jul,Oct</td>\n    </tr>\n    <tr>\n      <th>3</th>\n      <td>4</td>\n      <td>c</td>\n      <td>c</td>\n      <td>620.0</td>\n      <td>9.0</td>\n      <td>2009.0</td>\n      <td>0</td>\n      <td>NaN</td>\n      <td>NaN</td>\n      <td>NaN</td>\n    </tr>\n    <tr>\n      <th>4</th>\n      <td>5</td>\n      <td>a</td>\n      <td>a</td>\n      <td>29910.0</td>\n      <td>4.0</td>\n      <td>2015.0</td>\n      <td>0</td>\n      <td>NaN</td>\n      <td>NaN</td>\n      <td>NaN</td>\n    </tr>\n  </tbody>\n</table>\n</div>"
     },
     "execution_count": 41,
     "metadata": {},
     "output_type": "execute_result"
    }
   ],
   "source": [
    "store.head()"
   ]
  },
  {
   "cell_type": "code",
   "execution_count": 42,
   "id": "7a82888b-3b7e-49a2-a5dc-7a656668ae5b",
   "metadata": {},
   "outputs": [
    {
     "data": {
      "text/plain": "      Store StoreType Assortment  CompetitionDistance  \\\n1110   1111         a          a               1900.0   \n1111   1112         c          c               1880.0   \n1112   1113         a          c               9260.0   \n1113   1114         a          c                870.0   \n1114   1115         d          c               5350.0   \n\n      CompetitionOpenSinceMonth  CompetitionOpenSinceYear  Promo2  \\\n1110                        6.0                    2014.0       1   \n1111                        4.0                    2006.0       0   \n1112                        NaN                       NaN       0   \n1113                        NaN                       NaN       0   \n1114                        NaN                       NaN       1   \n\n      Promo2SinceWeek  Promo2SinceYear     PromoInterval  \n1110             31.0           2013.0   Jan,Apr,Jul,Oct  \n1111              NaN              NaN               NaN  \n1112              NaN              NaN               NaN  \n1113              NaN              NaN               NaN  \n1114             22.0           2012.0  Mar,Jun,Sept,Dec  ",
      "text/html": "<div>\n<style scoped>\n    .dataframe tbody tr th:only-of-type {\n        vertical-align: middle;\n    }\n\n    .dataframe tbody tr th {\n        vertical-align: top;\n    }\n\n    .dataframe thead th {\n        text-align: right;\n    }\n</style>\n<table border=\"1\" class=\"dataframe\">\n  <thead>\n    <tr style=\"text-align: right;\">\n      <th></th>\n      <th>Store</th>\n      <th>StoreType</th>\n      <th>Assortment</th>\n      <th>CompetitionDistance</th>\n      <th>CompetitionOpenSinceMonth</th>\n      <th>CompetitionOpenSinceYear</th>\n      <th>Promo2</th>\n      <th>Promo2SinceWeek</th>\n      <th>Promo2SinceYear</th>\n      <th>PromoInterval</th>\n    </tr>\n  </thead>\n  <tbody>\n    <tr>\n      <th>1110</th>\n      <td>1111</td>\n      <td>a</td>\n      <td>a</td>\n      <td>1900.0</td>\n      <td>6.0</td>\n      <td>2014.0</td>\n      <td>1</td>\n      <td>31.0</td>\n      <td>2013.0</td>\n      <td>Jan,Apr,Jul,Oct</td>\n    </tr>\n    <tr>\n      <th>1111</th>\n      <td>1112</td>\n      <td>c</td>\n      <td>c</td>\n      <td>1880.0</td>\n      <td>4.0</td>\n      <td>2006.0</td>\n      <td>0</td>\n      <td>NaN</td>\n      <td>NaN</td>\n      <td>NaN</td>\n    </tr>\n    <tr>\n      <th>1112</th>\n      <td>1113</td>\n      <td>a</td>\n      <td>c</td>\n      <td>9260.0</td>\n      <td>NaN</td>\n      <td>NaN</td>\n      <td>0</td>\n      <td>NaN</td>\n      <td>NaN</td>\n      <td>NaN</td>\n    </tr>\n    <tr>\n      <th>1113</th>\n      <td>1114</td>\n      <td>a</td>\n      <td>c</td>\n      <td>870.0</td>\n      <td>NaN</td>\n      <td>NaN</td>\n      <td>0</td>\n      <td>NaN</td>\n      <td>NaN</td>\n      <td>NaN</td>\n    </tr>\n    <tr>\n      <th>1114</th>\n      <td>1115</td>\n      <td>d</td>\n      <td>c</td>\n      <td>5350.0</td>\n      <td>NaN</td>\n      <td>NaN</td>\n      <td>1</td>\n      <td>22.0</td>\n      <td>2012.0</td>\n      <td>Mar,Jun,Sept,Dec</td>\n    </tr>\n  </tbody>\n</table>\n</div>"
     },
     "execution_count": 42,
     "metadata": {},
     "output_type": "execute_result"
    }
   ],
   "source": [
    "store.tail()"
   ]
  },
  {
   "cell_type": "markdown",
   "id": "55514f9b-9040-42d0-9887-3976c0984c83",
   "metadata": {},
   "source": [
    "Are there any missing values in this dataset?"
   ]
  },
  {
   "cell_type": "code",
   "execution_count": 43,
   "id": "748f1547-fa47-46fb-b875-8d40ae8417f7",
   "metadata": {},
   "outputs": [
    {
     "name": "stdout",
     "output_type": "stream",
     "text": [
      "NANs for individual columns\n",
      "---------------------------\n"
     ]
    },
    {
     "data": {
      "text/plain": "[('Promo2SinceWeek', 544),\n ('Promo2SinceYear', 544),\n ('PromoInterval', 544),\n ('CompetitionOpenSinceMonth', 354),\n ('CompetitionOpenSinceYear', 354),\n ('CompetitionDistance', 3),\n ('Store', 0),\n ('StoreType', 0),\n ('Assortment', 0),\n ('Promo2', 0)]"
     },
     "execution_count": 43,
     "metadata": {},
     "output_type": "execute_result"
    }
   ],
   "source": [
    "print(\"NANs for individual columns\")\n",
    "print(\"---------------------------\")\n",
    "from collections import Counter\n",
    "x = {colname : store[colname].isnull().sum() for colname in store.columns}\n",
    "Counter(x).most_common()"
   ]
  },
  {
   "cell_type": "markdown",
   "id": "d9df7f96-f77f-4796-a742-964a7e8b005b",
   "metadata": {},
   "source": [
    "Promo2SinceWeek, Promo2Interval, Promo2SinceYear, CompetitionOpenSinceMonth, CompetitionOpenSinceYear and CompetitionDistance columns have different size of missing values. We’ll first the contents, unique values in those columns then consider imputation using either scikit-learn or pandas built-in commands."
   ]
  },
  {
   "cell_type": "code",
   "execution_count": 44,
   "id": "c37b218b-b0b2-45b1-baaf-294996441896",
   "metadata": {},
   "outputs": [
    {
     "data": {
      "text/plain": "array([nan, 'Jan,Apr,Jul,Oct', 'Feb,May,Aug,Nov', 'Mar,Jun,Sept,Dec'],\n      dtype=object)"
     },
     "execution_count": 44,
     "metadata": {},
     "output_type": "execute_result"
    }
   ],
   "source": [
    "store['PromoInterval'].unique()"
   ]
  },
  {
   "cell_type": "markdown",
   "id": "a50d7f6c-a36d-416e-b818-5f238109505b",
   "metadata": {},
   "source": [
    "If there is no promotion, then the corresponding columns should have zero values."
   ]
  },
  {
   "cell_type": "code",
   "execution_count": 45,
   "id": "8cc754da-0c9e-4a0c-bc84-8acfdb714b25",
   "metadata": {},
   "outputs": [],
   "source": [
    "store.loc[store['Promo2'] == 0, ['Promo2SinceWeek', 'Promo2SinceYear', 'PromoInterval']] = 0"
   ]
  },
  {
   "cell_type": "code",
   "execution_count": 46,
   "id": "02912efd-031d-4c49-bcf2-7910074974f6",
   "metadata": {},
   "outputs": [],
   "source": [
    "store.loc[store['Promo2'] != 0, 'Promo2SinceWeek'] = store['Promo2SinceWeek'].max() - store.loc[store['Promo2'] != 0, 'Promo2SinceWeek']"
   ]
  },
  {
   "cell_type": "code",
   "execution_count": 47,
   "id": "fd4b086a-0176-441c-b154-c4b22b5d5c55",
   "metadata": {},
   "outputs": [],
   "source": [
    "store.loc[store['Promo2'] != 0, 'Promo2SinceYear'] = store['Promo2SinceYear'].max() - store.loc[store['Promo2'] != 0, 'Promo2SinceYear']"
   ]
  },
  {
   "cell_type": "code",
   "execution_count": 48,
   "id": "49b47e49-7f45-4984-8469-e9d5e9d7d15c",
   "metadata": {},
   "outputs": [
    {
     "name": "stdout",
     "output_type": "stream",
     "text": [
      "levels : [0 1 2 3] ; data type : int64\n"
     ]
    }
   ],
   "source": [
    "factor_to_integer(store, 'PromoInterval', start_value=0)"
   ]
  },
  {
   "cell_type": "markdown",
   "id": "fa8d96a6-b25e-4cc8-8ffc-67e3a9b95534",
   "metadata": {},
   "source": [
    "Check the data types."
   ]
  },
  {
   "cell_type": "code",
   "execution_count": 49,
   "id": "788f306f-9be8-4a06-9ed2-8926b8b9d150",
   "metadata": {},
   "outputs": [
    {
     "data": {
      "text/plain": "Store                          int64\nStoreType                     object\nAssortment                    object\nCompetitionDistance          float64\nCompetitionOpenSinceMonth    float64\nCompetitionOpenSinceYear     float64\nPromo2                         int64\nPromo2SinceWeek              float64\nPromo2SinceYear              float64\nPromoInterval                  int64\ndtype: object"
     },
     "execution_count": 49,
     "metadata": {},
     "output_type": "execute_result"
    }
   ],
   "source": [
    "store.dtypes"
   ]
  },
  {
   "cell_type": "markdown",
   "id": "124f9e34-fc45-47b4-86f8-7cbdf1536596",
   "metadata": {},
   "source": [
    "Change the categorical values (string type) of StoreType and Assortment columns to integers. Check the results."
   ]
  },
  {
   "cell_type": "code",
   "execution_count": 50,
   "id": "b533771c-d503-4b28-a968-46a824700940",
   "metadata": {},
   "outputs": [
    {
     "name": "stdout",
     "output_type": "stream",
     "text": [
      "levels : [0 1 2 3] ; data type : int64\n",
      "levels : [0 1 2] ; data type : int64\n"
     ]
    },
    {
     "data": {
      "text/plain": "Store                          int64\nStoreType                      int64\nAssortment                     int64\nCompetitionDistance          float64\nCompetitionOpenSinceMonth    float64\nCompetitionOpenSinceYear     float64\nPromo2                         int64\nPromo2SinceWeek              float64\nPromo2SinceYear              float64\nPromoInterval                  int64\ndtype: object"
     },
     "execution_count": 50,
     "metadata": {},
     "output_type": "execute_result"
    }
   ],
   "source": [
    "factor_to_integer(store, 'StoreType')\n",
    "factor_to_integer(store, 'Assortment')\n",
    "store.dtypes"
   ]
  },
  {
   "cell_type": "markdown",
   "id": "021219ef-541b-4818-b5b9-9204accf07d7",
   "metadata": {},
   "source": [
    "An overview of the data after the latest settings."
   ]
  },
  {
   "cell_type": "code",
   "execution_count": 51,
   "id": "51182c59-5c5d-464e-b2bd-3e72203cafbe",
   "metadata": {},
   "outputs": [
    {
     "data": {
      "text/plain": "   Store  StoreType  Assortment  CompetitionDistance  \\\n0      1          0           0               1270.0   \n1      2          1           0                570.0   \n2      3          1           0              14130.0   \n3      4          0           1                620.0   \n4      5          1           0              29910.0   \n\n   CompetitionOpenSinceMonth  CompetitionOpenSinceYear  Promo2  \\\n0                        9.0                    2008.0       0   \n1                       11.0                    2007.0       1   \n2                       12.0                    2006.0       1   \n3                        9.0                    2009.0       0   \n4                        4.0                    2015.0       0   \n\n   Promo2SinceWeek  Promo2SinceYear  PromoInterval  \n0              0.0              0.0              0  \n1             37.0              5.0              1  \n2             36.0              4.0              1  \n3              0.0              0.0              0  \n4              0.0              0.0              0  ",
      "text/html": "<div>\n<style scoped>\n    .dataframe tbody tr th:only-of-type {\n        vertical-align: middle;\n    }\n\n    .dataframe tbody tr th {\n        vertical-align: top;\n    }\n\n    .dataframe thead th {\n        text-align: right;\n    }\n</style>\n<table border=\"1\" class=\"dataframe\">\n  <thead>\n    <tr style=\"text-align: right;\">\n      <th></th>\n      <th>Store</th>\n      <th>StoreType</th>\n      <th>Assortment</th>\n      <th>CompetitionDistance</th>\n      <th>CompetitionOpenSinceMonth</th>\n      <th>CompetitionOpenSinceYear</th>\n      <th>Promo2</th>\n      <th>Promo2SinceWeek</th>\n      <th>Promo2SinceYear</th>\n      <th>PromoInterval</th>\n    </tr>\n  </thead>\n  <tbody>\n    <tr>\n      <th>0</th>\n      <td>1</td>\n      <td>0</td>\n      <td>0</td>\n      <td>1270.0</td>\n      <td>9.0</td>\n      <td>2008.0</td>\n      <td>0</td>\n      <td>0.0</td>\n      <td>0.0</td>\n      <td>0</td>\n    </tr>\n    <tr>\n      <th>1</th>\n      <td>2</td>\n      <td>1</td>\n      <td>0</td>\n      <td>570.0</td>\n      <td>11.0</td>\n      <td>2007.0</td>\n      <td>1</td>\n      <td>37.0</td>\n      <td>5.0</td>\n      <td>1</td>\n    </tr>\n    <tr>\n      <th>2</th>\n      <td>3</td>\n      <td>1</td>\n      <td>0</td>\n      <td>14130.0</td>\n      <td>12.0</td>\n      <td>2006.0</td>\n      <td>1</td>\n      <td>36.0</td>\n      <td>4.0</td>\n      <td>1</td>\n    </tr>\n    <tr>\n      <th>3</th>\n      <td>4</td>\n      <td>0</td>\n      <td>1</td>\n      <td>620.0</td>\n      <td>9.0</td>\n      <td>2009.0</td>\n      <td>0</td>\n      <td>0.0</td>\n      <td>0.0</td>\n      <td>0</td>\n    </tr>\n    <tr>\n      <th>4</th>\n      <td>5</td>\n      <td>1</td>\n      <td>0</td>\n      <td>29910.0</td>\n      <td>4.0</td>\n      <td>2015.0</td>\n      <td>0</td>\n      <td>0.0</td>\n      <td>0.0</td>\n      <td>0</td>\n    </tr>\n  </tbody>\n</table>\n</div>"
     },
     "execution_count": 51,
     "metadata": {},
     "output_type": "execute_result"
    }
   ],
   "source": [
    "store.head()"
   ]
  },
  {
   "cell_type": "markdown",
   "id": "899cded8-07f1-434f-aaa8-fb5ff2c59c37",
   "metadata": {},
   "source": [
    "Are there still missing values?"
   ]
  },
  {
   "cell_type": "code",
   "execution_count": 52,
   "id": "3a92e96d-4583-44eb-9fbf-d8d86beb24dc",
   "metadata": {},
   "outputs": [
    {
     "name": "stdout",
     "output_type": "stream",
     "text": [
      "NANs for individual columns\n",
      "---------------------------\n"
     ]
    },
    {
     "data": {
      "text/plain": "[('CompetitionOpenSinceMonth', 354),\n ('CompetitionOpenSinceYear', 354),\n ('CompetitionDistance', 3),\n ('Store', 0),\n ('StoreType', 0),\n ('Assortment', 0),\n ('Promo2', 0),\n ('Promo2SinceWeek', 0),\n ('Promo2SinceYear', 0),\n ('PromoInterval', 0)]"
     },
     "execution_count": 52,
     "metadata": {},
     "output_type": "execute_result"
    }
   ],
   "source": [
    "print(\"NANs for individual columns\")\n",
    "print(\"---------------------------\")\n",
    "from collections import Counter\n",
    "x = {colname : store[colname].isnull().sum() for colname in store.columns}\n",
    "Counter(x).most_common()"
   ]
  },
  {
   "cell_type": "markdown",
   "id": "38411572-8b85-409e-9344-0afcccb96fa1",
   "metadata": {},
   "source": [
    "Filling the missing values with sklearn’s built-in command. Filling with the column.mean()."
   ]
  },
  {
   "cell_type": "code",
   "execution_count": 53,
   "id": "38281433-3552-41ac-ac8b-1562649f3b7e",
   "metadata": {},
   "outputs": [],
   "source": [
    "from sklearn.impute import SimpleImputer\n",
    "imputer = SimpleImputer().fit(store)\n",
    "store_imputed = imputer.transform(store)"
   ]
  },
  {
   "cell_type": "markdown",
   "id": "536b07fb-08fa-416e-9607-bc03b8aeb77d",
   "metadata": {},
   "source": [
    "Check the results."
   ]
  },
  {
   "cell_type": "code",
   "execution_count": 54,
   "id": "1832bd14-32ba-4a18-9d3d-90e2c2de52e8",
   "metadata": {},
   "outputs": [],
   "source": [
    "store2 = pd.DataFrame(store_imputed, columns=store.columns.values)"
   ]
  },
  {
   "cell_type": "code",
   "execution_count": 55,
   "id": "49549256-c77a-47ac-a61b-7f8ba9ecc3dd",
   "metadata": {},
   "outputs": [
    {
     "name": "stdout",
     "output_type": "stream",
     "text": [
      "NANs for individual columns\n",
      "---------------------------\n"
     ]
    },
    {
     "data": {
      "text/plain": "[('Store', 0),\n ('StoreType', 0),\n ('Assortment', 0),\n ('CompetitionDistance', 0),\n ('CompetitionOpenSinceMonth', 0),\n ('CompetitionOpenSinceYear', 0),\n ('Promo2', 0),\n ('Promo2SinceWeek', 0),\n ('Promo2SinceYear', 0),\n ('PromoInterval', 0)]"
     },
     "execution_count": 55,
     "metadata": {},
     "output_type": "execute_result"
    }
   ],
   "source": [
    "print(\"NANs for individual columns\")\n",
    "print(\"---------------------------\")\n",
    "from collections import Counter\n",
    "x = {colname : store2[colname].isnull().sum() for colname in store2.columns}\n",
    "Counter(x).most_common()"
   ]
  },
  {
   "cell_type": "code",
   "execution_count": 56,
   "id": "527afd66-1ee5-4bcf-b849-fd4e86b20fda",
   "metadata": {},
   "outputs": [
    {
     "data": {
      "text/plain": "   Store  StoreType  Assortment  CompetitionDistance  \\\n0    1.0        0.0         0.0               1270.0   \n1    2.0        1.0         0.0                570.0   \n2    3.0        1.0         0.0              14130.0   \n3    4.0        0.0         1.0                620.0   \n4    5.0        1.0         0.0              29910.0   \n\n   CompetitionOpenSinceMonth  CompetitionOpenSinceYear  Promo2  \\\n0                        9.0                    2008.0     0.0   \n1                       11.0                    2007.0     1.0   \n2                       12.0                    2006.0     1.0   \n3                        9.0                    2009.0     0.0   \n4                        4.0                    2015.0     0.0   \n\n   Promo2SinceWeek  Promo2SinceYear  PromoInterval  \n0              0.0              0.0            0.0  \n1             37.0              5.0            1.0  \n2             36.0              4.0            1.0  \n3              0.0              0.0            0.0  \n4              0.0              0.0            0.0  ",
      "text/html": "<div>\n<style scoped>\n    .dataframe tbody tr th:only-of-type {\n        vertical-align: middle;\n    }\n\n    .dataframe tbody tr th {\n        vertical-align: top;\n    }\n\n    .dataframe thead th {\n        text-align: right;\n    }\n</style>\n<table border=\"1\" class=\"dataframe\">\n  <thead>\n    <tr style=\"text-align: right;\">\n      <th></th>\n      <th>Store</th>\n      <th>StoreType</th>\n      <th>Assortment</th>\n      <th>CompetitionDistance</th>\n      <th>CompetitionOpenSinceMonth</th>\n      <th>CompetitionOpenSinceYear</th>\n      <th>Promo2</th>\n      <th>Promo2SinceWeek</th>\n      <th>Promo2SinceYear</th>\n      <th>PromoInterval</th>\n    </tr>\n  </thead>\n  <tbody>\n    <tr>\n      <th>0</th>\n      <td>1.0</td>\n      <td>0.0</td>\n      <td>0.0</td>\n      <td>1270.0</td>\n      <td>9.0</td>\n      <td>2008.0</td>\n      <td>0.0</td>\n      <td>0.0</td>\n      <td>0.0</td>\n      <td>0.0</td>\n    </tr>\n    <tr>\n      <th>1</th>\n      <td>2.0</td>\n      <td>1.0</td>\n      <td>0.0</td>\n      <td>570.0</td>\n      <td>11.0</td>\n      <td>2007.0</td>\n      <td>1.0</td>\n      <td>37.0</td>\n      <td>5.0</td>\n      <td>1.0</td>\n    </tr>\n    <tr>\n      <th>2</th>\n      <td>3.0</td>\n      <td>1.0</td>\n      <td>0.0</td>\n      <td>14130.0</td>\n      <td>12.0</td>\n      <td>2006.0</td>\n      <td>1.0</td>\n      <td>36.0</td>\n      <td>4.0</td>\n      <td>1.0</td>\n    </tr>\n    <tr>\n      <th>3</th>\n      <td>4.0</td>\n      <td>0.0</td>\n      <td>1.0</td>\n      <td>620.0</td>\n      <td>9.0</td>\n      <td>2009.0</td>\n      <td>0.0</td>\n      <td>0.0</td>\n      <td>0.0</td>\n      <td>0.0</td>\n    </tr>\n    <tr>\n      <th>4</th>\n      <td>5.0</td>\n      <td>1.0</td>\n      <td>0.0</td>\n      <td>29910.0</td>\n      <td>4.0</td>\n      <td>2015.0</td>\n      <td>0.0</td>\n      <td>0.0</td>\n      <td>0.0</td>\n      <td>0.0</td>\n    </tr>\n  </tbody>\n</table>\n</div>"
     },
     "execution_count": 56,
     "metadata": {},
     "output_type": "execute_result"
    }
   ],
   "source": [
    "store2.head()"
   ]
  },
  {
   "cell_type": "code",
   "execution_count": 57,
   "id": "f1f9c347-3587-46b3-9b2f-38c86867f905",
   "metadata": {},
   "outputs": [],
   "source": [
    "store2['CompetitionOpenSinceMonth'] = store2['CompetitionOpenSinceMonth'].max() - store2['CompetitionOpenSinceMonth']"
   ]
  },
  {
   "cell_type": "code",
   "execution_count": 58,
   "id": "39441946-260f-4a18-84ae-fca9d8b3f446",
   "metadata": {},
   "outputs": [],
   "source": [
    "store2['CompetitionOpenSinceYear'] = store2['CompetitionOpenSinceYear'].max() - store2['CompetitionOpenSinceYear']"
   ]
  },
  {
   "cell_type": "code",
   "execution_count": 59,
   "id": "3485839b-376c-43ce-aeb8-646c23efa8b3",
   "metadata": {},
   "outputs": [
    {
     "data": {
      "text/plain": "       Store  StoreType  Assortment  CompetitionDistance  \\\n1110  1111.0        1.0         0.0               1900.0   \n1111  1112.0        0.0         1.0               1880.0   \n1112  1113.0        1.0         1.0               9260.0   \n1113  1114.0        1.0         1.0                870.0   \n1114  1115.0        2.0         1.0               5350.0   \n\n      CompetitionOpenSinceMonth  CompetitionOpenSinceYear  Promo2  \\\n1110                   6.000000                  1.000000     1.0   \n1111                   8.000000                  9.000000     0.0   \n1112                   4.775296                  6.331143     0.0   \n1113                   4.775296                  6.331143     0.0   \n1114                   4.775296                  6.331143     1.0   \n\n      Promo2SinceWeek  Promo2SinceYear  PromoInterval  \n1110             19.0              2.0            1.0  \n1111              0.0              0.0            0.0  \n1112              0.0              0.0            0.0  \n1113              0.0              0.0            0.0  \n1114             28.0              3.0            3.0  ",
      "text/html": "<div>\n<style scoped>\n    .dataframe tbody tr th:only-of-type {\n        vertical-align: middle;\n    }\n\n    .dataframe tbody tr th {\n        vertical-align: top;\n    }\n\n    .dataframe thead th {\n        text-align: right;\n    }\n</style>\n<table border=\"1\" class=\"dataframe\">\n  <thead>\n    <tr style=\"text-align: right;\">\n      <th></th>\n      <th>Store</th>\n      <th>StoreType</th>\n      <th>Assortment</th>\n      <th>CompetitionDistance</th>\n      <th>CompetitionOpenSinceMonth</th>\n      <th>CompetitionOpenSinceYear</th>\n      <th>Promo2</th>\n      <th>Promo2SinceWeek</th>\n      <th>Promo2SinceYear</th>\n      <th>PromoInterval</th>\n    </tr>\n  </thead>\n  <tbody>\n    <tr>\n      <th>1110</th>\n      <td>1111.0</td>\n      <td>1.0</td>\n      <td>0.0</td>\n      <td>1900.0</td>\n      <td>6.000000</td>\n      <td>1.000000</td>\n      <td>1.0</td>\n      <td>19.0</td>\n      <td>2.0</td>\n      <td>1.0</td>\n    </tr>\n    <tr>\n      <th>1111</th>\n      <td>1112.0</td>\n      <td>0.0</td>\n      <td>1.0</td>\n      <td>1880.0</td>\n      <td>8.000000</td>\n      <td>9.000000</td>\n      <td>0.0</td>\n      <td>0.0</td>\n      <td>0.0</td>\n      <td>0.0</td>\n    </tr>\n    <tr>\n      <th>1112</th>\n      <td>1113.0</td>\n      <td>1.0</td>\n      <td>1.0</td>\n      <td>9260.0</td>\n      <td>4.775296</td>\n      <td>6.331143</td>\n      <td>0.0</td>\n      <td>0.0</td>\n      <td>0.0</td>\n      <td>0.0</td>\n    </tr>\n    <tr>\n      <th>1113</th>\n      <td>1114.0</td>\n      <td>1.0</td>\n      <td>1.0</td>\n      <td>870.0</td>\n      <td>4.775296</td>\n      <td>6.331143</td>\n      <td>0.0</td>\n      <td>0.0</td>\n      <td>0.0</td>\n      <td>0.0</td>\n    </tr>\n    <tr>\n      <th>1114</th>\n      <td>1115.0</td>\n      <td>2.0</td>\n      <td>1.0</td>\n      <td>5350.0</td>\n      <td>4.775296</td>\n      <td>6.331143</td>\n      <td>1.0</td>\n      <td>28.0</td>\n      <td>3.0</td>\n      <td>3.0</td>\n    </tr>\n  </tbody>\n</table>\n</div>"
     },
     "execution_count": 59,
     "metadata": {},
     "output_type": "execute_result"
    }
   ],
   "source": [
    "store2.tail()"
   ]
  },
  {
   "cell_type": "markdown",
   "id": "9a7cabe2-deab-4c20-9e2f-b2a056a35726",
   "metadata": {},
   "source": [
    "Are the Store column similar in both train and store datasets?"
   ]
  },
  {
   "cell_type": "code",
   "execution_count": 60,
   "id": "7b211472-2736-47b7-a9db-eaf8cd6c2d61",
   "metadata": {},
   "outputs": [
    {
     "data": {
      "text/plain": "0"
     },
     "execution_count": 60,
     "metadata": {},
     "output_type": "execute_result"
    }
   ],
   "source": [
    "len(store2['Store']) - sum(store2['Store'].isin(train['Store']))"
   ]
  },
  {
   "cell_type": "code",
   "execution_count": 61,
   "id": "ed900b29-a52e-40b1-bef8-01bfe879fbca",
   "metadata": {},
   "outputs": [
    {
     "data": {
      "text/plain": "0"
     },
     "execution_count": 61,
     "metadata": {},
     "output_type": "execute_result"
    }
   ],
   "source": [
    "# Checking if there are additional (unnecessary) stores in \"train\" data.\n",
    "# No difference at all!\n",
    "\n",
    "StoreStore = pd.Series(store2['Store']); StoreTrain = pd.Series(train['Store'])\n",
    "\n",
    "sum(StoreTrain.isin(StoreStore) == False)"
   ]
  },
  {
   "cell_type": "markdown",
   "id": "d2cdf7ec-c2a5-49fc-bb3c-6eb0e10a1bd3",
   "metadata": {},
   "source": [
    "Merge train and store datasets before modeling the data."
   ]
  },
  {
   "cell_type": "code",
   "execution_count": 62,
   "id": "2d91be44-e7b2-47e8-8bed-9274c77abc30",
   "metadata": {},
   "outputs": [],
   "source": [
    "train_store = pd.merge(train, store2, how = 'left', on='Store')"
   ]
  },
  {
   "cell_type": "markdown",
   "id": "7c447533-d03e-465c-aee8-bff56ea19cdb",
   "metadata": {},
   "source": [
    "Check the results."
   ]
  },
  {
   "cell_type": "code",
   "execution_count": 63,
   "id": "9a90dd46-edd7-459a-b536-97c573b860ed",
   "metadata": {},
   "outputs": [
    {
     "data": {
      "text/plain": "   Store  DayOfWeek       Date  Year  Month  Customers  Open  Promo  \\\n0      1          5 2015-07-31  2015      7        555     1      1   \n1      2          5 2015-07-31  2015      7        625     1      1   \n2      3          5 2015-07-31  2015      7        821     1      1   \n3      4          5 2015-07-31  2015      7       1498     1      1   \n4      5          5 2015-07-31  2015      7        559     1      1   \n\n   StateHoliday  SchoolHoliday  Sales  StoreType  Assortment  \\\n0             0              0   5263        0.0         0.0   \n1             0              0   6064        1.0         0.0   \n2             0              0   8314        1.0         0.0   \n3             0              0  13995        0.0         1.0   \n4             0              0   4822        1.0         0.0   \n\n   CompetitionDistance  CompetitionOpenSinceMonth  CompetitionOpenSinceYear  \\\n0               1270.0                        3.0                       7.0   \n1                570.0                        1.0                       8.0   \n2              14130.0                        0.0                       9.0   \n3                620.0                        3.0                       6.0   \n4              29910.0                        8.0                       0.0   \n\n   Promo2  Promo2SinceWeek  Promo2SinceYear  PromoInterval  \n0     0.0              0.0              0.0            0.0  \n1     1.0             37.0              5.0            1.0  \n2     1.0             36.0              4.0            1.0  \n3     0.0              0.0              0.0            0.0  \n4     0.0              0.0              0.0            0.0  ",
      "text/html": "<div>\n<style scoped>\n    .dataframe tbody tr th:only-of-type {\n        vertical-align: middle;\n    }\n\n    .dataframe tbody tr th {\n        vertical-align: top;\n    }\n\n    .dataframe thead th {\n        text-align: right;\n    }\n</style>\n<table border=\"1\" class=\"dataframe\">\n  <thead>\n    <tr style=\"text-align: right;\">\n      <th></th>\n      <th>Store</th>\n      <th>DayOfWeek</th>\n      <th>Date</th>\n      <th>Year</th>\n      <th>Month</th>\n      <th>Customers</th>\n      <th>Open</th>\n      <th>Promo</th>\n      <th>StateHoliday</th>\n      <th>SchoolHoliday</th>\n      <th>Sales</th>\n      <th>StoreType</th>\n      <th>Assortment</th>\n      <th>CompetitionDistance</th>\n      <th>CompetitionOpenSinceMonth</th>\n      <th>CompetitionOpenSinceYear</th>\n      <th>Promo2</th>\n      <th>Promo2SinceWeek</th>\n      <th>Promo2SinceYear</th>\n      <th>PromoInterval</th>\n    </tr>\n  </thead>\n  <tbody>\n    <tr>\n      <th>0</th>\n      <td>1</td>\n      <td>5</td>\n      <td>2015-07-31</td>\n      <td>2015</td>\n      <td>7</td>\n      <td>555</td>\n      <td>1</td>\n      <td>1</td>\n      <td>0</td>\n      <td>0</td>\n      <td>5263</td>\n      <td>0.0</td>\n      <td>0.0</td>\n      <td>1270.0</td>\n      <td>3.0</td>\n      <td>7.0</td>\n      <td>0.0</td>\n      <td>0.0</td>\n      <td>0.0</td>\n      <td>0.0</td>\n    </tr>\n    <tr>\n      <th>1</th>\n      <td>2</td>\n      <td>5</td>\n      <td>2015-07-31</td>\n      <td>2015</td>\n      <td>7</td>\n      <td>625</td>\n      <td>1</td>\n      <td>1</td>\n      <td>0</td>\n      <td>0</td>\n      <td>6064</td>\n      <td>1.0</td>\n      <td>0.0</td>\n      <td>570.0</td>\n      <td>1.0</td>\n      <td>8.0</td>\n      <td>1.0</td>\n      <td>37.0</td>\n      <td>5.0</td>\n      <td>1.0</td>\n    </tr>\n    <tr>\n      <th>2</th>\n      <td>3</td>\n      <td>5</td>\n      <td>2015-07-31</td>\n      <td>2015</td>\n      <td>7</td>\n      <td>821</td>\n      <td>1</td>\n      <td>1</td>\n      <td>0</td>\n      <td>0</td>\n      <td>8314</td>\n      <td>1.0</td>\n      <td>0.0</td>\n      <td>14130.0</td>\n      <td>0.0</td>\n      <td>9.0</td>\n      <td>1.0</td>\n      <td>36.0</td>\n      <td>4.0</td>\n      <td>1.0</td>\n    </tr>\n    <tr>\n      <th>3</th>\n      <td>4</td>\n      <td>5</td>\n      <td>2015-07-31</td>\n      <td>2015</td>\n      <td>7</td>\n      <td>1498</td>\n      <td>1</td>\n      <td>1</td>\n      <td>0</td>\n      <td>0</td>\n      <td>13995</td>\n      <td>0.0</td>\n      <td>1.0</td>\n      <td>620.0</td>\n      <td>3.0</td>\n      <td>6.0</td>\n      <td>0.0</td>\n      <td>0.0</td>\n      <td>0.0</td>\n      <td>0.0</td>\n    </tr>\n    <tr>\n      <th>4</th>\n      <td>5</td>\n      <td>5</td>\n      <td>2015-07-31</td>\n      <td>2015</td>\n      <td>7</td>\n      <td>559</td>\n      <td>1</td>\n      <td>1</td>\n      <td>0</td>\n      <td>0</td>\n      <td>4822</td>\n      <td>1.0</td>\n      <td>0.0</td>\n      <td>29910.0</td>\n      <td>8.0</td>\n      <td>0.0</td>\n      <td>0.0</td>\n      <td>0.0</td>\n      <td>0.0</td>\n      <td>0.0</td>\n    </tr>\n  </tbody>\n</table>\n</div>"
     },
     "execution_count": 63,
     "metadata": {},
     "output_type": "execute_result"
    }
   ],
   "source": [
    "train_store.head()"
   ]
  },
  {
   "cell_type": "code",
   "execution_count": 64,
   "id": "2a37c114-2178-4acd-a58a-b1071b0b230f",
   "metadata": {},
   "outputs": [
    {
     "data": {
      "text/plain": "         Store  DayOfWeek       Date  Year  Month  Customers  Open  Promo  \\\n1006414   1111          2 2013-01-01  2013      1          0     0      0   \n1006415   1112          2 2013-01-01  2013      1          0     0      0   \n1006416   1113          2 2013-01-01  2013      1          0     0      0   \n1006417   1114          2 2013-01-01  2013      1          0     0      0   \n1006418   1115          2 2013-01-01  2013      1          0     0      0   \n\n         StateHoliday  SchoolHoliday  Sales  StoreType  Assortment  \\\n1006414             1              0      0        1.0         0.0   \n1006415             1              0      0        0.0         1.0   \n1006416             1              0      0        1.0         1.0   \n1006417             1              0      0        1.0         1.0   \n1006418             1              0      0        2.0         1.0   \n\n         CompetitionDistance  CompetitionOpenSinceMonth  \\\n1006414               1900.0                   6.000000   \n1006415               1880.0                   8.000000   \n1006416               9260.0                   4.775296   \n1006417                870.0                   4.775296   \n1006418               5350.0                   4.775296   \n\n         CompetitionOpenSinceYear  Promo2  Promo2SinceWeek  Promo2SinceYear  \\\n1006414                  1.000000     1.0             19.0              2.0   \n1006415                  9.000000     0.0              0.0              0.0   \n1006416                  6.331143     0.0              0.0              0.0   \n1006417                  6.331143     0.0              0.0              0.0   \n1006418                  6.331143     1.0             28.0              3.0   \n\n         PromoInterval  \n1006414            1.0  \n1006415            0.0  \n1006416            0.0  \n1006417            0.0  \n1006418            3.0  ",
      "text/html": "<div>\n<style scoped>\n    .dataframe tbody tr th:only-of-type {\n        vertical-align: middle;\n    }\n\n    .dataframe tbody tr th {\n        vertical-align: top;\n    }\n\n    .dataframe thead th {\n        text-align: right;\n    }\n</style>\n<table border=\"1\" class=\"dataframe\">\n  <thead>\n    <tr style=\"text-align: right;\">\n      <th></th>\n      <th>Store</th>\n      <th>DayOfWeek</th>\n      <th>Date</th>\n      <th>Year</th>\n      <th>Month</th>\n      <th>Customers</th>\n      <th>Open</th>\n      <th>Promo</th>\n      <th>StateHoliday</th>\n      <th>SchoolHoliday</th>\n      <th>Sales</th>\n      <th>StoreType</th>\n      <th>Assortment</th>\n      <th>CompetitionDistance</th>\n      <th>CompetitionOpenSinceMonth</th>\n      <th>CompetitionOpenSinceYear</th>\n      <th>Promo2</th>\n      <th>Promo2SinceWeek</th>\n      <th>Promo2SinceYear</th>\n      <th>PromoInterval</th>\n    </tr>\n  </thead>\n  <tbody>\n    <tr>\n      <th>1006414</th>\n      <td>1111</td>\n      <td>2</td>\n      <td>2013-01-01</td>\n      <td>2013</td>\n      <td>1</td>\n      <td>0</td>\n      <td>0</td>\n      <td>0</td>\n      <td>1</td>\n      <td>0</td>\n      <td>0</td>\n      <td>1.0</td>\n      <td>0.0</td>\n      <td>1900.0</td>\n      <td>6.000000</td>\n      <td>1.000000</td>\n      <td>1.0</td>\n      <td>19.0</td>\n      <td>2.0</td>\n      <td>1.0</td>\n    </tr>\n    <tr>\n      <th>1006415</th>\n      <td>1112</td>\n      <td>2</td>\n      <td>2013-01-01</td>\n      <td>2013</td>\n      <td>1</td>\n      <td>0</td>\n      <td>0</td>\n      <td>0</td>\n      <td>1</td>\n      <td>0</td>\n      <td>0</td>\n      <td>0.0</td>\n      <td>1.0</td>\n      <td>1880.0</td>\n      <td>8.000000</td>\n      <td>9.000000</td>\n      <td>0.0</td>\n      <td>0.0</td>\n      <td>0.0</td>\n      <td>0.0</td>\n    </tr>\n    <tr>\n      <th>1006416</th>\n      <td>1113</td>\n      <td>2</td>\n      <td>2013-01-01</td>\n      <td>2013</td>\n      <td>1</td>\n      <td>0</td>\n      <td>0</td>\n      <td>0</td>\n      <td>1</td>\n      <td>0</td>\n      <td>0</td>\n      <td>1.0</td>\n      <td>1.0</td>\n      <td>9260.0</td>\n      <td>4.775296</td>\n      <td>6.331143</td>\n      <td>0.0</td>\n      <td>0.0</td>\n      <td>0.0</td>\n      <td>0.0</td>\n    </tr>\n    <tr>\n      <th>1006417</th>\n      <td>1114</td>\n      <td>2</td>\n      <td>2013-01-01</td>\n      <td>2013</td>\n      <td>1</td>\n      <td>0</td>\n      <td>0</td>\n      <td>0</td>\n      <td>1</td>\n      <td>0</td>\n      <td>0</td>\n      <td>1.0</td>\n      <td>1.0</td>\n      <td>870.0</td>\n      <td>4.775296</td>\n      <td>6.331143</td>\n      <td>0.0</td>\n      <td>0.0</td>\n      <td>0.0</td>\n      <td>0.0</td>\n    </tr>\n    <tr>\n      <th>1006418</th>\n      <td>1115</td>\n      <td>2</td>\n      <td>2013-01-01</td>\n      <td>2013</td>\n      <td>1</td>\n      <td>0</td>\n      <td>0</td>\n      <td>0</td>\n      <td>1</td>\n      <td>0</td>\n      <td>0</td>\n      <td>2.0</td>\n      <td>1.0</td>\n      <td>5350.0</td>\n      <td>4.775296</td>\n      <td>6.331143</td>\n      <td>1.0</td>\n      <td>28.0</td>\n      <td>3.0</td>\n      <td>3.0</td>\n    </tr>\n  </tbody>\n</table>\n</div>"
     },
     "execution_count": 64,
     "metadata": {},
     "output_type": "execute_result"
    }
   ],
   "source": [
    "train_store.tail()"
   ]
  },
  {
   "cell_type": "markdown",
   "id": "3c3068e5-b19f-41f9-bef4-7de40a39e357",
   "metadata": {},
   "source": [
    "Merge test and store datasets and check the result."
   ]
  },
  {
   "cell_type": "code",
   "execution_count": 65,
   "id": "e2986216-a950-4c05-aa7e-1ca5b8941633",
   "metadata": {},
   "outputs": [],
   "source": [
    "test_store = test.reset_index().merge(store2, how = 'left', on='Store').set_index('Id')"
   ]
  },
  {
   "cell_type": "code",
   "execution_count": 66,
   "id": "84c08e21-426e-49ae-bd22-2210ebae2c63",
   "metadata": {},
   "outputs": [
    {
     "data": {
      "text/plain": "    Store  DayOfWeek       Date  Year  Month  Open  Promo  StateHoliday  \\\nId                                                                        \n1       1          4 2015-09-17  2015      9   1.0      1             0   \n2       3          4 2015-09-17  2015      9   1.0      1             0   \n3       7          4 2015-09-17  2015      9   1.0      1             0   \n4       8          4 2015-09-17  2015      9   1.0      1             0   \n5       9          4 2015-09-17  2015      9   1.0      1             0   \n\n    SchoolHoliday  StoreType  Assortment  CompetitionDistance  \\\nId                                                              \n1               0        0.0         0.0               1270.0   \n2               0        1.0         0.0              14130.0   \n3               0        1.0         1.0              24000.0   \n4               0        1.0         0.0               7520.0   \n5               0        1.0         1.0               2030.0   \n\n    CompetitionOpenSinceMonth  CompetitionOpenSinceYear  Promo2  \\\nId                                                                \n1                         3.0                       7.0     0.0   \n2                         0.0                       9.0     1.0   \n3                         8.0                       2.0     0.0   \n4                         2.0                       1.0     0.0   \n5                         4.0                      15.0     0.0   \n\n    Promo2SinceWeek  Promo2SinceYear  PromoInterval  \nId                                                   \n1               0.0              0.0            0.0  \n2              36.0              4.0            1.0  \n3               0.0              0.0            0.0  \n4               0.0              0.0            0.0  \n5               0.0              0.0            0.0  ",
      "text/html": "<div>\n<style scoped>\n    .dataframe tbody tr th:only-of-type {\n        vertical-align: middle;\n    }\n\n    .dataframe tbody tr th {\n        vertical-align: top;\n    }\n\n    .dataframe thead th {\n        text-align: right;\n    }\n</style>\n<table border=\"1\" class=\"dataframe\">\n  <thead>\n    <tr style=\"text-align: right;\">\n      <th></th>\n      <th>Store</th>\n      <th>DayOfWeek</th>\n      <th>Date</th>\n      <th>Year</th>\n      <th>Month</th>\n      <th>Open</th>\n      <th>Promo</th>\n      <th>StateHoliday</th>\n      <th>SchoolHoliday</th>\n      <th>StoreType</th>\n      <th>Assortment</th>\n      <th>CompetitionDistance</th>\n      <th>CompetitionOpenSinceMonth</th>\n      <th>CompetitionOpenSinceYear</th>\n      <th>Promo2</th>\n      <th>Promo2SinceWeek</th>\n      <th>Promo2SinceYear</th>\n      <th>PromoInterval</th>\n    </tr>\n    <tr>\n      <th>Id</th>\n      <th></th>\n      <th></th>\n      <th></th>\n      <th></th>\n      <th></th>\n      <th></th>\n      <th></th>\n      <th></th>\n      <th></th>\n      <th></th>\n      <th></th>\n      <th></th>\n      <th></th>\n      <th></th>\n      <th></th>\n      <th></th>\n      <th></th>\n      <th></th>\n    </tr>\n  </thead>\n  <tbody>\n    <tr>\n      <th>1</th>\n      <td>1</td>\n      <td>4</td>\n      <td>2015-09-17</td>\n      <td>2015</td>\n      <td>9</td>\n      <td>1.0</td>\n      <td>1</td>\n      <td>0</td>\n      <td>0</td>\n      <td>0.0</td>\n      <td>0.0</td>\n      <td>1270.0</td>\n      <td>3.0</td>\n      <td>7.0</td>\n      <td>0.0</td>\n      <td>0.0</td>\n      <td>0.0</td>\n      <td>0.0</td>\n    </tr>\n    <tr>\n      <th>2</th>\n      <td>3</td>\n      <td>4</td>\n      <td>2015-09-17</td>\n      <td>2015</td>\n      <td>9</td>\n      <td>1.0</td>\n      <td>1</td>\n      <td>0</td>\n      <td>0</td>\n      <td>1.0</td>\n      <td>0.0</td>\n      <td>14130.0</td>\n      <td>0.0</td>\n      <td>9.0</td>\n      <td>1.0</td>\n      <td>36.0</td>\n      <td>4.0</td>\n      <td>1.0</td>\n    </tr>\n    <tr>\n      <th>3</th>\n      <td>7</td>\n      <td>4</td>\n      <td>2015-09-17</td>\n      <td>2015</td>\n      <td>9</td>\n      <td>1.0</td>\n      <td>1</td>\n      <td>0</td>\n      <td>0</td>\n      <td>1.0</td>\n      <td>1.0</td>\n      <td>24000.0</td>\n      <td>8.0</td>\n      <td>2.0</td>\n      <td>0.0</td>\n      <td>0.0</td>\n      <td>0.0</td>\n      <td>0.0</td>\n    </tr>\n    <tr>\n      <th>4</th>\n      <td>8</td>\n      <td>4</td>\n      <td>2015-09-17</td>\n      <td>2015</td>\n      <td>9</td>\n      <td>1.0</td>\n      <td>1</td>\n      <td>0</td>\n      <td>0</td>\n      <td>1.0</td>\n      <td>0.0</td>\n      <td>7520.0</td>\n      <td>2.0</td>\n      <td>1.0</td>\n      <td>0.0</td>\n      <td>0.0</td>\n      <td>0.0</td>\n      <td>0.0</td>\n    </tr>\n    <tr>\n      <th>5</th>\n      <td>9</td>\n      <td>4</td>\n      <td>2015-09-17</td>\n      <td>2015</td>\n      <td>9</td>\n      <td>1.0</td>\n      <td>1</td>\n      <td>0</td>\n      <td>0</td>\n      <td>1.0</td>\n      <td>1.0</td>\n      <td>2030.0</td>\n      <td>4.0</td>\n      <td>15.0</td>\n      <td>0.0</td>\n      <td>0.0</td>\n      <td>0.0</td>\n      <td>0.0</td>\n    </tr>\n  </tbody>\n</table>\n</div>"
     },
     "execution_count": 66,
     "metadata": {},
     "output_type": "execute_result"
    }
   ],
   "source": [
    "test_store.head()"
   ]
  },
  {
   "cell_type": "code",
   "execution_count": 67,
   "id": "1288fed8-eb5d-4dbb-b3c3-733d86f42312",
   "metadata": {},
   "outputs": [
    {
     "data": {
      "text/plain": "(41088, 18)"
     },
     "execution_count": 67,
     "metadata": {},
     "output_type": "execute_result"
    }
   ],
   "source": [
    "test_store.shape"
   ]
  },
  {
   "cell_type": "code",
   "execution_count": 68,
   "id": "13dabdc3-5194-4388-9a08-5e3a3a81fedc",
   "metadata": {},
   "outputs": [
    {
     "data": {
      "text/plain": "Store                        0\nDayOfWeek                    0\nDate                         0\nYear                         0\nMonth                        0\nOpen                         0\nPromo                        0\nStateHoliday                 0\nSchoolHoliday                0\nStoreType                    0\nAssortment                   0\nCompetitionDistance          0\nCompetitionOpenSinceMonth    0\nCompetitionOpenSinceYear     0\nPromo2                       0\nPromo2SinceWeek              0\nPromo2SinceYear              0\nPromoInterval                0\ndtype: int64"
     },
     "execution_count": 68,
     "metadata": {},
     "output_type": "execute_result"
    }
   ],
   "source": [
    "test_store.isnull().sum()"
   ]
  },
  {
   "cell_type": "markdown",
   "id": "3a104404-01ac-475f-9577-499251c1ad53",
   "metadata": {},
   "source": [
    "## Visual Exploration"
   ]
  },
  {
   "cell_type": "code",
   "execution_count": 69,
   "id": "b9692585-a79d-4c32-b46e-7f18e88f6ef1",
   "metadata": {},
   "outputs": [
    {
     "data": {
      "text/plain": "<Figure size 432x288 with 1 Axes>",
      "image/png": "[encoded data removed]"
     },
     "metadata": {
      "needs_background": "light"
     },
     "output_type": "display_data"
    }
   ],
   "source": [
    "train_store.boxplot(column='Sales', by='Year')\n",
    "plt.show()"
   ]
  },
  {
   "cell_type": "code",
   "execution_count": 70,
   "id": "826baa9c-87d5-4191-a630-5a2e3b2c1f74",
   "metadata": {},
   "outputs": [
    {
     "data": {
      "text/plain": "<Figure size 432x288 with 1 Axes>",
      "image/png": "[encoded data removed]"
     },
     "metadata": {
      "needs_background": "light"
     },
     "output_type": "display_data"
    }
   ],
   "source": [
    "train_store.boxplot(column='Sales', by='Month')\n",
    "plt.show()"
   ]
  },
  {
   "cell_type": "code",
   "execution_count": 71,
   "id": "65914647-2143-4875-924b-d8b1ef1ea44f",
   "metadata": {},
   "outputs": [
    {
     "data": {
      "text/plain": "<Figure size 432x288 with 1 Axes>",
      "image/png": "[encoded data removed]"
     },
     "metadata": {
      "needs_background": "light"
     },
     "output_type": "display_data"
    }
   ],
   "source": [
    "train_store.boxplot(column='Sales', by='StateHoliday')\n",
    "plt.show()"
   ]
  },
  {
   "cell_type": "code",
   "execution_count": 72,
   "id": "ac85ecda-56cd-4012-8af7-711cd116fe01",
   "metadata": {},
   "outputs": [
    {
     "data": {
      "text/plain": "<Figure size 432x288 with 1 Axes>",
      "image/png": "[encoded data removed]"
     },
     "metadata": {
      "needs_background": "light"
     },
     "output_type": "display_data"
    }
   ],
   "source": [
    "train_store.boxplot(column='Sales', by='SchoolHoliday')\n",
    "plt.show()"
   ]
  },
  {
   "cell_type": "code",
   "execution_count": 73,
   "id": "6bcc3261-2d33-4355-b541-c4602ecb4825",
   "metadata": {},
   "outputs": [
    {
     "data": {
      "text/plain": "<Figure size 432x288 with 1 Axes>",
      "image/png": "[encoded data removed]"
     },
     "metadata": {
      "needs_background": "light"
     },
     "output_type": "display_data"
    }
   ],
   "source": [
    "train_store.boxplot(column='Sales', by='StoreType')\n",
    "plt.show()"
   ]
  },
  {
   "cell_type": "code",
   "execution_count": 74,
   "id": "e0937475-d6dd-4899-8ddf-8405312d206a",
   "metadata": {},
   "outputs": [
    {
     "data": {
      "text/plain": "<Figure size 432x288 with 1 Axes>",
      "image/png": "[encoded data removed]"
     },
     "metadata": {
      "needs_background": "light"
     },
     "output_type": "display_data"
    }
   ],
   "source": [
    "train_store.boxplot(column='Sales', by='DayOfWeek')\n",
    "plt.show()"
   ]
  },
  {
   "cell_type": "code",
   "execution_count": 75,
   "id": "eec3b38a-1308-41df-a528-b4e86ac56f26",
   "metadata": {},
   "outputs": [
    {
     "data": {
      "text/plain": "<Figure size 432x288 with 1 Axes>",
      "image/png": "[encoded data removed]"
     },
     "metadata": {
      "needs_background": "light"
     },
     "output_type": "display_data"
    }
   ],
   "source": [
    "train_store.boxplot(column='Sales', by='Promo2')\n",
    "plt.show()"
   ]
  },
  {
   "cell_type": "code",
   "execution_count": 76,
   "id": "e5385dd5-53a9-42f3-9450-f18b84e1f8cb",
   "metadata": {},
   "outputs": [
    {
     "data": {
      "text/plain": "<Figure size 432x288 with 1 Axes>",
      "image/png": "[encoded data removed]"
     },
     "metadata": {
      "needs_background": "light"
     },
     "output_type": "display_data"
    }
   ],
   "source": [
    "train_store.loc[train_store['Promo2'] != 0].boxplot(column='Sales', by='Promo2SinceYear')\n",
    "plt.show()"
   ]
  },
  {
   "cell_type": "code",
   "execution_count": 77,
   "id": "1d4c99bb-7c11-4f16-8743-796bcf17fb11",
   "metadata": {},
   "outputs": [
    {
     "data": {
      "text/plain": "<Figure size 432x288 with 1 Axes>",
      "image/png": "[encoded data removed]"
     },
     "metadata": {
      "needs_background": "light"
     },
     "output_type": "display_data"
    }
   ],
   "source": [
    "train_store.boxplot(column='Customers', by='Month')\n",
    "plt.show()"
   ]
  },
  {
   "cell_type": "code",
   "execution_count": 78,
   "id": "4dde9a8a-ab9a-4edb-b2c9-e49e2faeb862",
   "metadata": {},
   "outputs": [
    {
     "data": {
      "text/plain": "<Figure size 432x288 with 1 Axes>",
      "image/png": "[encoded data removed]"
     },
     "metadata": {
      "needs_background": "light"
     },
     "output_type": "display_data"
    }
   ],
   "source": [
    "train_store.loc[train_store['Promo2'] != 0].boxplot(column='Sales', by='PromoInterval')\n",
    "plt.show()"
   ]
  },
  {
   "cell_type": "code",
   "execution_count": 79,
   "id": "b9242cc6-0876-4f90-9bd7-34a2d00fba3f",
   "metadata": {},
   "outputs": [
    {
     "data": {
      "text/plain": "<Figure size 432x288 with 4 Axes>",
      "image/png": "[encoded data removed]"
     },
     "metadata": {
      "needs_background": "light"
     },
     "output_type": "display_data"
    }
   ],
   "source": [
    "train_store.hist(column='Sales', by='Year', bins=30)\n",
    "plt.show()"
   ]
  },
  {
   "cell_type": "code",
   "execution_count": 80,
   "id": "e0218297-117d-41dc-a556-65a7b665e9a7",
   "metadata": {},
   "outputs": [
    {
     "data": {
      "text/plain": "<Figure size 432x288 with 12 Axes>",
      "image/png": "[encoded data removed]"
     },
     "metadata": {
      "needs_background": "light"
     },
     "output_type": "display_data"
    }
   ],
   "source": [
    "train_store.hist(column='Sales', by='Month', bins=30)\n",
    "plt.show()"
   ]
  },
  {
   "cell_type": "code",
   "execution_count": 81,
   "id": "53ccfb3f-6bab-49db-985a-a4437f8d65d4",
   "metadata": {},
   "outputs": [
    {
     "data": {
      "text/plain": "<Figure size 432x288 with 1 Axes>",
      "image/png": "[encoded data removed]"
     },
     "metadata": {
      "needs_background": "light"
     },
     "output_type": "display_data"
    }
   ],
   "source": [
    "train_store.hist(column='CompetitionDistance', bins=30)\n",
    "plt.show()"
   ]
  },
  {
   "cell_type": "markdown",
   "id": "2c7a5c1a-1ad9-42fb-8e42-e443804f6cd9",
   "metadata": {},
   "source": [
    "## MODELING"
   ]
  },
  {
   "cell_type": "code",
   "execution_count": 82,
   "id": "a6516f02-8677-4d82-b890-557edb546273",
   "metadata": {},
   "outputs": [
    {
     "data": {
      "text/plain": "array(['Store', 'DayOfWeek', 'Date', 'Year', 'Month', 'Customers', 'Open',\n       'Promo', 'StateHoliday', 'SchoolHoliday', 'Sales', 'StoreType',\n       'Assortment', 'CompetitionDistance', 'CompetitionOpenSinceMonth',\n       'CompetitionOpenSinceYear', 'Promo2', 'Promo2SinceWeek',\n       'Promo2SinceYear', 'PromoInterval'], dtype=object)"
     },
     "execution_count": 82,
     "metadata": {},
     "output_type": "execute_result"
    }
   ],
   "source": [
    "train_store.columns.values"
   ]
  },
  {
   "cell_type": "code",
   "execution_count": 83,
   "id": "a3f07d98-65ac-4c48-8f29-0614b54126f6",
   "metadata": {},
   "outputs": [
    {
     "data": {
      "text/plain": "   Store  DayOfWeek  Year  Month  Open  Promo  StateHoliday  SchoolHoliday  \\\n0      1          5     0      7     1      1             0              0   \n1      2          5     0      7     1      1             0              0   \n2      3          5     0      7     1      1             0              0   \n3      4          5     0      7     1      1             0              0   \n4      5          5     0      7     1      1             0              0   \n\n   Sales  StoreType  Assortment  CompetitionDistance  \\\n0   5263        0.0         0.0               1270.0   \n1   6064        1.0         0.0                570.0   \n2   8314        1.0         0.0              14130.0   \n3  13995        0.0         1.0                620.0   \n4   4822        1.0         0.0              29910.0   \n\n   CompetitionOpenSinceMonth  CompetitionOpenSinceYear  Promo2  \\\n0                        3.0                       7.0     0.0   \n1                        1.0                       8.0     1.0   \n2                        0.0                       9.0     1.0   \n3                        3.0                       6.0     0.0   \n4                        8.0                       0.0     0.0   \n\n   Promo2SinceWeek  Promo2SinceYear  PromoInterval  \n0              0.0              0.0            0.0  \n1             37.0              5.0            1.0  \n2             36.0              4.0            1.0  \n3              0.0              0.0            0.0  \n4              0.0              0.0            0.0  ",
      "text/html": "<div>\n<style scoped>\n    .dataframe tbody tr th:only-of-type {\n        vertical-align: middle;\n    }\n\n    .dataframe tbody tr th {\n        vertical-align: top;\n    }\n\n    .dataframe thead th {\n        text-align: right;\n    }\n</style>\n<table border=\"1\" class=\"dataframe\">\n  <thead>\n    <tr style=\"text-align: right;\">\n      <th></th>\n      <th>Store</th>\n      <th>DayOfWeek</th>\n      <th>Year</th>\n      <th>Month</th>\n      <th>Open</th>\n      <th>Promo</th>\n      <th>StateHoliday</th>\n      <th>SchoolHoliday</th>\n      <th>Sales</th>\n      <th>StoreType</th>\n      <th>Assortment</th>\n      <th>CompetitionDistance</th>\n      <th>CompetitionOpenSinceMonth</th>\n      <th>CompetitionOpenSinceYear</th>\n      <th>Promo2</th>\n      <th>Promo2SinceWeek</th>\n      <th>Promo2SinceYear</th>\n      <th>PromoInterval</th>\n    </tr>\n  </thead>\n  <tbody>\n    <tr>\n      <th>0</th>\n      <td>1</td>\n      <td>5</td>\n      <td>0</td>\n      <td>7</td>\n      <td>1</td>\n      <td>1</td>\n      <td>0</td>\n      <td>0</td>\n      <td>5263</td>\n      <td>0.0</td>\n      <td>0.0</td>\n      <td>1270.0</td>\n      <td>3.0</td>\n      <td>7.0</td>\n      <td>0.0</td>\n      <td>0.0</td>\n      <td>0.0</td>\n      <td>0.0</td>\n    </tr>\n    <tr>\n      <th>1</th>\n      <td>2</td>\n      <td>5</td>\n      <td>0</td>\n      <td>7</td>\n      <td>1</td>\n      <td>1</td>\n      <td>0</td>\n      <td>0</td>\n      <td>6064</td>\n      <td>1.0</td>\n      <td>0.0</td>\n      <td>570.0</td>\n      <td>1.0</td>\n      <td>8.0</td>\n      <td>1.0</td>\n      <td>37.0</td>\n      <td>5.0</td>\n      <td>1.0</td>\n    </tr>\n    <tr>\n      <th>2</th>\n      <td>3</td>\n      <td>5</td>\n      <td>0</td>\n      <td>7</td>\n      <td>1</td>\n      <td>1</td>\n      <td>0</td>\n      <td>0</td>\n      <td>8314</td>\n      <td>1.0</td>\n      <td>0.0</td>\n      <td>14130.0</td>\n      <td>0.0</td>\n      <td>9.0</td>\n      <td>1.0</td>\n      <td>36.0</td>\n      <td>4.0</td>\n      <td>1.0</td>\n    </tr>\n    <tr>\n      <th>3</th>\n      <td>4</td>\n      <td>5</td>\n      <td>0</td>\n      <td>7</td>\n      <td>1</td>\n      <td>1</td>\n      <td>0</td>\n      <td>0</td>\n      <td>13995</td>\n      <td>0.0</td>\n      <td>1.0</td>\n      <td>620.0</td>\n      <td>3.0</td>\n      <td>6.0</td>\n      <td>0.0</td>\n      <td>0.0</td>\n      <td>0.0</td>\n      <td>0.0</td>\n    </tr>\n    <tr>\n      <th>4</th>\n      <td>5</td>\n      <td>5</td>\n      <td>0</td>\n      <td>7</td>\n      <td>1</td>\n      <td>1</td>\n      <td>0</td>\n      <td>0</td>\n      <td>4822</td>\n      <td>1.0</td>\n      <td>0.0</td>\n      <td>29910.0</td>\n      <td>8.0</td>\n      <td>0.0</td>\n      <td>0.0</td>\n      <td>0.0</td>\n      <td>0.0</td>\n      <td>0.0</td>\n    </tr>\n  </tbody>\n</table>\n</div>"
     },
     "execution_count": 83,
     "metadata": {},
     "output_type": "execute_result"
    }
   ],
   "source": [
    "train_model = train_store.drop(['Customers', 'Date'], axis=1)\n",
    "train_model['Year'] = train_model['Year'].max() - train_model['Year']\n",
    "train_model.head()"
   ]
  },
  {
   "cell_type": "code",
   "execution_count": 84,
   "id": "9f20b25f-df6c-4972-b784-e1eb4a57597b",
   "metadata": {},
   "outputs": [],
   "source": [
    "test_model = test_store.drop(['Date'], axis=1)\n",
    "test_model['Year'] = test_model['Year'].max() - test_model['Year']"
   ]
  },
  {
   "cell_type": "code",
   "execution_count": 85,
   "id": "ab7541ea-696c-4292-b2cc-9073425b3856",
   "metadata": {},
   "outputs": [
    {
     "data": {
      "text/plain": "    Store  DayOfWeek  Year  Month  Open  Promo  StateHoliday  SchoolHoliday  \\\nId                                                                            \n1       1          4     0      9   1.0      1             0              0   \n2       3          4     0      9   1.0      1             0              0   \n3       7          4     0      9   1.0      1             0              0   \n4       8          4     0      9   1.0      1             0              0   \n5       9          4     0      9   1.0      1             0              0   \n\n    StoreType  Assortment  CompetitionDistance  CompetitionOpenSinceMonth  \\\nId                                                                          \n1         0.0         0.0               1270.0                        3.0   \n2         1.0         0.0              14130.0                        0.0   \n3         1.0         1.0              24000.0                        8.0   \n4         1.0         0.0               7520.0                        2.0   \n5         1.0         1.0               2030.0                        4.0   \n\n    CompetitionOpenSinceYear  Promo2  Promo2SinceWeek  Promo2SinceYear  \\\nId                                                                       \n1                        7.0     0.0              0.0              0.0   \n2                        9.0     1.0             36.0              4.0   \n3                        2.0     0.0              0.0              0.0   \n4                        1.0     0.0              0.0              0.0   \n5                       15.0     0.0              0.0              0.0   \n\n    PromoInterval  \nId                 \n1             0.0  \n2             1.0  \n3             0.0  \n4             0.0  \n5             0.0  ",
      "text/html": "<div>\n<style scoped>\n    .dataframe tbody tr th:only-of-type {\n        vertical-align: middle;\n    }\n\n    .dataframe tbody tr th {\n        vertical-align: top;\n    }\n\n    .dataframe thead th {\n        text-align: right;\n    }\n</style>\n<table border=\"1\" class=\"dataframe\">\n  <thead>\n    <tr style=\"text-align: right;\">\n      <th></th>\n      <th>Store</th>\n      <th>DayOfWeek</th>\n      <th>Year</th>\n      <th>Month</th>\n      <th>Open</th>\n      <th>Promo</th>\n      <th>StateHoliday</th>\n      <th>SchoolHoliday</th>\n      <th>StoreType</th>\n      <th>Assortment</th>\n      <th>CompetitionDistance</th>\n      <th>CompetitionOpenSinceMonth</th>\n      <th>CompetitionOpenSinceYear</th>\n      <th>Promo2</th>\n      <th>Promo2SinceWeek</th>\n      <th>Promo2SinceYear</th>\n      <th>PromoInterval</th>\n    </tr>\n    <tr>\n      <th>Id</th>\n      <th></th>\n      <th></th>\n      <th></th>\n      <th></th>\n      <th></th>\n      <th></th>\n      <th></th>\n      <th></th>\n      <th></th>\n      <th></th>\n      <th></th>\n      <th></th>\n      <th></th>\n      <th></th>\n      <th></th>\n      <th></th>\n      <th></th>\n    </tr>\n  </thead>\n  <tbody>\n    <tr>\n      <th>1</th>\n      <td>1</td>\n      <td>4</td>\n      <td>0</td>\n      <td>9</td>\n      <td>1.0</td>\n      <td>1</td>\n      <td>0</td>\n      <td>0</td>\n      <td>0.0</td>\n      <td>0.0</td>\n      <td>1270.0</td>\n      <td>3.0</td>\n      <td>7.0</td>\n      <td>0.0</td>\n      <td>0.0</td>\n      <td>0.0</td>\n      <td>0.0</td>\n    </tr>\n    <tr>\n      <th>2</th>\n      <td>3</td>\n      <td>4</td>\n      <td>0</td>\n      <td>9</td>\n      <td>1.0</td>\n      <td>1</td>\n      <td>0</td>\n      <td>0</td>\n      <td>1.0</td>\n      <td>0.0</td>\n      <td>14130.0</td>\n      <td>0.0</td>\n      <td>9.0</td>\n      <td>1.0</td>\n      <td>36.0</td>\n      <td>4.0</td>\n      <td>1.0</td>\n    </tr>\n    <tr>\n      <th>3</th>\n      <td>7</td>\n      <td>4</td>\n      <td>0</td>\n      <td>9</td>\n      <td>1.0</td>\n      <td>1</td>\n      <td>0</td>\n      <td>0</td>\n      <td>1.0</td>\n      <td>1.0</td>\n      <td>24000.0</td>\n      <td>8.0</td>\n      <td>2.0</td>\n      <td>0.0</td>\n      <td>0.0</td>\n      <td>0.0</td>\n      <td>0.0</td>\n    </tr>\n    <tr>\n      <th>4</th>\n      <td>8</td>\n      <td>4</td>\n      <td>0</td>\n      <td>9</td>\n      <td>1.0</td>\n      <td>1</td>\n      <td>0</td>\n      <td>0</td>\n      <td>1.0</td>\n      <td>0.0</td>\n      <td>7520.0</td>\n      <td>2.0</td>\n      <td>1.0</td>\n      <td>0.0</td>\n      <td>0.0</td>\n      <td>0.0</td>\n      <td>0.0</td>\n    </tr>\n    <tr>\n      <th>5</th>\n      <td>9</td>\n      <td>4</td>\n      <td>0</td>\n      <td>9</td>\n      <td>1.0</td>\n      <td>1</td>\n      <td>0</td>\n      <td>0</td>\n      <td>1.0</td>\n      <td>1.0</td>\n      <td>2030.0</td>\n      <td>4.0</td>\n      <td>15.0</td>\n      <td>0.0</td>\n      <td>0.0</td>\n      <td>0.0</td>\n      <td>0.0</td>\n    </tr>\n  </tbody>\n</table>\n</div>"
     },
     "execution_count": 85,
     "metadata": {},
     "output_type": "execute_result"
    }
   ],
   "source": [
    "test_model.head()"
   ]
  },
  {
   "cell_type": "code",
   "execution_count": 86,
   "id": "0589dcc5-2d3b-49cb-8921-710108121d0f",
   "metadata": {},
   "outputs": [
    {
     "data": {
      "text/plain": "    Store  DayOfWeek  Year  Month  Open  Promo  StateHoliday  SchoolHoliday  \\\nId                                                                            \n1       1          4     0      9   1.0      1             0              0   \n2       3          4     0      9   1.0      1             0              0   \n3       7          4     0      9   1.0      1             0              0   \n4       8          4     0      9   1.0      1             0              0   \n5       9          4     0      9   1.0      1             0              0   \n\n    StoreType  Assortment  CompetitionDistance  CompetitionOpenSinceMonth  \\\nId                                                                          \n1         0.0         0.0               1270.0                        3.0   \n2         1.0         0.0              14130.0                        0.0   \n3         1.0         1.0              24000.0                        8.0   \n4         1.0         0.0               7520.0                        2.0   \n5         1.0         1.0               2030.0                        4.0   \n\n    CompetitionOpenSinceYear  Promo2  Promo2SinceWeek  Promo2SinceYear  \\\nId                                                                       \n1                        7.0     0.0              0.0              0.0   \n2                        9.0     1.0             36.0              4.0   \n3                        2.0     0.0              0.0              0.0   \n4                        1.0     0.0              0.0              0.0   \n5                       15.0     0.0              0.0              0.0   \n\n    PromoInterval  \nId                 \n1             0.0  \n2             1.0  \n3             0.0  \n4             0.0  \n5             0.0  ",
      "text/html": "<div>\n<style scoped>\n    .dataframe tbody tr th:only-of-type {\n        vertical-align: middle;\n    }\n\n    .dataframe tbody tr th {\n        vertical-align: top;\n    }\n\n    .dataframe thead th {\n        text-align: right;\n    }\n</style>\n<table border=\"1\" class=\"dataframe\">\n  <thead>\n    <tr style=\"text-align: right;\">\n      <th></th>\n      <th>Store</th>\n      <th>DayOfWeek</th>\n      <th>Year</th>\n      <th>Month</th>\n      <th>Open</th>\n      <th>Promo</th>\n      <th>StateHoliday</th>\n      <th>SchoolHoliday</th>\n      <th>StoreType</th>\n      <th>Assortment</th>\n      <th>CompetitionDistance</th>\n      <th>CompetitionOpenSinceMonth</th>\n      <th>CompetitionOpenSinceYear</th>\n      <th>Promo2</th>\n      <th>Promo2SinceWeek</th>\n      <th>Promo2SinceYear</th>\n      <th>PromoInterval</th>\n    </tr>\n    <tr>\n      <th>Id</th>\n      <th></th>\n      <th></th>\n      <th></th>\n      <th></th>\n      <th></th>\n      <th></th>\n      <th></th>\n      <th></th>\n      <th></th>\n      <th></th>\n      <th></th>\n      <th></th>\n      <th></th>\n      <th></th>\n      <th></th>\n      <th></th>\n      <th></th>\n    </tr>\n  </thead>\n  <tbody>\n    <tr>\n      <th>1</th>\n      <td>1</td>\n      <td>4</td>\n      <td>0</td>\n      <td>9</td>\n      <td>1.0</td>\n      <td>1</td>\n      <td>0</td>\n      <td>0</td>\n      <td>0.0</td>\n      <td>0.0</td>\n      <td>1270.0</td>\n      <td>3.0</td>\n      <td>7.0</td>\n      <td>0.0</td>\n      <td>0.0</td>\n      <td>0.0</td>\n      <td>0.0</td>\n    </tr>\n    <tr>\n      <th>2</th>\n      <td>3</td>\n      <td>4</td>\n      <td>0</td>\n      <td>9</td>\n      <td>1.0</td>\n      <td>1</td>\n      <td>0</td>\n      <td>0</td>\n      <td>1.0</td>\n      <td>0.0</td>\n      <td>14130.0</td>\n      <td>0.0</td>\n      <td>9.0</td>\n      <td>1.0</td>\n      <td>36.0</td>\n      <td>4.0</td>\n      <td>1.0</td>\n    </tr>\n    <tr>\n      <th>3</th>\n      <td>7</td>\n      <td>4</td>\n      <td>0</td>\n      <td>9</td>\n      <td>1.0</td>\n      <td>1</td>\n      <td>0</td>\n      <td>0</td>\n      <td>1.0</td>\n      <td>1.0</td>\n      <td>24000.0</td>\n      <td>8.0</td>\n      <td>2.0</td>\n      <td>0.0</td>\n      <td>0.0</td>\n      <td>0.0</td>\n      <td>0.0</td>\n    </tr>\n    <tr>\n      <th>4</th>\n      <td>8</td>\n      <td>4</td>\n      <td>0</td>\n      <td>9</td>\n      <td>1.0</td>\n      <td>1</td>\n      <td>0</td>\n      <td>0</td>\n      <td>1.0</td>\n      <td>0.0</td>\n      <td>7520.0</td>\n      <td>2.0</td>\n      <td>1.0</td>\n      <td>0.0</td>\n      <td>0.0</td>\n      <td>0.0</td>\n      <td>0.0</td>\n    </tr>\n    <tr>\n      <th>5</th>\n      <td>9</td>\n      <td>4</td>\n      <td>0</td>\n      <td>9</td>\n      <td>1.0</td>\n      <td>1</td>\n      <td>0</td>\n      <td>0</td>\n      <td>1.0</td>\n      <td>1.0</td>\n      <td>2030.0</td>\n      <td>4.0</td>\n      <td>15.0</td>\n      <td>0.0</td>\n      <td>0.0</td>\n      <td>0.0</td>\n      <td>0.0</td>\n    </tr>\n  </tbody>\n</table>\n</div>"
     },
     "execution_count": 86,
     "metadata": {},
     "output_type": "execute_result"
    }
   ],
   "source": [
    "test_model_open = test_model.loc[test_model['Open'] == 1]\n",
    "#test_model_open = test_model_open.drop('Open', axis=1)\n",
    "\n",
    "test_model_close = test_model.loc[test_model['Open'] == 0]\n",
    "\n",
    "test_model_open.head()"
   ]
  },
  {
   "cell_type": "code",
   "execution_count": 87,
   "id": "78334839-80fb-4edc-9623-d1489014846f",
   "metadata": {},
   "outputs": [
    {
     "data": {
      "text/plain": "Store                        0\nDayOfWeek                    0\nYear                         0\nMonth                        0\nOpen                         0\nPromo                        0\nStateHoliday                 0\nSchoolHoliday                0\nStoreType                    0\nAssortment                   0\nCompetitionDistance          0\nCompetitionOpenSinceMonth    0\nCompetitionOpenSinceYear     0\nPromo2                       0\nPromo2SinceWeek              0\nPromo2SinceYear              0\nPromoInterval                0\ndtype: int64"
     },
     "execution_count": 87,
     "metadata": {},
     "output_type": "execute_result"
    }
   ],
   "source": [
    "test_model_open.isnull().sum()"
   ]
  },
  {
   "cell_type": "code",
   "execution_count": 88,
   "id": "41e48beb-6f63-4635-bb4b-0fc20f5063ea",
   "metadata": {},
   "outputs": [
    {
     "data": {
      "text/plain": "(1006419, 18)"
     },
     "execution_count": 88,
     "metadata": {},
     "output_type": "execute_result"
    }
   ],
   "source": [
    "train_model.shape"
   ]
  },
  {
   "cell_type": "code",
   "execution_count": 89,
   "id": "8accb342-725c-48d3-b91f-63ca7e087199",
   "metadata": {},
   "outputs": [
    {
     "data": {
      "text/plain": "(41088, 17)"
     },
     "execution_count": 89,
     "metadata": {},
     "output_type": "execute_result"
    }
   ],
   "source": [
    "test_model.shape"
   ]
  },
  {
   "cell_type": "code",
   "execution_count": 90,
   "id": "ee1594a5-74aa-4b52-be53-c5afbc5eed3b",
   "metadata": {},
   "outputs": [],
   "source": [
    "SalesDF = train_model['Sales']\n",
    "train_model = train_model.drop(['Sales'], axis=1)\n",
    "train_model['Sales'] = SalesDF"
   ]
  },
  {
   "cell_type": "code",
   "execution_count": 91,
   "id": "ad861180-59f1-4f33-99e3-95c2c671ed7e",
   "metadata": {},
   "outputs": [
    {
     "data": {
      "text/plain": "   Store  DayOfWeek  Year  Month  Open  Promo  StateHoliday  SchoolHoliday  \\\n0      1          5     0      7     1      1             0              0   \n1      2          5     0      7     1      1             0              0   \n2      3          5     0      7     1      1             0              0   \n3      4          5     0      7     1      1             0              0   \n4      5          5     0      7     1      1             0              0   \n\n   StoreType  Assortment  CompetitionDistance  CompetitionOpenSinceMonth  \\\n0        0.0         0.0               1270.0                        3.0   \n1        1.0         0.0                570.0                        1.0   \n2        1.0         0.0              14130.0                        0.0   \n3        0.0         1.0                620.0                        3.0   \n4        1.0         0.0              29910.0                        8.0   \n\n   CompetitionOpenSinceYear  Promo2  Promo2SinceWeek  Promo2SinceYear  \\\n0                       7.0     0.0              0.0              0.0   \n1                       8.0     1.0             37.0              5.0   \n2                       9.0     1.0             36.0              4.0   \n3                       6.0     0.0              0.0              0.0   \n4                       0.0     0.0              0.0              0.0   \n\n   PromoInterval  Sales  \n0            0.0   5263  \n1            1.0   6064  \n2            1.0   8314  \n3            0.0  13995  \n4            0.0   4822  ",
      "text/html": "<div>\n<style scoped>\n    .dataframe tbody tr th:only-of-type {\n        vertical-align: middle;\n    }\n\n    .dataframe tbody tr th {\n        vertical-align: top;\n    }\n\n    .dataframe thead th {\n        text-align: right;\n    }\n</style>\n<table border=\"1\" class=\"dataframe\">\n  <thead>\n    <tr style=\"text-align: right;\">\n      <th></th>\n      <th>Store</th>\n      <th>DayOfWeek</th>\n      <th>Year</th>\n      <th>Month</th>\n      <th>Open</th>\n      <th>Promo</th>\n      <th>StateHoliday</th>\n      <th>SchoolHoliday</th>\n      <th>StoreType</th>\n      <th>Assortment</th>\n      <th>CompetitionDistance</th>\n      <th>CompetitionOpenSinceMonth</th>\n      <th>CompetitionOpenSinceYear</th>\n      <th>Promo2</th>\n      <th>Promo2SinceWeek</th>\n      <th>Promo2SinceYear</th>\n      <th>PromoInterval</th>\n      <th>Sales</th>\n    </tr>\n  </thead>\n  <tbody>\n    <tr>\n      <th>0</th>\n      <td>1</td>\n      <td>5</td>\n      <td>0</td>\n      <td>7</td>\n      <td>1</td>\n      <td>1</td>\n      <td>0</td>\n      <td>0</td>\n      <td>0.0</td>\n      <td>0.0</td>\n      <td>1270.0</td>\n      <td>3.0</td>\n      <td>7.0</td>\n      <td>0.0</td>\n      <td>0.0</td>\n      <td>0.0</td>\n      <td>0.0</td>\n      <td>5263</td>\n    </tr>\n    <tr>\n      <th>1</th>\n      <td>2</td>\n      <td>5</td>\n      <td>0</td>\n      <td>7</td>\n      <td>1</td>\n      <td>1</td>\n      <td>0</td>\n      <td>0</td>\n      <td>1.0</td>\n      <td>0.0</td>\n      <td>570.0</td>\n      <td>1.0</td>\n      <td>8.0</td>\n      <td>1.0</td>\n      <td>37.0</td>\n      <td>5.0</td>\n      <td>1.0</td>\n      <td>6064</td>\n    </tr>\n    <tr>\n      <th>2</th>\n      <td>3</td>\n      <td>5</td>\n      <td>0</td>\n      <td>7</td>\n      <td>1</td>\n      <td>1</td>\n      <td>0</td>\n      <td>0</td>\n      <td>1.0</td>\n      <td>0.0</td>\n      <td>14130.0</td>\n      <td>0.0</td>\n      <td>9.0</td>\n      <td>1.0</td>\n      <td>36.0</td>\n      <td>4.0</td>\n      <td>1.0</td>\n      <td>8314</td>\n    </tr>\n    <tr>\n      <th>3</th>\n      <td>4</td>\n      <td>5</td>\n      <td>0</td>\n      <td>7</td>\n      <td>1</td>\n      <td>1</td>\n      <td>0</td>\n      <td>0</td>\n      <td>0.0</td>\n      <td>1.0</td>\n      <td>620.0</td>\n      <td>3.0</td>\n      <td>6.0</td>\n      <td>0.0</td>\n      <td>0.0</td>\n      <td>0.0</td>\n      <td>0.0</td>\n      <td>13995</td>\n    </tr>\n    <tr>\n      <th>4</th>\n      <td>5</td>\n      <td>5</td>\n      <td>0</td>\n      <td>7</td>\n      <td>1</td>\n      <td>1</td>\n      <td>0</td>\n      <td>0</td>\n      <td>1.0</td>\n      <td>0.0</td>\n      <td>29910.0</td>\n      <td>8.0</td>\n      <td>0.0</td>\n      <td>0.0</td>\n      <td>0.0</td>\n      <td>0.0</td>\n      <td>0.0</td>\n      <td>4822</td>\n    </tr>\n  </tbody>\n</table>\n</div>"
     },
     "execution_count": 91,
     "metadata": {},
     "output_type": "execute_result"
    }
   ],
   "source": [
    "train_model.head()"
   ]
  },
  {
   "cell_type": "code",
   "execution_count": 92,
   "id": "c5b6fc24-561e-4925-987a-41188e2f3d6c",
   "metadata": {},
   "outputs": [],
   "source": [
    "summary = train_model.describe()\n",
    "train_normalized = train_model.copy()\n",
    "ncols = len(train_normalized.columns)\n",
    "\n",
    "for i in range(ncols):\n",
    "    mean = summary.iloc[1, i]\n",
    "    sd = summary.iloc[2, i]\n",
    "    train_normalized.iloc[:,i:(i + 1)] = \\\n",
    "        (train_normalized.iloc[:,i:(i + 1)] - mean) / sd"
   ]
  },
  {
   "cell_type": "code",
   "execution_count": 93,
   "id": "41b40ff5-ae2b-4fa9-811f-d17b443241a0",
   "metadata": {},
   "outputs": [],
   "source": [
    "sales_normalized = train_normalized['Sales']\n",
    "train_normalized = train_normalized.drop(['Sales'], axis=1)\n",
    "train_normalized['Sales'] = sales_normalized"
   ]
  },
  {
   "cell_type": "code",
   "execution_count": 94,
   "id": "a4b5c7aa-89c4-4945-bb2f-b8dce1b48f3f",
   "metadata": {},
   "outputs": [
    {
     "data": {
      "text/plain": "      Store  DayOfWeek      Year     Month      Open    Promo  StateHoliday  \\\n0 -1.731639   0.497609 -1.501199  0.351249  0.438396  1.27117     -0.143333   \n1 -1.728533   0.497609 -1.501199  0.351249  0.438396  1.27117     -0.143333   \n2 -1.725426   0.497609 -1.501199  0.351249  0.438396  1.27117     -0.143333   \n3 -1.722320   0.497609 -1.501199  0.351249  0.438396  1.27117     -0.143333   \n4 -1.719213   0.497609 -1.501199  0.351249  0.438396  1.27117     -0.143333   \n\n   SchoolHoliday  StoreType  Assortment  CompetitionDistance  \\\n0      -2.207088  -1.770361   -0.930468            -0.539891   \n1      -2.207088  -0.300229   -0.930468            -0.630738   \n2      -2.207088  -0.300229   -0.930468             1.129094   \n3      -2.207088  -1.770361    1.008815            -0.624249   \n4      -2.207088  -0.300229   -0.930468             3.177039   \n\n   CompetitionOpenSinceMonth  CompetitionOpenSinceYear    Promo2  \\\n0                  -0.669720                  0.138083 -1.001134   \n1                  -1.423676                  0.340127  0.998866   \n2                  -1.800655                  0.542171  0.998866   \n3                  -0.669720                 -0.063961 -1.001134   \n4                   1.215170                 -1.276224 -1.001134   \n\n   Promo2SinceWeek  Promo2SinceYear  PromoInterval     Sales  \n0        -0.802376        -0.810676      -0.824297 -0.149270  \n1         1.416358         1.683018       0.194891  0.060270  \n2         1.356392         1.184279       0.194891  0.648863  \n3        -0.802376        -0.810676      -0.824297  2.134997  \n4        -0.802376        -0.810676      -0.824297 -0.264634  ",
      "text/html": "<div>\n<style scoped>\n    .dataframe tbody tr th:only-of-type {\n        vertical-align: middle;\n    }\n\n    .dataframe tbody tr th {\n        vertical-align: top;\n    }\n\n    .dataframe thead th {\n        text-align: right;\n    }\n</style>\n<table border=\"1\" class=\"dataframe\">\n  <thead>\n    <tr style=\"text-align: right;\">\n      <th></th>\n      <th>Store</th>\n      <th>DayOfWeek</th>\n      <th>Year</th>\n      <th>Month</th>\n      <th>Open</th>\n      <th>Promo</th>\n      <th>StateHoliday</th>\n      <th>SchoolHoliday</th>\n      <th>StoreType</th>\n      <th>Assortment</th>\n      <th>CompetitionDistance</th>\n      <th>CompetitionOpenSinceMonth</th>\n      <th>CompetitionOpenSinceYear</th>\n      <th>Promo2</th>\n      <th>Promo2SinceWeek</th>\n      <th>Promo2SinceYear</th>\n      <th>PromoInterval</th>\n      <th>Sales</th>\n    </tr>\n  </thead>\n  <tbody>\n    <tr>\n      <th>0</th>\n      <td>-1.731639</td>\n      <td>0.497609</td>\n      <td>-1.501199</td>\n      <td>0.351249</td>\n      <td>0.438396</td>\n      <td>1.27117</td>\n      <td>-0.143333</td>\n      <td>-2.207088</td>\n      <td>-1.770361</td>\n      <td>-0.930468</td>\n      <td>-0.539891</td>\n      <td>-0.669720</td>\n      <td>0.138083</td>\n      <td>-1.001134</td>\n      <td>-0.802376</td>\n      <td>-0.810676</td>\n      <td>-0.824297</td>\n      <td>-0.149270</td>\n    </tr>\n    <tr>\n      <th>1</th>\n      <td>-1.728533</td>\n      <td>0.497609</td>\n      <td>-1.501199</td>\n      <td>0.351249</td>\n      <td>0.438396</td>\n      <td>1.27117</td>\n      <td>-0.143333</td>\n      <td>-2.207088</td>\n      <td>-0.300229</td>\n      <td>-0.930468</td>\n      <td>-0.630738</td>\n      <td>-1.423676</td>\n      <td>0.340127</td>\n      <td>0.998866</td>\n      <td>1.416358</td>\n      <td>1.683018</td>\n      <td>0.194891</td>\n      <td>0.060270</td>\n    </tr>\n    <tr>\n      <th>2</th>\n      <td>-1.725426</td>\n      <td>0.497609</td>\n      <td>-1.501199</td>\n      <td>0.351249</td>\n      <td>0.438396</td>\n      <td>1.27117</td>\n      <td>-0.143333</td>\n      <td>-2.207088</td>\n      <td>-0.300229</td>\n      <td>-0.930468</td>\n      <td>1.129094</td>\n      <td>-1.800655</td>\n      <td>0.542171</td>\n      <td>0.998866</td>\n      <td>1.356392</td>\n      <td>1.184279</td>\n      <td>0.194891</td>\n      <td>0.648863</td>\n    </tr>\n    <tr>\n      <th>3</th>\n      <td>-1.722320</td>\n      <td>0.497609</td>\n      <td>-1.501199</td>\n      <td>0.351249</td>\n      <td>0.438396</td>\n      <td>1.27117</td>\n      <td>-0.143333</td>\n      <td>-2.207088</td>\n      <td>-1.770361</td>\n      <td>1.008815</td>\n      <td>-0.624249</td>\n      <td>-0.669720</td>\n      <td>-0.063961</td>\n      <td>-1.001134</td>\n      <td>-0.802376</td>\n      <td>-0.810676</td>\n      <td>-0.824297</td>\n      <td>2.134997</td>\n    </tr>\n    <tr>\n      <th>4</th>\n      <td>-1.719213</td>\n      <td>0.497609</td>\n      <td>-1.501199</td>\n      <td>0.351249</td>\n      <td>0.438396</td>\n      <td>1.27117</td>\n      <td>-0.143333</td>\n      <td>-2.207088</td>\n      <td>-0.300229</td>\n      <td>-0.930468</td>\n      <td>3.177039</td>\n      <td>1.215170</td>\n      <td>-1.276224</td>\n      <td>-1.001134</td>\n      <td>-0.802376</td>\n      <td>-0.810676</td>\n      <td>-0.824297</td>\n      <td>-0.264634</td>\n    </tr>\n  </tbody>\n</table>\n</div>"
     },
     "execution_count": 94,
     "metadata": {},
     "output_type": "execute_result"
    }
   ],
   "source": [
    "train_normalized.head()"
   ]
  },
  {
   "cell_type": "code",
   "execution_count": 95,
   "id": "f4b616a7-88ff-4586-874f-6358b0683a50",
   "metadata": {},
   "outputs": [],
   "source": [
    "from sklearn.model_selection import train_test_split\n",
    "X = train_model.drop('Sales', axis=1)\n",
    "y = train_model['Sales']\n",
    "X_train, X_test, y_train, y_test = train_test_split(X, y, random_state=42)"
   ]
  },
  {
   "cell_type": "code",
   "execution_count": 96,
   "id": "c64b1868-b14b-4340-920f-cce029de2af5",
   "metadata": {},
   "outputs": [],
   "source": [
    "from sklearn.preprocessing import StandardScaler\n",
    "scaler = StandardScaler()\n",
    "\n",
    "scaler.fit(X_train)\n",
    "\n",
    "X_train_scaled = pd.DataFrame(scaler.transform(X_train),\n",
    "                                  columns=X.columns.values)\n",
    "\n",
    "X_test_scaled = pd.DataFrame(scaler.transform(X_test),\n",
    "                                  columns=X.columns.values)\n",
    "\n",
    "test_model_open_scaled = pd.DataFrame(scaler.transform(test_model_open),\n",
    "                                  columns=test_model_open.columns.values)"
   ]
  },
  {
   "cell_type": "code",
   "execution_count": 97,
   "id": "124cbfc4-6734-4a04-a55a-32b04ed155b3",
   "metadata": {},
   "outputs": [
    {
     "data": {
      "text/plain": "<Figure size 432x288 with 1 Axes>",
      "image/png": "[encoded data removed]"
     },
     "metadata": {
      "needs_background": "light"
     },
     "output_type": "display_data"
    }
   ],
   "source": [
    "import numpy as np\n",
    "\n",
    "# get summary to use for scaling\n",
    "summary = X_train_scaled.describe()\n",
    "meanSales = summary.iloc[1, 7]\n",
    "sdSales = summary.iloc[2, 7]\n",
    "nrows = np.random.randint(0, len(X_train_scaled.index), 2000)\n",
    "\n",
    "for i in nrows:\n",
    "    # plot rows of data as if they were series data\n",
    "    dataRow = X_train_scaled.iloc[i, :-1]\n",
    "    normTarget = X_train_scaled.iloc[i, -1]\n",
    "    labelColor = 1.0 / (1.0 + np.exp(-normTarget))\n",
    "    dataRow.plot(color = plt.cm.RdYlBu(labelColor), alpha=0.5)\n",
    "\n",
    "plt.ylim([-3,4])\n",
    "plt.xticks(rotation=45)\n",
    "plt.xlabel(\"Attribute Index\")\n",
    "plt.show()"
   ]
  },
  {
   "cell_type": "code",
   "execution_count": 98,
   "id": "c5c4cef0-1042-433f-b65e-9e0fe065fe3c",
   "metadata": {},
   "outputs": [
    {
     "name": "stderr",
     "output_type": "stream",
     "text": [
      "[Parallel(n_jobs=-1)]: Using backend ThreadingBackend with 12 concurrent workers.\n",
      "[Parallel(n_jobs=-1)]: Done  26 tasks      | elapsed:   45.1s\n",
      "[Parallel(n_jobs=-1)]: Done 100 out of 100 | elapsed:  2.0min finished\n"
     ]
    },
    {
     "data": {
      "text/plain": "RandomForestRegressor(n_jobs=-1, random_state=43, verbose=1)"
     },
     "execution_count": 98,
     "metadata": {},
     "output_type": "execute_result"
    }
   ],
   "source": [
    "from sklearn.ensemble import RandomForestRegressor\n",
    "rf = RandomForestRegressor(n_jobs=-1, random_state=43,verbose=1)\n",
    "rf.fit(X_train, y_train)"
   ]
  },
  {
   "cell_type": "code",
   "execution_count": 99,
   "id": "19332401-ac57-42ec-bac8-87f7fa40f59b",
   "metadata": {},
   "outputs": [
    {
     "name": "stderr",
     "output_type": "stream",
     "text": [
      "[Parallel(n_jobs=12)]: Using backend ThreadingBackend with 12 concurrent workers.\n",
      "[Parallel(n_jobs=12)]: Done  26 tasks      | elapsed:    2.2s\n",
      "[Parallel(n_jobs=12)]: Done 100 out of 100 | elapsed:    6.2s finished\n"
     ]
    },
    {
     "data": {
      "text/plain": "0.9309957797769348"
     },
     "execution_count": 99,
     "metadata": {},
     "output_type": "execute_result"
    }
   ],
   "source": [
    "rf.score(X_test, y_test)"
   ]
  },
  {
   "cell_type": "code",
   "execution_count": 100,
   "id": "91ad6d5e-ced5-4f64-8abe-00eb807f39c6",
   "metadata": {},
   "outputs": [
    {
     "name": "stderr",
     "output_type": "stream",
     "text": [
      "[Parallel(n_jobs=12)]: Using backend ThreadingBackend with 12 concurrent workers.\n",
      "[Parallel(n_jobs=12)]: Done  26 tasks      | elapsed:    0.1s\n",
      "[Parallel(n_jobs=12)]: Done 100 out of 100 | elapsed:    0.4s finished\n"
     ]
    }
   ],
   "source": [
    "test_model = test_model.drop(['Sales'], axis=1, errors='ignore')\n",
    "test_model['Sales'] = rf.predict(test_model)"
   ]
  },
  {
   "cell_type": "code",
   "execution_count": 101,
   "id": "b656e4ad-8f8e-4dc1-817a-601c2b1df013",
   "metadata": {},
   "outputs": [
    {
     "data": {
      "text/plain": "   Id         Sales\n0   1   4419.978524\n1   2   8199.535833\n2   3  11343.874833\n3   4   8463.683000\n4   5   7861.608214",
      "text/html": "<div>\n<style scoped>\n    .dataframe tbody tr th:only-of-type {\n        vertical-align: middle;\n    }\n\n    .dataframe tbody tr th {\n        vertical-align: top;\n    }\n\n    .dataframe thead th {\n        text-align: right;\n    }\n</style>\n<table border=\"1\" class=\"dataframe\">\n  <thead>\n    <tr style=\"text-align: right;\">\n      <th></th>\n      <th>Id</th>\n      <th>Sales</th>\n    </tr>\n  </thead>\n  <tbody>\n    <tr>\n      <th>0</th>\n      <td>1</td>\n      <td>4419.978524</td>\n    </tr>\n    <tr>\n      <th>1</th>\n      <td>2</td>\n      <td>8199.535833</td>\n    </tr>\n    <tr>\n      <th>2</th>\n      <td>3</td>\n      <td>11343.874833</td>\n    </tr>\n    <tr>\n      <th>3</th>\n      <td>4</td>\n      <td>8463.683000</td>\n    </tr>\n    <tr>\n      <th>4</th>\n      <td>5</td>\n      <td>7861.608214</td>\n    </tr>\n  </tbody>\n</table>\n</div>"
     },
     "execution_count": 101,
     "metadata": {},
     "output_type": "execute_result"
    }
   ],
   "source": [
    "submission = test_model['Sales']\n",
    "submission = submission.reset_index()\n",
    "submission.head()"
   ]
  },
  {
   "cell_type": "code",
   "execution_count": 102,
   "id": "5d85b906-21d0-41b1-9d3f-e5e311a68f07",
   "metadata": {},
   "outputs": [
    {
     "data": {
      "text/plain": "          Id         Sales\n41083  41084   2654.266997\n41084  41085   6994.418500\n41085  41086   5640.717595\n41086  41087  21428.698706\n41087  41088   7077.644298",
      "text/html": "<div>\n<style scoped>\n    .dataframe tbody tr th:only-of-type {\n        vertical-align: middle;\n    }\n\n    .dataframe tbody tr th {\n        vertical-align: top;\n    }\n\n    .dataframe thead th {\n        text-align: right;\n    }\n</style>\n<table border=\"1\" class=\"dataframe\">\n  <thead>\n    <tr style=\"text-align: right;\">\n      <th></th>\n      <th>Id</th>\n      <th>Sales</th>\n    </tr>\n  </thead>\n  <tbody>\n    <tr>\n      <th>41083</th>\n      <td>41084</td>\n      <td>2654.266997</td>\n    </tr>\n    <tr>\n      <th>41084</th>\n      <td>41085</td>\n      <td>6994.418500</td>\n    </tr>\n    <tr>\n      <th>41085</th>\n      <td>41086</td>\n      <td>5640.717595</td>\n    </tr>\n    <tr>\n      <th>41086</th>\n      <td>41087</td>\n      <td>21428.698706</td>\n    </tr>\n    <tr>\n      <th>41087</th>\n      <td>41088</td>\n      <td>7077.644298</td>\n    </tr>\n  </tbody>\n</table>\n</div>"
     },
     "execution_count": 102,
     "metadata": {},
     "output_type": "execute_result"
    }
   ],
   "source": [
    "submission.tail()"
   ]
  },
  {
   "cell_type": "code",
   "execution_count": 103,
   "id": "bfaf0901-6b0d-40d4-92d7-a914822c1664",
   "metadata": {},
   "outputs": [],
   "source": [
    "submission.to_csv(\"../result/submission_open.csv\", sep=',', index=False)"
   ]
  },
  {
   "cell_type": "code",
   "execution_count": 104,
   "id": "65a3813c-ad23-487e-8283-e46c4886fa2b",
   "metadata": {},
   "outputs": [],
   "source": [
    "train_model.to_csv(\"../explore/train_model.csv\", sep=',', index=False)"
   ]
  },
  {
   "cell_type": "code",
   "execution_count": 105,
   "id": "2ebd36c3-e59a-4062-9b7b-55665401ef3f",
   "metadata": {},
   "outputs": [],
   "source": [
    "test_model.reset_index().to_csv(\"../explore/test_model.csv\", sep=',', index=False)"
   ]
  },
  {
   "cell_type": "markdown",
   "id": "c13c3653-3af6-481c-8352-e8936abf3d06",
   "metadata": {},
   "source": [
    "## Summary"
   ]
  },
  {
   "cell_type": "markdown",
   "id": "f2897cb9-936b-4321-806c-11f210a30545",
   "metadata": {},
   "source": [
    "This long post will be best for a novice data analyst to explore all steps of a real-world analysis. Actually not a real data analysis though. Anyways, exploratory data analysis revealed several novel features. Training data was provided for 1,115 Rossmann stores from January 1st 2013 through July 31st 2015 .The task was to forecast 6 weeks (August 1st 2015 through September 17th 2015) of sales for 856 of the Rossmann stores identified within the testing data. Although we scored (\\(R^2=0.92\\)) for the train_test data (which normally is great), the private results in the competition show that we have a long way to the top \n"
   ]
  },
  {
   "cell_type": "code",
   "execution_count": 105,
   "id": "0ee0fbcf-2622-4912-adb2-a5e6cedbe802",
   "metadata": {},
   "outputs": [],
   "source": []
  }
 ],
 "metadata": {
  "kernelspec": {
   "display_name": "Python 3",
   "language": "python",
   "name": "python3"
  },
  "language_info": {
   "codemirror_mode": {
    "name": "ipython",
    "version": 3
   },
   "file_extension": ".py",
   "mimetype": "text/x-python",
   "name": "python",
   "nbconvert_exporter": "python",
   "pygments_lexer": "ipython3",
   "version": "3.8.8"
  }
 },
 "nbformat": 4,
 "nbformat_minor": 5
}